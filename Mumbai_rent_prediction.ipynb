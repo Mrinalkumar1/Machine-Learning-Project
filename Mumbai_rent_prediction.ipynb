{
  "nbformat": 4,
  "nbformat_minor": 0,
  "metadata": {
    "colab": {
      "name": "Mumbai rent prediction",
      "provenance": [],
      "mount_file_id": "1KSYk8mnLIoFFRaA42nvED7WfrgZD-t9n",
      "authorship_tag": "ABX9TyOiJv2Tkcx96xxDWAkfr4f1",
      "include_colab_link": true
    },
    "kernelspec": {
      "name": "python3",
      "display_name": "Python 3"
    }
  },
  "cells": [
    {
      "cell_type": "markdown",
      "metadata": {
        "id": "view-in-github",
        "colab_type": "text"
      },
      "source": [
        "<a href=\"https://colab.research.google.com/github/Mrinalkumar1/Machine-Learning-Project/blob/main/Mumbai_rent_prediction.ipynb\" target=\"_parent\"><img src=\"https://colab.research.google.com/assets/colab-badge.svg\" alt=\"Open In Colab\"/></a>"
      ]
    },
    {
      "cell_type": "markdown",
      "metadata": {
        "id": "zKQnjCjLvgdk"
      },
      "source": [
        "**Here we have a dataset of Mumbai's rental flat and what we are going to do is analyze the dataset and try to come up with a prediction algorithm which will help us to predict the price of the flat when we input all the columns which make a difference to price of the flat. **\r\n",
        "\r\n",
        "https://www.kaggle.com/sufyanpatel/data-science-regression-project"
      ]
    },
    {
      "cell_type": "code",
      "metadata": {
        "id": "eWhsWa8IvbNl"
      },
      "source": [
        "import numpy as np\r\n",
        "import pandas as pd\r\n",
        "import seaborn as sns\r\n",
        "import matplotlib.pyplot as plt\r\n",
        "import math"
      ],
      "execution_count": 26,
      "outputs": []
    },
    {
      "cell_type": "code",
      "metadata": {
        "id": "_p_-S-n4vsZ9"
      },
      "source": [
        "df = pd.read_csv(\"/content/drive/MyDrive/ML Projects /Mumbai flats rent/prop_data_clean.csv\")"
      ],
      "execution_count": 27,
      "outputs": []
    },
    {
      "cell_type": "code",
      "metadata": {
        "colab": {
          "base_uri": "https://localhost:8080/",
          "height": 568
        },
        "id": "nFdLzde0v6MS",
        "outputId": "c20f4922-255b-4528-cdc8-bb5f2dc490e1"
      },
      "source": [
        "df.head()"
      ],
      "execution_count": 28,
      "outputs": [
        {
          "output_type": "execute_result",
          "data": {
            "text/html": [
              "<div>\n",
              "<style scoped>\n",
              "    .dataframe tbody tr th:only-of-type {\n",
              "        vertical-align: middle;\n",
              "    }\n",
              "\n",
              "    .dataframe tbody tr th {\n",
              "        vertical-align: top;\n",
              "    }\n",
              "\n",
              "    .dataframe thead th {\n",
              "        text-align: right;\n",
              "    }\n",
              "</style>\n",
              "<table border=\"1\" class=\"dataframe\">\n",
              "  <thead>\n",
              "    <tr style=\"text-align: right;\">\n",
              "      <th></th>\n",
              "      <th>area</th>\n",
              "      <th>bathroom_num</th>\n",
              "      <th>bedroom_num</th>\n",
              "      <th>city</th>\n",
              "      <th>desc</th>\n",
              "      <th>dev_name</th>\n",
              "      <th>floor_count</th>\n",
              "      <th>floor_num</th>\n",
              "      <th>furnishing</th>\n",
              "      <th>id</th>\n",
              "      <th>id_string</th>\n",
              "      <th>latitude</th>\n",
              "      <th>locality</th>\n",
              "      <th>longitude</th>\n",
              "      <th>post_date</th>\n",
              "      <th>poster_name</th>\n",
              "      <th>price</th>\n",
              "      <th>project</th>\n",
              "      <th>title</th>\n",
              "      <th>trans</th>\n",
              "      <th>type</th>\n",
              "      <th>url</th>\n",
              "      <th>user_type</th>\n",
              "    </tr>\n",
              "  </thead>\n",
              "  <tbody>\n",
              "    <tr>\n",
              "      <th>0</th>\n",
              "      <td>350.0</td>\n",
              "      <td>2.0</td>\n",
              "      <td>1</td>\n",
              "      <td>Mumbai</td>\n",
              "      <td>2 Bath,Unfurnished,East facing The project has...</td>\n",
              "      <td>NaN</td>\n",
              "      <td>NaN</td>\n",
              "      <td>NaN</td>\n",
              "      <td>Unfurnished</td>\n",
              "      <td>45349857</td>\n",
              "      <td>domcache_srp_45349857</td>\n",
              "      <td>19.201336</td>\n",
              "      <td>Malad West</td>\n",
              "      <td>72.825882</td>\n",
              "      <td>2020-01-11</td>\n",
              "      <td>Saurabh Patil</td>\n",
              "      <td>9000</td>\n",
              "      <td>NaN</td>\n",
              "      <td>1 BHK Apartment for Rent in Malad West</td>\n",
              "      <td>Rent</td>\n",
              "      <td>Apartment</td>\n",
              "      <td>/propertyDetails/1-BHK-350-Sq-ft-Multistorey-A...</td>\n",
              "      <td>Agent</td>\n",
              "    </tr>\n",
              "    <tr>\n",
              "      <th>1</th>\n",
              "      <td>652.0</td>\n",
              "      <td>2.0</td>\n",
              "      <td>1</td>\n",
              "      <td>Mumbai</td>\n",
              "      <td>2 Bath,Semi-Furnished,East facing A 1BHK apart...</td>\n",
              "      <td>Veena Group</td>\n",
              "      <td>NaN</td>\n",
              "      <td>NaN</td>\n",
              "      <td>Semi-Furnished</td>\n",
              "      <td>45960973</td>\n",
              "      <td>domcache_srp_45960973</td>\n",
              "      <td>19.410704</td>\n",
              "      <td>Vasai</td>\n",
              "      <td>72.833592</td>\n",
              "      <td>2020-01-11</td>\n",
              "      <td>Gorakh  Chavan</td>\n",
              "      <td>8060</td>\n",
              "      <td>Veena Dynasty</td>\n",
              "      <td>1 BHK Apartment for Rent in Veena Dynasty, Vasai</td>\n",
              "      <td>Rent</td>\n",
              "      <td>Apartment</td>\n",
              "      <td>/propertyDetails/1-BHK-652-Sq-ft-Multistorey-A...</td>\n",
              "      <td>Agent</td>\n",
              "    </tr>\n",
              "    <tr>\n",
              "      <th>2</th>\n",
              "      <td>635.0</td>\n",
              "      <td>2.0</td>\n",
              "      <td>1</td>\n",
              "      <td>Mumbai</td>\n",
              "      <td>2 Bath,Semi-Furnished,4 floor,West facing A be...</td>\n",
              "      <td>Agarwal Group</td>\n",
              "      <td>7.0</td>\n",
              "      <td>4.0</td>\n",
              "      <td>Semi-Furnished</td>\n",
              "      <td>46688849</td>\n",
              "      <td>domcache_srp_46688849</td>\n",
              "      <td>19.467032</td>\n",
              "      <td>Virar</td>\n",
              "      <td>72.801612</td>\n",
              "      <td>2019-12-13</td>\n",
              "      <td>Lokesh Joshi</td>\n",
              "      <td>8000</td>\n",
              "      <td>Agarwal Lifestyle</td>\n",
              "      <td>1 BHK Apartment for Rent in Agarwal Lifestyle,...</td>\n",
              "      <td>Rent</td>\n",
              "      <td>Apartment</td>\n",
              "      <td>/propertyDetails/1-BHK-635-Sq-ft-Multistorey-A...</td>\n",
              "      <td>Agent</td>\n",
              "    </tr>\n",
              "    <tr>\n",
              "      <th>3</th>\n",
              "      <td>540.0</td>\n",
              "      <td>2.0</td>\n",
              "      <td>1</td>\n",
              "      <td>Mumbai</td>\n",
              "      <td>2 Bath,Semi-Furnished,East facing Essential Se...</td>\n",
              "      <td>NaN</td>\n",
              "      <td>NaN</td>\n",
              "      <td>NaN</td>\n",
              "      <td>Semi-Furnished</td>\n",
              "      <td>44696119</td>\n",
              "      <td>domcache_srp_44696119</td>\n",
              "      <td>19.407257</td>\n",
              "      <td>Vasai East</td>\n",
              "      <td>72.836006</td>\n",
              "      <td>2020-01-13</td>\n",
              "      <td>Sajith  Thomas</td>\n",
              "      <td>8000</td>\n",
              "      <td>NaN</td>\n",
              "      <td>1 BHK Apartment for Rent in Vasai East</td>\n",
              "      <td>Rent</td>\n",
              "      <td>Apartment</td>\n",
              "      <td>/propertyDetails/1-BHK-540-Sq-ft-Multistorey-A...</td>\n",
              "      <td>Agent</td>\n",
              "    </tr>\n",
              "    <tr>\n",
              "      <th>4</th>\n",
              "      <td>625.0</td>\n",
              "      <td>1.0</td>\n",
              "      <td>1</td>\n",
              "      <td>Mumbai</td>\n",
              "      <td>1 Bath,Furnished,2 floor,North facing 24 hours...</td>\n",
              "      <td>Millennium Group</td>\n",
              "      <td>7.0</td>\n",
              "      <td>2.0</td>\n",
              "      <td>Furnished</td>\n",
              "      <td>46742851</td>\n",
              "      <td>domcache_srp_46742851</td>\n",
              "      <td>19.360215</td>\n",
              "      <td>Naigaon East</td>\n",
              "      <td>72.850167</td>\n",
              "      <td>2019-12-17</td>\n",
              "      <td>Charmaine  Gomez</td>\n",
              "      <td>9000</td>\n",
              "      <td>Mittal Enclave</td>\n",
              "      <td>1 BHK Apartment for Rent in Mittal Enclave, Na...</td>\n",
              "      <td>Rent</td>\n",
              "      <td>Apartment</td>\n",
              "      <td>/propertyDetails/1-BHK-625-Sq-ft-Multistorey-A...</td>\n",
              "      <td>Owner</td>\n",
              "    </tr>\n",
              "  </tbody>\n",
              "</table>\n",
              "</div>"
            ],
            "text/plain": [
              "    area  ...  user_type\n",
              "0  350.0  ...      Agent\n",
              "1  652.0  ...      Agent\n",
              "2  635.0  ...      Agent\n",
              "3  540.0  ...      Agent\n",
              "4  625.0  ...      Owner\n",
              "\n",
              "[5 rows x 23 columns]"
            ]
          },
          "metadata": {
            "tags": []
          },
          "execution_count": 28
        }
      ]
    },
    {
      "cell_type": "code",
      "metadata": {
        "colab": {
          "base_uri": "https://localhost:8080/",
          "height": 661
        },
        "id": "cVnKN8fFv77z",
        "outputId": "a571a6a2-79e4-4c7e-e392-72c4eb9b6021"
      },
      "source": [
        "plt.figure(figsize=(10,10))\r\n",
        "sns.heatmap(df.corr(), annot=True)\r\n",
        "plt.show()"
      ],
      "execution_count": 29,
      "outputs": [
        {
          "output_type": "display_data",
          "data": {
            "image/png": "[encoded data removed]",
            "text/plain": [
              "<Figure size 720x720 with 2 Axes>"
            ]
          },
          "metadata": {
            "tags": [],
            "needs_background": "light"
          }
        }
      ]
    },
    {
      "cell_type": "markdown",
      "metadata": {
        "id": "rx6H-37WwD7L"
      },
      "source": [
        "I went with df.corr in the very starting in order to see what columns I am supposed to get rid of. As we can see here \"id\", \"latitude\", \"longitude\" columns have very low correlation so we can just get rid of these columns in the very beginnng. "
      ]
    },
    {
      "cell_type": "code",
      "metadata": {
        "id": "F-xMftZ5wBHN"
      },
      "source": [
        "df.drop(['id','latitude','longitude','id_string','floor_count','floor_num'],axis=1, inplace=True)  #Dropping columns with low corr. "
      ],
      "execution_count": 30,
      "outputs": []
    },
    {
      "cell_type": "code",
      "metadata": {
        "colab": {
          "base_uri": "https://localhost:8080/"
        },
        "id": "HNeIgnrKwGCr",
        "outputId": "49d7793c-28a7-43f0-db02-406132a1578b"
      },
      "source": [
        "df.info()"
      ],
      "execution_count": 31,
      "outputs": [
        {
          "output_type": "stream",
          "text": [
            "<class 'pandas.core.frame.DataFrame'>\n",
            "RangeIndex: 34348 entries, 0 to 34347\n",
            "Data columns (total 17 columns):\n",
            " #   Column        Non-Null Count  Dtype  \n",
            "---  ------        --------------  -----  \n",
            " 0   area          33572 non-null  float64\n",
            " 1   bathroom_num  34334 non-null  float64\n",
            " 2   bedroom_num   34348 non-null  int64  \n",
            " 3   city          34348 non-null  object \n",
            " 4   desc          34338 non-null  object \n",
            " 5   dev_name      17349 non-null  object \n",
            " 6   furnishing    34338 non-null  object \n",
            " 7   locality      34140 non-null  object \n",
            " 8   post_date     34348 non-null  object \n",
            " 9   poster_name   34347 non-null  object \n",
            " 10  price         34348 non-null  int64  \n",
            " 11  project       20179 non-null  object \n",
            " 12  title         34338 non-null  object \n",
            " 13  trans         34318 non-null  object \n",
            " 14  type          34348 non-null  object \n",
            " 15  url           34338 non-null  object \n",
            " 16  user_type     34348 non-null  object \n",
            "dtypes: float64(2), int64(2), object(13)\n",
            "memory usage: 4.5+ MB\n"
          ],
          "name": "stdout"
        }
      ]
    },
    {
      "cell_type": "code",
      "metadata": {
        "colab": {
          "base_uri": "https://localhost:8080/"
        },
        "id": "pHZUEoJmwHxL",
        "outputId": "6c6da6aa-a45f-4dca-9aab-c03c02089ee7"
      },
      "source": [
        "print(\"total number of rows: \",len(df))\r\n",
        "print(\"\\n\")\r\n",
        "print(\"Number of null rows\\n\",df.isnull().sum())"
      ],
      "execution_count": 32,
      "outputs": [
        {
          "output_type": "stream",
          "text": [
            "total number of rows:  34348\n",
            "\n",
            "\n",
            "Number of null rows\n",
            " area              776\n",
            "bathroom_num       14\n",
            "bedroom_num         0\n",
            "city                0\n",
            "desc               10\n",
            "dev_name        16999\n",
            "furnishing         10\n",
            "locality          208\n",
            "post_date           0\n",
            "poster_name         1\n",
            "price               0\n",
            "project         14169\n",
            "title              10\n",
            "trans              30\n",
            "type                0\n",
            "url                10\n",
            "user_type           0\n",
            "dtype: int64\n"
          ],
          "name": "stdout"
        }
      ]
    },
    {
      "cell_type": "code",
      "metadata": {
        "colab": {
          "base_uri": "https://localhost:8080/"
        },
        "id": "zBhES6VtwJ8Y",
        "outputId": "d094d8e5-360f-4a5f-8589-36d139638a5f"
      },
      "source": [
        "for col in df:\r\n",
        "  print(col, df[col].unique())"
      ],
      "execution_count": 33,
      "outputs": [
        {
          "output_type": "stream",
          "text": [
            "area [350. 652. 635. ... 150. 663. 642.]\n",
            "bathroom_num [ 2.  1. nan  3.  4.  5.  6.  7.  8.]\n",
            "bedroom_num [1 4 3 5 2]\n",
            "city ['Mumbai']\n",
            "desc ['2 Bath,Unfurnished,East facing The project has 1 elevator for residents in a tower. There is No/Rare Powercut 24 Hours Available water supply.'\n",
            " '2 Bath,Semi-Furnished,East facing A 1BHK apartment is available for rent in vasai east mira road and beyond. This apartment is on the 7th of 7 floors in veena dynasty. This 15 year old property has a super builtUp area of 652 sq. Ft. This is an unfurnished apartment.This apartment comes with 2 bathrooms. The apartment with 2 balconiesIs available to only families.It is a fengShuivaastu compliant property. The apartment with ceramic flooring. This is an east facing apartment. With features like intercom facility lifts maintenance staff park securityfire alarm and water storage the society offers a convenient living. It also has other features like waste disposal.This property is in a gated society and has full power back up. The society has various amenities like security personnel and park.The expected monthly rental is rs. 8060. Some of the additional costs include security of rs. 40K Fixed. The brokerage amount is rs 8k FixedThe booking amount is rs. 5K.'\n",
            " '2 Bath,Semi-Furnished,4 floor,West facing A beautiful 1 bhk apartment in Virar West, Mira Road And Beyond. The property is a part of agarwal lifestyle . It is a resale property in a promising locality. This welldesigned new property is ready to move in. It is located on the 4th floor. The property ownership is freehold type and has a super builtup area of 635 Sq. Ft.ready to move'\n",
            " ...\n",
            " '2 Bath,Semi-Furnished,4 floor,North facing 1 BHK, Multistorey Apartment is available for Rent in Virar, Mumbai for 6,500'\n",
            " '2 Bath,Semi-Furnished,4 floor 1 BHK, Multistorey Apartment is available for Rent in Virar, Mumbai for 6,500'\n",
            " '2 Bath,Unfurnished,7 floor,South -West facing 2Bhk for rent in Bandra west  main Carter road  ::flat on higher floor  ::nice view for the flat ::well mention  building ::with 1car parking ::::for more details ::contact : R R Real Estate']\n",
            "dev_name [nan 'Veena Group' 'Agarwal Group' 'Millennium Group' 'Poonam Developers'\n",
            " 'Evershine Builders' 'Bahavni Group' 'Bachraj Developers'\n",
            " 'Mehta Builders Pvt Ltd' 'KM Group' 'Agarwal Builder' 'Raunak Group'\n",
            " 'Lucky Homes' 'Sai Shakti Group' 'Sai Group' 'Mahavir Group'\n",
            " 'Parikh Group' 'Rashmi Realty Builders Pvt. Ltd' 'Arkade Group'\n",
            " 'Strawberry Construction' 'RNA NG Builders' 'Kinjal Group'\n",
            " 'M Baria Developers' 'Hubtown Limited' 'Chheda Group'\n",
            " 'Cooperative Group Housing Society' 'JP Infra'\n",
            " 'Gujarat Group Builders & Developers and A.G. Superstructures Pvt. Ltd.'\n",
            " 'The Wadhwa Group' 'SKD Realty LLP' 'Kalpataru Limited' 'PNK Builder'\n",
            " 'Unique Shanti Developers LLP' 'Royal Palms' 'Shree Laxmi Developers'\n",
            " 'Leena Group' 'HDIL' 'Shapoorji Pallonji Real Estate' 'AAP Realtors Ltd'\n",
            " 'Rustomjee' 'Acme Group' 'Park View Developers' 'Sanghvi Premises'\n",
            " 'Gurukrupa Group' 'CCI Projects Pvt. Ltd.'\n",
            " 'SD Corporation Private Limited' 'Neptune Group'\n",
            " 'Kanakia Spaces Realty Pvt. Ltd.' 'Grandeur Developer'\n",
            " 'Nirmal Life Style' 'Raheja Universal Pvt Ltd.' 'Bren Corporation'\n",
            " 'Aadi Properties' 'Runwal Developers' 'BTM Developers'\n",
            " 'Omkar Realtors and Developers Pvt. Ltd.' 'Raheja Developers Ltd.'\n",
            " 'Sunteck Realty Limited' 'DB Realty Limited' 'Thakur Group'\n",
            " 'Hiranandani Group' 'Aster Group' 'Nirmals Constructions'\n",
            " 'K Raheja Construction' 'Mayfair Housing' 'Sheth Creators'\n",
            " 'Sharapova pvt Ltd' 'Lokhandwala Infrastructure' 'Ekta World'\n",
            " 'Bhoomi Group' 'Kaul Builder And  Developer' 'Ravi Group' 'Scn Group'\n",
            " 'Sanghvi Group Of Companies' 'Aditya Developers' 'Cosmos Group'\n",
            " 'Ravi Group Of Builders And Developers' 'Shanti Developers' 'Nahar Group'\n",
            " 'Pradeep Associates' 'Sagar Builders' 'Srishti Group'\n",
            " 'Ameya Builders and Property Developers And M. Baria Developers'\n",
            " 'Mahada Developer' 'I S A Enterprises' 'Ostwal Builders'\n",
            " 'Salangpur Nirmaan' 'Ritu Developer' 'Rashmi Housing Pvt Ltd.'\n",
            " 'Lodha Group' 'HCBS Developer' 'Lalit Dharmani Group' 'Concrete Builders'\n",
            " 'Mahindra Lifespace Developers Ltd.' 'Satyam Developers'\n",
            " 'Transcon Sheth Creators' 'Godrej Properties' 'Kabra Group'\n",
            " 'Dev Land Housing' 'KIA Groups' 'Meera Builders Realty Group'\n",
            " 'Supreme Universal' 'Safal Group' 'K Raheja Corp' 'Ashok Jogani'\n",
            " 'DLH Group' 'Radius Developers' 'Hetali Group' 'Silver Group'\n",
            " 'Samarth Development Corporation' 'Panorama Group'\n",
            " 'B Safal Constructions India Pvt. Ltd.' 'Radius Group' 'Sabari Group'\n",
            " 'Adani Realty' 'L&T Realty' 'Dynamix Group' 'Sheth Developers'\n",
            " 'HDIL Group' 'The Dynamix Group' 'Ajmera Realty & Infra India Ltd.'\n",
            " 'Rajesh LifeSpaces' 'Neelkanth Group' 'Kukreja Construction Company'\n",
            " 'Shiv Shakti Group' 'Tridhaatu Realty and Infra Pvt. Ltd.'\n",
            " 'Ajmera Realtyand Infra India' 'Oberoi Realty Limited' 'DOSTI REALTY'\n",
            " 'AUM Group' 'Ajmera Realty and Infra' 'Elpro International'\n",
            " 'Aristo Realty Developers Limited'\n",
            " 'Bharat Infrastructure and Engineering' 'Bombay Realty' 'Lake Homes'\n",
            " 'Spark Developers' 'Raj Developer' 'Golden Nest Builders & Developers'\n",
            " 'Adity Group' 'Kalptaru Construction' 'Bachhers Developers'\n",
            " 'Swastik Group' 'Windsor Realty' 'San Group' 'MSL Group' 'Dheeraj Realty'\n",
            " 'RNA Corp' 'Hilla Builder Pvt. Ltd.' 'Seasons Group' 'Sumer Group'\n",
            " 'Peninsula Land' 'Kamala Group' 'Shrey Associates'\n",
            " 'Peninsula Land Limited' 'Indiabulls Distribution Services Limited'\n",
            " 'Atul Projects' 'BlackStone Housing and Infrastructure Private Limited'\n",
            " 'Chaitanya Group' 'Shree Developers' 'Makers Developers'\n",
            " 'Indiabulls Real Estate' 'Emgee Group' 'Orbit Corporation Ltd.'\n",
            " 'Rizvi Group' 'Shree Naman Group' 'Orbit Corporation' 'AVIGHNA GROUP'\n",
            " 'Fair Deal Infrastructure' 'Moksh Developers' 'Suntech Realty Limited'\n",
            " 'B Brothers' 'India Bulls Real Estate Limited.' 'Satguru Developers'\n",
            " 'Shethcorp Pvt. Ltd.' 'Suntrek Corporation' 'Ahuja Constructions'\n",
            " 'AVM Developers Private Limited' 'Shahpoorji Palloinji Construction'\n",
            " 'Sahakar Global Ltd' 'Raj Realty Group' 'Sadguru Developers' 'Man Realty'\n",
            " 'PATEL GROUP & CO.' 'Unity Group' 'Sarvoday Developer' 'Rajhans Group'\n",
            " 'Gundecha Developers' 'Basudeo Builders' 'Mahavir Construction'\n",
            " 'JB Infrastructures' 'Salangpur Group' 'Arindham Muntech' 'Samrath Group'\n",
            " 'Surya Constructions' 'Space Construction' 'Ankur Builders'\n",
            " 'Jangid Group' 'Spenta Corporation' 'Kothari Builders and Developers'\n",
            " 'RMP Developer' 'Ramdev Properties Pvt. Ltd.' 'Rahi Group' 'RR Builders'\n",
            " 'Arihant Developers' 'DV Group' 'Raj Realty' 'GOLDSTAR GROUP'\n",
            " 'Shree Ostwal Builders Ltd.' 'Abhay Groups Developer' 'Span Group'\n",
            " 'Shree Aditya Estate' 'Royal Realtors Group of Companies'\n",
            " 'Shree Sai Usha Developer' 'Spring Developers'\n",
            " 'Jasmina Constructions Pvt Ltd' 'Gundecha Developing Milestone'\n",
            " 'Sheth Enterprises' 'Lokhandwala Construction Industries Pvt Ltd'\n",
            " 'Mhada Group' 'Neminath Group' 'Shraddha Landmark' 'Siddharth Group'\n",
            " 'Abhay Builders' 'Mahad' 'Siddhi Infrastructure' 'RNA'\n",
            " 'Palam spring of groups' 'JK Developers' 'Joy Builders and Developers'\n",
            " 'Ocean Group' 'Gharkul Developer' 'Blossom Groups'\n",
            " 'Tala Bhai Patel Builders' 'Keemaya and MLH' 'Adinath Group'\n",
            " 'Bhatia Group Pvt Ltd' 'Ritej Associates' 'Delta Realty'\n",
            " 'Highland and development' 'Siddhi Developers' 'Lokhandwala Group'\n",
            " 'Libra Group' 'Kukreja Builders' 'Buddha Enterprises'\n",
            " 'Silver Sea Development of Group' 'Keemaya Build Pvt Ltd'\n",
            " 'Mayuresh Group' 'Lok Housing and Constructions Ltd.' 'Parashar Builder'\n",
            " 'Peerless Construction Pvt. Ltd' 'Satellite Builders Private Limited'\n",
            " 'Atul Builders' 'Jain Group' 'UMIYA Group' 'GK Realtors'\n",
            " 'Sethia Infrastructure' 'Mahadev & Company Pvt Ltd' 'Kartikey Group'\n",
            " 'Eiffel Developers and Realtors Limited' 'Gupta Developers'\n",
            " 'Dheeraj Group' 'Kashi Builder' 'Mantri Realty' 'Ashok Group'\n",
            " 'Suyog Developers' 'Ecohomes' 'Shree Adiraj Laxmi Builders Pvt. Ltd.'\n",
            " 'R K Builders' 'Jai Durga Builders' 'Royal Realtors Group' 'Rattan Group'\n",
            " 'Neha Group' 'Raj Arcades Homes and Sethia Infrastructure'\n",
            " 'Ashray Realtor' 'Jyoti Builders' 'Veena Developers'\n",
            " 'Lokhandwala Developer' 'Gundecha' 'KGN Builders'\n",
            " 'Haware Tilak Nagar Building' 'Adinathay Enterprises'\n",
            " 'Panchsheel Builtech Pvt Ltd.' 'RNA Corporation' 'GHP Group'\n",
            " 'Rite Developers Pvt Ltd.' 'Beauty Group' 'SURYAKIRAN ENTERPRISES'\n",
            " 'Kshitij Builders & Developers' 'Roswalt Gorup'\n",
            " 'Sumit Builder and Developer' 'Lok Group'\n",
            " 'Kamanwala Housing Construction Ltd.' 'Vas Infrastructure Ltd'\n",
            " 'Nav Neelima Builders' 'Heena Builders' 'Golders Group'\n",
            " 'Mauli Sai Developers Pvt Ltd' 'Audumber Developers'\n",
            " 'Samarth Krupa Developers' 'Crescent Group Of Companies'\n",
            " 'Amann Infradevelopment Ltd' 'Charisma Builders Ltd.' 'Accord Group'\n",
            " 'Reliable Group' 'JEM World Group' 'White House Developers'\n",
            " 'K Bhatia Construction' 'AD Pawar Builders' 'SB Group' 'Avant Group'\n",
            " 'DGS Group' 'Marathon Realty Pvt Ltd' 'Ahuja Group' 'Avon Group'\n",
            " 'Ashford Group' 'Romell Group' 'Vivaria Global Developers'\n",
            " 'ATUL  Projects' 'Jaydeep Group' 'Raj Developers' 'Lalani Group'\n",
            " 'Jay Builders And Developers' 'Dimples Realtors Pvt. Ltd.'\n",
            " 'Adarsh Developers' 'Anchor Realty' 'Surya Group' 'Giriraj Enterprise'\n",
            " 'Sadguru Group Builders & Developers' 'Riddhi Siddhi Developers'\n",
            " 'Poonam Group' 'Amisha Associates' 'Rock Development Group'\n",
            " 'Skyline Greathills' 'Ekta Group of Construction' 'Chirayu Builder'\n",
            " 'Bhardwaj Builders' 'Tirupati Balaji Builcon Pvt. Ltd'\n",
            " 'Tulip Infratech Pvt. Ltd.' 'Lokhandwala Constructions' 'K Patel Group'\n",
            " 'Mavji Builders And Developers' 'CD CHS Ltd' 'Ganraj Construction'\n",
            " 'D V Group' 'Integrated Spaces Limited ' 'Sai Developers'\n",
            " 'Shree Mahalaxmi Developers' 'Marathon Group' 'Neo Developers Pvt Ltd'\n",
            " 'Vini Group' 'Lalani Builders And Developers' 'Gemstar Constructions'\n",
            " 'Shree Riddhi Siddhi Group' 'Hill Group' 'Yashraj Developer'\n",
            " 'Rohan Builders & Developers Pvt. Ltd.' 'House of Hiranandani'\n",
            " 'Akurli Developer' 'Aakar Developers' 'Vrindavan Realtors'\n",
            " 'Sunrise Group' 'Sanghvi Land Developers Pvt Ltd.'\n",
            " 'Damji Hari Constructions' 'SAB Developers' 'Sharada Group'\n",
            " 'Right Channel Construction Pvt. Ltd.'\n",
            " 'Bombay Real Estate Development Company' 'Keshav Vitthal Sonawane'\n",
            " 'Romell Real Estate Pvt Ltd' 'The Advantage Raheja'\n",
            " 'Aashish Promotors & Builders' 'Prathana Builders And Developers'\n",
            " 'Zara Habitats Llp' 'Acme Builders Pvt Ltd'\n",
            " 'Sagar Kanya Owners and Residents Group' 'Pushp Developers'\n",
            " 'K Hemani Group' 'Pranjee Group' 'GHP Corporation' 'Orbit Construction'\n",
            " 'The Baya Company' 'Kiran Builders' 'Jain Builders' 'Neha Developer'\n",
            " 'Universal Group' 'Sahyadri Developers' 'Ahimsa group' 'Conwood Realty'\n",
            " 'Milind and Associates' 'Ajmera Group' 'Roha Builders'\n",
            " 'Matra Realty Ltd.' 'Sunshine Infra'\n",
            " 'SD Bhalerao Constructions Private Limited' 'AVN Group' 'The 3C Company'\n",
            " 'Seth Builders' 'Arvind Jain Developer'\n",
            " 'HOUSING DEVELOPMENT AND INFRASTRUCTURE LTD' 'Shirin Developer'\n",
            " 'Shah Group' 'Modi Spaces Group' 'Shree Mahalaxmi Group' 'SMGK Group'\n",
            " 'Rachana Astra Construction Pvt. Ltd.' 'Sopariwala Group'\n",
            " 'Kumar Developers' 'Shree Sejal Construction' 'M R Realtors' 'SD Group'\n",
            " 'Starlight Builders Groups' 'Achord Estic Pvt.Ltd' 'Malani Developers'\n",
            " 'ATLANTA LIMITED' 'SB Abodes' 'Seth Developer' 'Onkar Developer'\n",
            " 'Nirmal Lifestyle' 'Satra Group' 'Sristi Builders And Developers'\n",
            " 'Halai Custruction' 'Patel Builders' 'Rodium Realty Ltd.'\n",
            " 'Aayush Developers' 'Rushi Builder and Developer' 'vastu builders'\n",
            " 'Bholenath Developers Ltd.' 'Kateeleshwari Developers' 'Shreedham Group'\n",
            " 'Vijay Group' 'NPL' 'Damji Shamji Shah Group' 'Kukreja construction'\n",
            " 'Goodbuild Developers' 'Platinum Corp' 'Joy Infrasturcture'\n",
            " 'Solitaire Group' 'Ornate Universal' 'K PATEL REALTY'\n",
            " 'Powai Builders and Developers' 'Sethi Group' 'R.K. Jain Builders'\n",
            " 'Silver Stream Developer' 'RK Construction' 'Sai Life' 'Rushi Group'\n",
            " 'Radhe Krishna Heritage' 'Kumar Builders' 'Aditya Enterprises'\n",
            " 'Srishti Construction' 'Fine Spaces Developers' 'V.R. Mittal Pvt. Ltd.'\n",
            " 'Shree Krishna Group' 'K.Raheja. Constructions' 'Sanghvi Realty '\n",
            " 'Sadguna Realty' 'Guru Group' 'Prince Developers'\n",
            " 'Raj Homes Pyramid Group' 'Jsr group' 'Arok Construction'\n",
            " 'Alamdar Infrastructure Pvt. Ltd.' 'Cresent Developers' 'Eco Homes'\n",
            " 'Crescent Group' 'Darsshan Properties' 'Omkar Realtors' 'Red Rose Group'\n",
            " 'The Gundecha Group' 'Patel Builders & Developers' 'Godrej Constructions'\n",
            " 'Kotari' 'Sadguru Group Housing & Infrastructure' 'Ram Developers'\n",
            " 'Sanaya Realties Pvt Ltd.' 'Ghar Sahil And Development'\n",
            " 'Ajmera Cityscapes' 'S B Abodes Private Limited'\n",
            " 'Shagun Construction Pvt. Ltd.' 'Dipti Home Makers Pvt Ltd'\n",
            " 'Unique Developer' 'Akruti Group' 'Aditi Builders' 'Deepak Developers'\n",
            " 'TATA Housing Development Company Limited' 'Divine Space'\n",
            " 'Shree Sai Developers' 'AUM Developers' 'Ashish Estates & Properties'\n",
            " 'Kn Pokar Construction' 'Bhoomi Pujan Builders and Developers'\n",
            " 'DB Developers' 'Kamanwala Industries' 'Chandak Group' 'Gosalia builders'\n",
            " 'Nyati Group' 'Rubberwala Housing & Infrastructure Ltd'\n",
            " 'Aaditya Relators' 'Cosmic Structure' 'Kapcon Builders' 'Rizvi Builders'\n",
            " 'Nathani Group' 'Indra Darshan Developer' 'Dosti Realty'\n",
            " 'Motiwala Builder' 'Reliaable Developers' 'Dynamic Developers'\n",
            " 'Rubber Wala Developer' 'Girnar Builders & Developers'\n",
            " 'Samruddhi Builder' 'Blue Castle Developer Pvt. Ltd.' 'Redstone Group'\n",
            " 'Royale Developers' 'D Kapoor Land Developers' 'C K Group'\n",
            " 'AP Properties' 'RVZ Group' 'Siddharth Developers'\n",
            " 'JRS Sleter Private Limited' 'Divine Space Pvt Ltd and  Amal Group'\n",
            " 'Om Group' 'Aksee Real Estate' 'Sarkar Group' 'Landmark Group'\n",
            " 'Radhekrishna Developers' 'Rohan Lifescapes Group'\n",
            " 'Matoshree Infrastructure Pvt. Ltd.' 'Vasudha Buildcon' 'Sugee Group'\n",
            " 'Shiv Developers' 'Kalpatru' 'Sanjay Jain Developer Group'\n",
            " 'Shree Yogeshwar Builders And Developers' 'Neumec Group'\n",
            " 'Sapphire Builders' 'Jayanth Group' 'Riddhi Developers' 'Inder Group'\n",
            " 'KN Builders' 'Jaycee Homes Ltd' 'Nilesh Construction' 'Aman Builders'\n",
            " 'Lakhani Builders' 'Shiv Mangal Developers' 'Gyaneshwar Builder'\n",
            " 'Krypton Developer' 'Reliable HomeMakers' 'Unicorn Global' 'JSB Group'\n",
            " 'Laxmi Housing Builders and Developers' 'Avvesh Developers LLP'\n",
            " 'Laxmi Housing' 'Kailash Corporation' 'Midas Buildcon'\n",
            " 'Vinay Unique Developers' 'Mandar Group' 'Raj Maitry & Eskon Developers'\n",
            " 'Divyaraj Developers' 'Gaurav Of Groups and Development'\n",
            " 'Sai Swapn Developers' 'Sumit Group' 'Mandar Housing Pvt. Ltd.'\n",
            " 'Shree swastik group'\n",
            " 'Sai Ornate Developers Ornate Infra Holdings P Ltd.' 'Apex Group'\n",
            " 'Sridutt Constructions' 'Vikram Group' 'Rai Residency Pvt. Ltd'\n",
            " 'Rawal Group' 'Eric Group' 'Navkar Developers' 'Avaas Group'\n",
            " 'Stable Evershine Builders' 'Vinay Unique Group' 'Bachraj Group'\n",
            " 'Yashwant Constructions' 'Durga Builder and Developers'\n",
            " 'Sun Realty & Hospitality' 'RNA NG' 'Aims Promoters Pvt. Ltd.'\n",
            " 'Bhatia Builders & Developers' 'Reputed Builder' 'Manish Developers'\n",
            " 'Space Realty' 'Chethan Builders and Developers'\n",
            " 'Pratik Group Of Companies' 'Hillsboro Realty' 'Akruti Developers'\n",
            " 'Buddha Developers' 'Hiral Homes' 'Jainam Developers'\n",
            " 'NG Group Developer' 'Sanghvi Group' 'Chandra Development'\n",
            " 'Mohanani Builders' 'SM Developers' 'SDC' 'Shelter Group' 'Kesar Group'\n",
            " 'Aditya Group' 'Om Sai Developers'\n",
            " 'SAI DEEP CONSTRUCTIONS and SHIV SHAKTI BUILDERS & DEVELOPERS'\n",
            " 'Madhu Developers' 'West View  Development' 'Sangavi Group of Companies'\n",
            " 'SK Heights Pvt. Ltd' 'Kalpataru Properties Thane Pvt ltd' 'RNA Group'\n",
            " 'Laxman Developers' 'Ssakash Developers & Builders Pvt Ltd'\n",
            " 'Benzer Group' 'Sea Princess' 'DSK Developers' 'Laxmi Group'\n",
            " 'Dhaval Developers' 'Girdhar Builders' 'Dinesh Agrawal'\n",
            " 'Chandiwala Group' 'Surbhi Group' 'Darshan Group' 'Shree Constructions'\n",
            " 'Sadguru Group' 'Raj Group' 'Accel Group' 'Rajendra Builders Pvt Ltd.'\n",
            " 'Tech park Construction' 'Akar Realty' 'Neelyog Builders Pvt. Ltd'\n",
            " 'Jinay Group' 'Dilip Group' 'Poddar Matushree Group'\n",
            " 'Lucent Infra Projects Pvt. Ltd.' 'KT Group' 'Konark Shakti Group'\n",
            " 'Padmavati Developers' 'Town Developers' 'Surabi Home Promoters'\n",
            " 'Lokhandwala Builders' 'Shreenathji Developer' 'Gundecha Group'\n",
            " 'Vakratunda Group' 'D D Properties' 'Marathon Builder' 'Raja Builders'\n",
            " 'Shakti and Group of Developer' 'Tara Group' 'Mumbai Shelters'\n",
            " 'Neelam Realtors Pvt Ltd.' 'krishna Vastu Developers and Groups'\n",
            " 'Vasudev Builders' 'Mamtora Foundation' 'Rishabh Raj Group'\n",
            " 'Navkar Grooup' 'Coral Builders and Developers' 'Bhagwati Developers'\n",
            " 'K Raheja Universal' 'Gokul Builders and Developers'\n",
            " 'Mahaveer Construction' 'Chakala' 'Shreeji Group' 'Radha Group'\n",
            " 'Nalanda Development' 'Fairmont Constructions Pvt. Ltd' 'JP Developers'\n",
            " 'Red Brick Group' 'Prakash Homes' 'Parth Constructions'\n",
            " 'Kaustubh Construction Pvt. Ltd.' 'Group Seven' 'K Raheja Realty'\n",
            " 'Sea Princess Realty' 'Evershine Group' 'Greenville Groups'\n",
            " 'Saibaba Builders And Developers' 'Panchseel Developer' 'DSS Group'\n",
            " 'Nha infra' 'MM Group' 'Yogi Developers' 'Rajesh Builders'\n",
            " 'Shree Shakun Realty Pvt. Ltd' 'AJMERA' 'Aaress realty'\n",
            " 'Harmony Lifestyle Group' 'Concrete Group' 'Neelam Realtors'\n",
            " 'Housing Development & Infrastructure' 'Drushti Group'\n",
            " 'Bajaj International Realty Pvt. Ltd.' 'Westin Developer Private Limited'\n",
            " 'D Group' 'Sonal Reality' 'Dedhia Group' 'Can Group'\n",
            " 'Dev Land Housing Ltd' 'Prima Terra Buildtech' 'Golden Developers'\n",
            " 'Manish Group' 'Bhawani Group' 'PR Developers' 'Dipti Builder'\n",
            " 'Arihant Group' 'S D CORPORATION PVT. LTD.' 'Neel Group'\n",
            " 'Dev Krupa Enterprises' 'Paras Porwal Developer' 'Zaveri Construction'\n",
            " 'Heritage Builders' 'SMC Realty' 'Eskay Group'\n",
            " 'Goyal Properties and Builders' 'Adinath Enterprise'\n",
            " 'Ashford Group Builders' 'Goratia Developer' 'Prime Rose Developer'\n",
            " 'Samartha Group' 'City Group' 'Prathamesh Krupa Buildcon Pvt Ltd'\n",
            " 'Pride Purple Properties' 'Benhur Developer' 'Dotom Realty'\n",
            " 'Deepali Developer' 'Shilpriya Builders And Developers'\n",
            " 'Asshna Developers' 'Kamla Landmarc Group' 'Ayyappa Construction Co'\n",
            " 'Sumeru Buildcon Private Limited' 'Sai Group of Developers'\n",
            " 'Maredian Realtors Pvt Ltd.' 'Haware' 'Neelkanth Developers'\n",
            " 'GHP Builders And Developers' 'PIL Developers Pvt Ltd' 'Serenity Groups'\n",
            " 'Bolenath Developer' 'Shree Dham Construction'\n",
            " 'Maharaja Surajmal Developer' 'Soni Builders & Developers'\n",
            " 'Sai Developer' 'Ramlaxman Developer' 'DLH' 'B.N.K.R.Developers pvt ltd'\n",
            " 'Abrol Builders' 'Hirapara Developers' 'Garodia Group'\n",
            " 'Lashkaria Construction Company Private Limited'\n",
            " 'Nidhaan Buildcon Pvt Ltd.' 'Vaidehi Group' 'DLH Developers'\n",
            " 'Spenta Builders' 'Anchor Properties' 'Ground Reality' 'Harasiddh Group'\n",
            " 'Kohinoor Group' 'H K Pujara Builders' 'Sundervan Group' 'GPRS Realty'\n",
            " 'Navjivan Group' 'Motwani Builders' 'Saibaba Developer'\n",
            " 'Lakshachandi Realty' 'JV Construction' 'ASMITA Group'\n",
            " 'Gulmohar Builders' 'Unatti Builder' 'Man Infraconstruction Limited'\n",
            " 'Dudhwala Constructions' 'Rushabh Developers' 'Tanish Developer'\n",
            " 'A & O Realty Ltd.' 'Bhagya Developer' 'Bharat Builders'\n",
            " 'Tridhaatu Realty & Infra Pvt. Ltd.' 'Trishul Builders' 'Ekta Developers'\n",
            " 'Mane Developers' 'CICC Builders' 'Samir Group' 'Morya Group'\n",
            " 'Arch Eden Developer' 'Pioneer Group' 'Pattathu Brothers'\n",
            " 'Nahar Project And Developers' 'Paradise Resident Association'\n",
            " 'Nahar Builders & Developers' 'Empire Developers' 'Shamik Enterprises'\n",
            " 'Vaibhav properties' 'Millionaire Group Of Companies'\n",
            " 'Antariksh Realtors Pvt Ltd' 'Neev Infrastructure' 'Crystal Group'\n",
            " 'Shreeji Construction' 'Starwing Developers Pvt. Ltd.' 'Heritage Group'\n",
            " 'Kohinoor Developer' 'Budhawani Builder' 'Anik Developer'\n",
            " 'Umang Realtech' 'Ruparel Realty' 'JP group'\n",
            " 'Arista Builders And Developer' 'SK Builders' 'Kohinoor Associates'\n",
            " 'Sunshine Builders' 'Nilam Sudha' 'Amann Group' 'Razak Builder'\n",
            " 'Leo Builder and Developer' 'Pannalal Developer'\n",
            " 'Rubberwala Housing and Infrastructure' 'Omkar Realty'\n",
            " 'Jet Infraventure Limited' 'Merchant Developers' 'Utpal Group' 'RJ Group'\n",
            " 'Atharva Developers and Builders' 'Vardhaman Group' 'Parasmani Developer'\n",
            " 'Karnani Group of Companies' 'CMG Constructions'\n",
            " 'Mohini Sheltors Pvt Ltd' 'Mittal Builders' 'Happy Home Group'\n",
            " 'Darvesh Group' 'SV Developers' 'Bhoomi Reality' 'Patel Enterprises'\n",
            " 'Wellingdon Groups' 'Pioneer Developers' 'Salvation Group'\n",
            " 'Micron Developers' 'Siddhivinayak Constructions' 'Krishna Developers'\n",
            " 'RE Infra' 'Gorwani Builders' 'Marathon' 'Mantri Developers Pvt. Ltd.'\n",
            " 'Shree Chamunda Realtors' 'Magnum Developers' 'Tanishq Builders'\n",
            " 'Prem Developers' 'Saigal Constructions' 'Bhagirath Group' 'L M Builders'\n",
            " 'Kokil Group' 'AP Realty Ltd.' 'Elco Builders'\n",
            " 'Chandra Builders and Developers' 'Orchid Builders'\n",
            " 'Sheetal Builders and Developers' 'Ariisto Realtors'\n",
            " 'Sethna Constructions' 'Marathon NextGen Realty Ltd.' 'Lloyads Group'\n",
            " 'Dhan Lakhani Realty' 'Deep Homes Developers' 'Maharaja Developer'\n",
            " 'Shiv Shakti Corporation' 'Brindavan Builders'\n",
            " 'Abhijit Realtors and Infraventures Pvt. Ltd.' 'Poonam Estate'\n",
            " 'Friends Associates' 'Sethia Group' 'Prerana Housing & Developers'\n",
            " 'Prem Group' 'Atul Corporates' 'A Shapoorji Pallonji' 'Kamal Joshi Group'\n",
            " 'Vishva Group' 'Siddhivinayak Developers' 'Rashmi Infrastructure'\n",
            " 'Paranjape Schemes Construction Limited'\n",
            " 'Modispaces Real Estate Pvt. Ltd.' 'Ashapura Housing Corporation Ltd.'\n",
            " 'Roha Infrastructure Developers Pvt. Ltd.' 'Shree Chamunda Enterprises'\n",
            " 'Universe Developer' 'Puranik Builders' 'Transcon Developers'\n",
            " 'Trifecta Projects' 'Sahajanand Infrastructure Pvt. Ltd.'\n",
            " 'JE & VEE Infrastructure' 'BHANSALI GROUP' 'Sankalp Group' 'Vikas Group'\n",
            " 'Shree Ananta Developers' 'Balan and Chheda Developers Pvt. Ltd'\n",
            " 'Skyline Group' 'Vision Associate' 'Dipti Group' 'Rupal Builder'\n",
            " 'Jay Singh Builder' 'Shri Ganesh Developers' 'Ambe Bhavan Group'\n",
            " 'RK Builders' 'ABHISHEK SHELTERS LTD.' 'Kamla Landmarc Construction'\n",
            " 'Harish Real Estate & Property Consultant' 'Parasnath Group'\n",
            " 'MAAD Realtors and Infra Ltd' 'Sumit Developer' 'Nirmal Builders'\n",
            " 'Gulmohar Developers' 'Sumatinath Builders' 'Shakti Group'\n",
            " 'Sai Rydam Group' 'Vinay Unique' 'Viaan Group' 'Ritu Group'\n",
            " 'Mahalaxmi Group of Companies' 'Mira Dharti Group' 'Vimal Group'\n",
            " 'Nine Realty services' 'Kamdenu Developer' 'Shree Sai Bhoomi Realtors'\n",
            " 'Zee Infra Group' 'Hills Developer' 'Amal Group' 'Sai Builders'\n",
            " 'Everest Group' 'Sky Pan Group' 'Tridhaatu Realty' 'Vijay Khetan Group'\n",
            " 'Khandelwal Group' 'Raheja Developers' 'Transcon Group' 'Amrut Group'\n",
            " 'Suraj Estate Developers Pvt Ltd' 'Mittal Universal' 'W & M Group'\n",
            " 'Avarsekar Builder' 'Samartha Development Corporation' 'Leocadia Group'\n",
            " 'Patel Developers' 'Mitta Group' 'Ansal Buildwell Limited'\n",
            " 'Options Group' 'Satellite Developers Pvt Ltd' 'Kripa Developers'\n",
            " 'VVA Vision Realtors' 'Mehta Group' 'Satyashraya Developers'\n",
            " 'S Raheja Realty' 'Exclusive Group' 'SPS Group'\n",
            " 'Express Housing Complex Pvt Ltd' 'Orchid Developers'\n",
            " 'Marathon Group of Builders and Developers' 'Bhanu Builders'\n",
            " 'Lokhandwala' 'Arth Housing Developers Limited' 'Sambhav Group'\n",
            " 'Manav Group' 'SB Brothers Developers' 'W ENTERPRISES' 'Suvidha Projects'\n",
            " 'Ekta Builders' 'Trisons Builders' 'Vision Group' 'Peninsula'\n",
            " 'Radheya Group' 'Shree Shyam Group Of Companies'\n",
            " 'Yashodhan Shanti Realtors']\n",
            "furnishing ['Unfurnished' 'Semi-Furnished' 'Furnished' nan]\n",
            "locality ['Malad West' 'Vasai' 'Virar' 'Vasai East' 'Naigaon East' 'Virar West'\n",
            " 'Royal Palms Estate' 'Nalasopara' 'Silver Park' 'Vasai West'\n",
            " 'Andheri East' 'Mulund East' 'Malvani' 'Nalasopara East' nan\n",
            " 'Balkum Pada - Majiwada' 'Kalyan' 'Bhayandar East' 'Mira Bhayandar'\n",
            " 'MHADA Colony' 'Chembur Camp' 'Govind Nagar' 'Bhayandar West'\n",
            " 'Beverly Park' 'Worli' 'Nalasopara West' 'Lok Manya Nagar'\n",
            " 'Borivali West' 'Viva College Road' 'Mira Road' 'New Link Road'\n",
            " 'Bhandup Industrial Estate' 'Sakinaka' 'Dongri' 'MMRDA Area'\n",
            " 'Yashavant Nagar' 'Kandivali East' 'Ghatkopar West' 'Ghodbunder'\n",
            " 'Nahur West' 'CAMA Industrial Estate' 'Anushakti Colony' 'Thane'\n",
            " 'Yari Road' 'Virar East' 'Goregaon East' 'Sakinaka Junction' 'Prabhadevi'\n",
            " 'Andheri West' 'Pandurang Wadi' 'Bandra West' 'Khar West' 'Bolinj'\n",
            " 'Virat Nagar' 'Thane-Kalyan-Dombivli' 'Poonam Gardens' 'Ramdev Park'\n",
            " 'Vinay Nagar' 'Unique Garden' 'Tirupati Nagar' 'Charkop Sector 8'\n",
            " 'Bandra Kurla Complex' 'Borivali East' 'Mulund West' 'Aarey Milk Colony'\n",
            " 'Oberoi Splendor' 'Charkop Village' 'Malad East' 'Devi Pada' 'Datta Pada'\n",
            " 'Jankalyan Nagar' 'Magathane' 'Thakur Village, Kandivali East'\n",
            " 'Samata Nagar' 'Bhandup West' 'Ghatkopar East' 'Kanjurmarg East'\n",
            " 'Vile Parle East' 'Mulund Railway Station' 'Madh' 'Upper Govind Nagar'\n",
            " 'Samta Nagar' 'Bhatti Pada' 'Nandiadwala Colony' 'Gokuldham' 'Powai'\n",
            " 'Kandivali West' 'Lokhandwala Twp' 'Film City Road' 'LBS Marg'\n",
            " 'Mindspace' 'Raheja Vihar' 'Sher E Punjab Society' 'Lokhandwala Complex'\n",
            " 'Vikhroli West' 'Mahavir Nagar' 'Ghatkopar' 'Vikhroli East' 'Dongarpada'\n",
            " 'Sheetal Nagar' 'Hatkesh Udyog' 'Thakur Complex' 'Kannamwar Nagar 2'\n",
            " 'Ashok Nagar Western Mumbai' 'Sion Railway Colony' 'Pratiksha Nagar'\n",
            " 'Ekta Nagar' 'Chandivali' 'Mankhurd' 'Santacruz East' 'Marol Naka'\n",
            " 'Ambernath' 'Gavan Pada' 'Christian Gaon' 'IC Colony' 'Dahisar East'\n",
            " 'Elphinstone' 'Poonam Sagar' 'Asha Nagar' 'Poonam Nagar' 'Tata Nagar'\n",
            " 'Veena Nagar' 'Goregaon West' 'Chembur' '4 Bunglows' 'Vallabh Baug'\n",
            " 'VN Purav Marg' 'Juhu' 'Kanch Pada' 'Vikhroli' 'Unnat Nagar' 'JB Nagar'\n",
            " 'Tilak Nagar - Harbour Line' 'Veera Desai Road' 'Juhu Versova Link'\n",
            " 'Shivaji Nagar Malad East' 'BEST Housing Colony' 'Oshiwara'\n",
            " 'Marol Maroshi' 'Borivali' 'Pant Nagar' 'Netaji Subhash Nagar'\n",
            " 'Link Road' 'Sarvodaya Nagar' 'Powai lake' 'Churi Wadi' 'Bimbisar Nagar'\n",
            " 'Shri Swami Samarth Nagar' 'Nahur East' 'Shastri Nagar' 'D.N. Nagar'\n",
            " 'Best Nagar - Goregaon West' 'Swastik Park' 'Marol' 'Four Bungalows'\n",
            " 'Santacruz West' 'Parel' 'Udyog Nagar' 'Chakala' 'Chakala MIDC'\n",
            " 'Matunga West' 'Central Area' 'Premier Colony' 'Sion East'\n",
            " 'Bhavani Nagar' 'Tunga' 'Wadala' 'Byculla' 'Sion Trombay Road'\n",
            " 'Basant Cinema' 'Vasant Vihar Complex' 'Govandi Station Road'\n",
            " 'Central Avenue Road' 'Bhakti Park' 'Wadala East' 'Versova'\n",
            " 'JVLR-Jogeshwari Vikhroli Link Road' 'Ghatla' 'Union Park' 'Joshi Wadi'\n",
            " 'Vile Parle West' 'Subhash Road' 'Dadar West' 'Matunga' 'Dadar East'\n",
            " 'Andheri Link Road' 'Juhu Beach Area' 'Sewri' 'Deonar' 'Andheri'\n",
            " 'Koyambedu' 'Lower Parel' 'Worli Hill' 'JVPD Scheme' 'Yeshodham'\n",
            " 'MIG Colony' 'Shivaji Park' 'Sai Baba Complex' 'Seven Bungalows'\n",
            " 'Bandra East' 'Saki Vihar Road' 'Atur Park Colony Bungalow'\n",
            " 'Mumbai Central' 'Bhoiwada' 'Wadala West' 'MHADA Vanrai Colony' 'Dadar'\n",
            " 'Worli Sea Face' 'Juhu Vile Parle Development Scheme' 'Parsi Colony'\n",
            " 'Dadar TT Circle' 'MHADA Colony 20' 'Mount Mary' 'Cuffe Parade'\n",
            " 'Kala Nagar' 'Girgaon Chowpatty' 'Linking Road' 'Khar' 'Kamala City'\n",
            " 'Dindoshi' 'Turner Road' 'Mahalakshmi' 'Warden Road' 'Pali Hill'\n",
            " 'Haji Ali' 'Mahim West' 'Pali Naka' 'Perry Rd' 'Mahim' 'Gulmohar Road'\n",
            " 'Gamdevi' 'Panchkutir Ganesh Nagar' 'Kulkarni Chowk' 'Matunga East'\n",
            " 'Carmichael Road' 'Mazgaon' 'Bandra' 'Church Gate' 'Babar Shaikh Chowk'\n",
            " 'Gamadia Colony' 'Worli Naka Acharaya Atre Chowk'\n",
            " 'Shree Siddhivinayak Mandir Chowk' 'Bandra Band Stand' 'Napean Sea Road'\n",
            " 'Upper Worli' 'Teen Batti' 'Mahalaxmi Race Course' 'Waterfield Road'\n",
            " 'Mehboob Studio' 'Elphiston Road Marchant Association Chowk' 'BDD Chawl'\n",
            " 'Nepeansea Road' 'Hanuman Nagar' 'Gamdia Colony Chowk'\n",
            " 'Willingdon Colony' 'Walkeshwar' 'Altamount Road' 'Colaba'\n",
            " 'Saraswat Colony' 'Jacob Circle' 'Sayed Wadi' 'Tardeo'\n",
            " 'Union Park Pali Hill' 'World Trade Centre' 'Malabar Hill' 'Marine Drive'\n",
            " 'Markendeshwar' 'Peddar Road' 'Siddharth Nagar South Mumbai'\n",
            " 'Pedder Road' 'Kemps Corner' 'Breach Candy' 'Juhu Versova Link Road'\n",
            " 'PK Kurne Chowk' 'Carter Road' 'Cumbala Hill'\n",
            " 'Colaba Upper Gateway Of India Area' 'Chikalwadi' 'Pleasant Park'\n",
            " 'Patel Nagar' 'Kurar Village' 'Kannamwar Nagar 1' 'Ekta Nagar Charkop'\n",
            " 'Dahisar West' 'Golden Nest' 'Pimpri Pada' 'Yogi Nagar' 'Kaju Pada'\n",
            " 'Versova Village' 'Vakola' 'Saat Rasta' 'Pratiksha Nagar-Sion'\n",
            " 'Chunabhatti' 'Chiku Wadi' 'GTB Nagar' 'Azad Nagar' 'Mulund Colony'\n",
            " 'Jogeshwari West' 'Govandi' 'Hill Road Nagar' 'Poisar' 'SSPCG Society'\n",
            " 'Kondivita Village' 'Guru Teg Bahadur Nagar' 'Sai Baba Nagar' 'Nagpada'\n",
            " 'Antop Hill' 'Dahisar' 'Gorai 2' 'Kurla East' 'Ghodapdeo' 'Juhu Koliwada'\n",
            " 'Kandarpada' 'Park Site Colony' 'Kurla West' 'Yogi Jayraj Nagar'\n",
            " 'Jaganade Chowk' 'Raigarh' 'Evershine Nagar' 'Shantivan' 'Orlem'\n",
            " 'Bhandup East' 'Mahada Colony' 'Ishwar Nagar' 'Shri Krishana Nagar'\n",
            " 'Sion' 'Nansey Colony' 'Charkop Sector 6' 'Charkop' 'Shell Colony'\n",
            " 'Vaishali Nagar' 'Anand Nagar' 'Eksar' 'Cotton Green Zakaria B'\n",
            " 'NL Complex' 'Akurli Nagar' 'Ram Nagar' 'Siddhartha Nagar'\n",
            " 'Jogeshwari East' 'Kharodi' 'Sardar Nagar No 4' 'Vidya Nagari'\n",
            " 'Asalfa Village JJC' 'Mahakali Nagar' 'Balaji Nagar' 'Nirmal Nagar'\n",
            " 'Parsi Wada' 'Meghwadi' 'Gorai 3' 'Garware Chowk' 'Ashok Van'\n",
            " 'Liberty Garden' 'Andheri-Goregaon' 'Amboli' 'Hindustan Chowk'\n",
            " 'LIC Colony' 'Mandapeshwar' 'Kurla Vidya Vihar Belt'\n",
            " 'MIDC Industrial Estate' 'Everard Nagar' 'Chembur Colony' 'Bandivali'\n",
            " 'Nahur' 'Dattani Park' 'Mulund' 'Fort' 'Irla' 'Rawal Pada' 'Gorai 1'\n",
            " 'Grant Road' 'Abhyudaya Nagar' 'Navjeevan Wadi' 'Babrekar Nagar'\n",
            " 'Naupada' 'Dockyard Road' 'Dattu Vaidya Nagar' 'Thakurdwar'\n",
            " 'Somvar Bazar' 'Gondavali Gaothan' 'Charkop Sector 4' 'Satya Nagar'\n",
            " 'Manohar Phalke Chowk' 'LIC Housing Colony' 'Kalina' 'JL Tambe Nagar'\n",
            " 'Nagari Nivara Parishad' 'Valmik Nagar' 'Cheda Nagar' 'Panchsheel Nagar'\n",
            " 'Irani Wada' 'Charkop Sector 2' 'Kherwadi' 'Govandi West' 'Kokan Nagar'\n",
            " 'Government Colony' 'Abhinav Nagar' 'Hari Om Nagar' 'Charkop Sector 3'\n",
            " 'Kannamwar Nagar' 'Hanuman Tekdi' 'Rajan Pada' 'Sher-e-Punjab'\n",
            " 'Charkop Sector 1' 'Amar Nagar' 'Postal Colony' 'Prem Nagar'\n",
            " 'Pestom Sagar' 'Chinch Bunder' 'Mulji Nagar' 'Sai Nagar' 'Pirojsha Nagar'\n",
            " 'Mahatama Gandhi Road' 'Dhanukar Wadi' 'Tilak Nagar – Central Line'\n",
            " 'Alika Nagar' 'Lal Baug' 'Tata Colony' 'Charkop Industrial Estate'\n",
            " 'Nehru Nagar-Kurla' 'Varsha Nagar' 'Piramal Nagar' 'Kulup Wadi'\n",
            " 'Rajendra Nagar' 'Sundar Nagar, Kalina' 'Talmakiwadi' 'Deonar Farm Road'\n",
            " 'Gopal Nagar' 'Natwar Nagar' 'New Tilak Nagar' 'Pillai Chowk'\n",
            " 'Bail Bazar' 'Kurla' 'Satrasta' 'Subhash Nagar' 'Halani Darbar Chowk'\n",
            " 'Vishwakarma Nagar' 'Shimpoli' 'Garodia Nagar' 'Basant Garden'\n",
            " 'Mhatre Wadi' 'Shiv Srishti' 'Khetwadi' 'Marol Maroshi Road'\n",
            " 'Bhandup Village' 'Jagdusha Nagar' 'Chinchpokli' 'P Lokhande Marg'\n",
            " 'Damodar Park' 'Chheda Nagar' 'Girgaum' 'Sunder Nagar' 'Ghartan Pada'\n",
            " 'Van Mali Sabhagruha Chowk' 'Gangawadi' 'Pathanwadi' 'Bhandup'\n",
            " 'Jogeshwari' 'Masjid Bander West' 'Crawford Market' 'P&T Colony'\n",
            " 'Sadanwadi' 'Pahadi Goregaon East' 'Moti Nagar' 'Kalpak Estate'\n",
            " 'Goverdhan Nagar' 'Mitha Nagar' 'Andheri Kurla Road' 'Navjeevan Colony'\n",
            " 'Haridas Nagar' 'Yeshwant Nagar' 'Govandi East' 'Lokmanya Tilak Nagar'\n",
            " 'Shivaji Nagar' 'Film City' 'Bangur Nagar' 'Jawahar Nagar'\n",
            " 'Amar Mahal Junction' 'Rifle Range' 'Gandhi Nagar' 'Mangalwadi'\n",
            " 'Vile Parle' 'Navagaon' 'Yashwant Nagar' 'Tagore Nagar' 'Manish Nagar'\n",
            " 'Kanya Pada' 'Eastern Express Highway' 'Pirojsha Godrej Nagar'\n",
            " 'Pushpa Park' 'Sumer Nagar' 'Babasaheb Worlikar Chowk' 'Gokul Dham'\n",
            " 'Datta Park' 'Bharat Mata Chowk' 'Prem Puriji Chowk' 'Bhim Nagar'\n",
            " 'Collector Colony' 'MHADA Colony Near Yadav Nagar' 'Parle Colony'\n",
            " 'Nadiyawala Colony 2' 'Behram Baug' 'Godrej Hillside Residential Colony'\n",
            " 'Agripada' 'Takshila Nagar' 'Tilak Nagar - Central Mumbai' 'Lakme Road'\n",
            " 'Kamani Junction' 'Amrut Nagar' 'Motilal Nagar 1' 'Western Express Hwy'\n",
            " 'Fine Art Chowk' 'Neelam Nagar' 'Rani Laxmibai Chowk' 'Datar Colony'\n",
            " 'Indira Nagar' 'Veera Desai Chowk' 'Valmiki Nagar' 'Suman Nagar' 'Malad'\n",
            " 'Ratan Nagar' 'Surya Nagar' 'Dr N Pai Marg Chowk' 'Mahul Road'\n",
            " 'Khar East' 'Umershet Pada' 'Jaydev Singh Nagar' 'Motilal Nagar 2'\n",
            " 'Kings Circle' 'Malcom Baug' 'Kandivali' 'Vrindavan' 'Rambaug'\n",
            " 'IIT Colony' 'New Airport Colony' 'Chira Bazaar' 'Santosh Nagar'\n",
            " 'Gogate Wadi' 'Godrej Station Road Colony' 'Motilal Nagar 3'\n",
            " 'Kumud Nagar' 'Null Bazar' 'Swami Vivekanand Chowk' 'King Circle'\n",
            " 'Kamgar Nagar' 'Jijamate Chowk' 'Jeejamata Road'\n",
            " 'Chincholi Pathak-Mallad' 'Azad Nagar 2' 'Gandhi Market' 'Model Town'\n",
            " 'Kanti Nagar' 'Customs Colony' 'Mathuradas Colony' 'Sindhi Colony'\n",
            " 'Golibar' 'Mahim Bay' 'BS Ambedkar Nagar' 'Kothu Wadi' 'Motilal Nagar'\n",
            " 'C Gidwani Marg Chowk' 'R Mehta Chowk' 'Sion Hospital Colony'\n",
            " 'Phase D, Shastri Nagar' 'Charni Road' 'Girgaon' 'Adarsh Nagar'\n",
            " 'Rajawadi' 'Zalwad Nagar' 'Shreyas Colony' 'Vishveshwar Nagar'\n",
            " 'Juhu Tara Road' 'Marine Lines' 'Nai Gaon' 'Five Gardens'\n",
            " 'Gilbert Hill JJC' 'Erangal' 'Shivneri Nagar' 'Chembur Village'\n",
            " 'Lallu Bhai Park' 'Kalina University' 'Paranjape Nagar' 'Mazagaon'\n",
            " 'Jeevan Nagar' 'Marol Naka Junction' 'Police Camp Worli Sea Face'\n",
            " 'Bhawani Shankar' 'Datta Guru Society' 'Nana Chowk' 'Hill Rd'\n",
            " 'Mota Nagar' 'Kabutarkhana Purandare Chowk' 'Millat Nagar' 'Uppar Colaba'\n",
            " 'Hindu Colony' 'S Haralayya Chowk' 'Bharat Nagar' 'Grant Road Area'\n",
            " 'Prabhat Colony' 'Veera Desai Industrial Estate' 'Vaibhav Nagar'\n",
            " 'Thakkar Estate' 'Air India Colony' 'Opera House' 'Hasmukh Nagar'\n",
            " 'Wadia Baug' 'MSES Colony' 'Bandra Reclamation' 'Navy Nagar' 'Gokhale Rd'\n",
            " 'Sasoon Dock' 'Jeet Nagar' 'Kashinath Ghanekar Chowk'\n",
            " 'Narayan Pujari Colony' 'Colaba Upper Apollo Bunder'\n",
            " 'Siddharth Nagar Central Mumbai' 'Holy Family Hospital' 'Hughes Road'\n",
            " 'Nana Chowk Grant Road' 'Carter Rd' \"St Paul's Rd\" 'Dalit Nagar'\n",
            " 'Hanging Garden' 'Chowpatty Area' 'Churchgate station' 'Kanjurmarg'\n",
            " 'Boisar West' 'Bhatwadi' 'Vithal Wadi' 'Kadam Nagar' 'Khanda Colony'\n",
            " 'Tarun Bharat Society' 'Palava' 'Navi Mumbai-Khargar-Panvel' 'Y K Nagar'\n",
            " 'Sambhaji Nagar' 'Indralok' 'Ghodbandar Village' 'Srishti Complex'\n",
            " 'Geeta Nagar' 'Gaikwad Nagar' 'Sane Guruji Nagar' 'Damble Colony'\n",
            " 'Friends Colony' 'Babhai Naka' 'Sahyadri Nagar' 'Mahatre Wadi'\n",
            " 'AAI Residential Complex' 'Vasant Vihar' 'Ganesh Nagar JJC Area'\n",
            " 'Maharashtra Nagar' 'Charkop Sector 7' 'Vazira Naka' 'Ashok Nagar'\n",
            " 'Pratikhsha Nagar' 'Kamgar Colony' 'Charkop Sector 5' 'Dattani Nagar'\n",
            " 'Vini Garden' 'Munjar Nagar' 'Lok Housing Colony' 'Sardar Nagar'\n",
            " 'Vidya Vihar West' 'Sindhu Wadi' 'Christian Colony' 'Taximen Colony'\n",
            " 'Marve' 'Kastur Park' 'Priyadarshini Chowk' 'Nagesh Patliwadi'\n",
            " 'Chikuwadi' 'Jayprakash Nagar' 'Bhandarwada' 'Kasam Baug' 'Vazir Naka'\n",
            " 'Savarkar Chowk' 'Holly Cross Church Chowk' 'Azad Nagar Versova Road'\n",
            " 'Nahur Gaothan' 'Tilak Nagar - Western Suburb'\n",
            " 'Pathanwadi - Kurur Village' 'Kora Kendra' 'Nehru Nagar - Juhu'\n",
            " 'Ganesh Nagar' 'Kanjurmarg West' 'Kokani Pada' 'Crompton Greaves'\n",
            " 'Gundavali' 'Acharya A Maharaj Chowk' 'Eden Gardens' 'Sen Nagar'\n",
            " 'Azad Nagar JJC' 'Ghatla Chowk' 'SV Patel Nagar'\n",
            " 'Hanuman Tekdi - Goregaon East' 'Sahakar Nagar' 'Tanajiwadi'\n",
            " 'Nityanand Nagar' 'Fertiliser Township' 'Bamandaya Pada' 'Deonar Pada'\n",
            " 'VSNL Colony' 'Nadkarni Park' 'Santacruz' 'Sham Nagar'\n",
            " 'Digambar Jain Mandir Chowk' 'New Nagardas Road' 'Laxmi Nagar'\n",
            " 'Shri Nagar' 'Hariyali' 'Ambedkar Garden' 'Indian Oil Nagar'\n",
            " 'PMGP Colony' 'Sainath Nagar' 'Hanuman Road' 'Dr CG Rd'\n",
            " 'Maheshwari Chowk' 'Pirojshah Nagar' 'Banjar Pada, Dindoshi'\n",
            " 'Acharya Nagar' 'Safed Pul' 'RCF Colony' 'Paspoli Dongri Pada'\n",
            " 'RTO Colony' 'Kherwadi Junction' 'MHADA Colony Milat Nagar'\n",
            " 'Sandesh Nagar' 'Kohinoor Compound' 'Acharya Tulsi Chowk'\n",
            " 'BR Ambedkar Chowk' 'Agari Pada' 'Laxmi Industrial Estate' 'Amit Nagar'\n",
            " 'Mukund Nagar' 'Kamala Nagar' 'Sector 86' 'Parmanand Wadi'\n",
            " 'Agarkar Chowk' 'Godrej Colony' 'Teachers Colony' 'Kolivary'\n",
            " 'Pingle Chowk' 'Danda' 'Khar Danda' 'Mazagaon Dock' 'Juhu Tara'\n",
            " 'Vithaldas Nagar' 'Sangeet Mahabharati Chowk' 'BPT Colony' 'Goregaon'\n",
            " 'Worli Tip' 'Police Colony Worli Sea Face' 'S Savarkar Chowk'\n",
            " 'CA Narayan Chowk' 'Dinar Kadekar Chowk' 'Bhagwan Parshwanath Chowk'\n",
            " 'Ambewadi' 'DS Chowk' 'Ranwar' 'Cursow Baug' 'Dr Veersen J Ruparel Chowk'\n",
            " 'Rebello Rd' 'Late Sadashivrao Shirke Chowk' 'Old Khar' 'Kowli Chowk'\n",
            " 'Regal Chowk' 'Babulnath Chowk' 'Advocate Devarshi N Khuman Chowk'\n",
            " 'Nariman Point' 'Water Field Road' 'Bhulabhai Desai Marg' 'Gowalia Tank'\n",
            " 'Marol MIDC Industrial Estate' 'Naigaon West' 'Mahul' 'Liliya Nagar'\n",
            " 'Daulat Nagar' 'Sukar Wadi' 'Aksa Gaon' 'Ambedkar Nagar'\n",
            " 'Lower Govind Nagar' 'MTNL Colony' 'Chinch Pada'\n",
            " 'Nirmal Nagar-Central Line' 'Dhanji Wadi' 'Seepz Area' 'Gautam Nagar'\n",
            " 'Vidya Vihar' 'Vijay Nagar' 'Vivekanand Colony' 'Sai Wadi' 'R K Studio'\n",
            " 'Kirol Village' 'Railway Colony Bandra Terminus' 'R C Marg' 'Ulhasnagar'\n",
            " 'Shiv Shankar Nagar' 'Koladongri' 'L Tilak Colony'\n",
            " 'Air India Staff Colony 2' 'Shirley' 'Fanaswadi' 'Sir Bhalchandra Chowk'\n",
            " 'Metro Cinema Chowk' 'Ahimsa Nagar' 'Vasant Kunj'\n",
            " 'Dr Babasaheb Ambedkar Govt Hos' 'Railway Colony Pali Hill'\n",
            " 'Adv RD Kowte Chowk' 'Lotus Colony' 'Architect Vidyadhar Mhatre Chowk'\n",
            " 'Haji Ali Junction' 'Brhmanwada' 'Zeezamata Nagar'\n",
            " 'Indian Medical Association Chowk' 'Abhishek Nagar' 'Mantralaya'\n",
            " 'Rotary Chowk' 'Barrister Rajni Patel Chowk' 'BD Somani Chowk' 'Koliwadi'\n",
            " 'Rohidas Chowk' 'Shiv Sagar Estate' 'Purandarwadi' 'Priyadarshini Park'\n",
            " 'Teen Batti Chowk' 'Oberoi' 'Ramji Nagar' 'Nimoni Baug']\n",
            "post_date ['2020-01-11' '2019-12-13' '2020-01-13' '2019-12-17' '2020-01-09'\n",
            " '2020-01-10' '2019-11-15' '2019-12-19' '2020-01-07' '2020-01-05'\n",
            " '2019-12-20' '2019-12-23' '2019-12-25' '2019-12-15' '2019-12-26'\n",
            " '2019-12-11' '2019-12-09' '2020-01-12' '2020-01-06' '2019-12-30'\n",
            " '2020-01-03' '2019-11-23' '2019-11-29' '2019-11-18' '2019-11-19'\n",
            " '2019-12-04' '2019-12-07' '2019-12-24' '2019-12-14' '2019-11-03'\n",
            " '2019-12-21' '2020-01-04' '2019-12-31' '2020-01-01' '2019-11-28'\n",
            " '2019-12-05' '2019-12-28' '2019-12-18' '2019-11-20' '2019-11-26'\n",
            " '2019-11-24' '2019-11-25' '2019-11-30' '2019-12-22' '2019-11-21'\n",
            " '2020-01-02' '2019-11-16' '2019-12-12' '2020-01-14' '2019-12-10'\n",
            " '2019-12-29' '2019-12-16' '2019-12-01' '2019-12-06' '2019-12-03'\n",
            " '2019-12-27' '2020-01-08' '2019-11-22' '2019-12-02' '2019-11-27'\n",
            " '2019-12-08' '2019-11-17' '2019-11-14' '2019-09-22' '2019-09-09'\n",
            " '2019-10-15' '2019-11-04' '2019-11-13' '2019-10-24' '2019-09-25'\n",
            " '2019-08-12' '2019-10-20' '2019-10-25' '2019-11-10' '2019-11-05'\n",
            " '2019-10-12' '2019-09-12' '2019-11-06' '2019-11-02' '2019-10-11'\n",
            " '2019-09-10' '2019-11-09' '2019-09-29' '2019-11-12' '2019-09-05'\n",
            " '2019-11-07' '2019-10-21' '2019-10-31' '2019-09-08']\n",
            "poster_name ['Saurabh Patil' 'Gorakh  Chavan' 'Lokesh Joshi' ... 'Kishan Somar'\n",
            " 'Dylan' 'MANOJ KUMAR SAHOO']\n",
            "price [   9000    8060    8000    8500   10000    9500    8700   18000   17500\n",
            "   21000   22000   17000   19900   19000   20000   16000   25000   30000\n",
            "   23000   27000   28500   28000   26000   24000   23500   35000   41000\n",
            "   32000   45000   42000   44000   36000   44400   43000   40000   38000\n",
            "   37000   50000   52000   54500   55000   57000   60000   58000   49220\n",
            "   47000   47001   48000   62000   63000   78000   70000   75000   74000\n",
            "   77000   76000   65000   79000   71000   72000   68000   11000   11500\n",
            "   10500   12500   12000   10200   12200   10437   10333   11300   11900\n",
            "   11750   90000  100000   80000   95000   85000   99000   91000   81000\n",
            "   83000   82000   88000   99500   79999   87000   89000   92300   93000\n",
            "   92000  110000  125000  115000  105000  120000  118000  112000  122000\n",
            "  112921  121000  108000  111000  125002  113000  120001  123900  116000\n",
            "  102000  107000  106000  140000  150000  130000  148000  149000  145000\n",
            "  133000  135001  135000  151000  155000  144000  152000  138000  145500\n",
            "  134500  128000  142000  129000  146000  136000  137100  141000  140001\n",
            "  132000  135500  139000  127000  147000  130500  134000  137800  180000\n",
            "  170000  165000  190000  175000  160000  195000  171991  185000  172500\n",
            "  180100  199000  159000  196000  170200  178245  189000  179000  174000\n",
            "  169000  176000  168000  225000  220000  200000  210000  250000  223000\n",
            "  248000  230000  214000  220600  215000  209000  201000  235000  240000\n",
            "  205000  237000  241000  245000  310000  305000  280000  275000  260000\n",
            "  300000  285000  265000  255000  270000  297500  290000  295000  315000\n",
            "  355000  325000  330000  350000  375000  320000  382000  360000  370000\n",
            "  346000  380000  340000  385000  365000  349000  450000  400000  500000\n",
            "  499000  402000  430000  425000  475000  420000  415000  440000  410000\n",
            "  480000  550000  598000  540000  555000  600000  620000  625000  525000\n",
            "  575000  560000  580000  775000  650000  750000  700000  675000  666000\n",
            "   14500   14000   15000   13500   13000   15500   14100   13200   13999\n",
            "   15079   13938   14200   14677   13400   15400   13850   15001   14800\n",
            "   13900   15550   14600   15700   14750   14700   15200   14499   14001\n",
            "   14999  800000  975000 1000000  877000  850000  900000  825000 1150000\n",
            "   18500   16900   16500   17748   19100   19500   19700   19200   16800\n",
            "   16300   17795   19800   18100   17200   19001   16100   15900   17001\n",
            "   22500   24900   24500   20700   21500   20500   23100   20160   22300\n",
            "   24750   20603   24999   23400   20100   21560   20750   24222   23999\n",
            "   22900   22550   20150   24100   24600   21900   20999   24800   20300\n",
            "  125100  124000  123000  125800  143000  390890  505000  532000  720000\n",
            "  875000  950000   29000   31000   27500   25500   28200   29500   26500\n",
            "   26600   31090   30200   27700   27083   25999   30100   30500   25575\n",
            "   25547   25300   29792   29997   29750   28700   27200   31500   27999\n",
            "   29950   26800   29414   29800   29999   28499   31095   29005   31600\n",
            "   26700   29700   26250   27950   28750   28400   29900   29300 1200000\n",
            "   34400   34000   33000   37100   38999   32500   33400   39000   35500\n",
            "   34500   34333   34999   38500   33500   37500   34300   36500   39500\n",
            "   36999   33100   32300   32222   34900   35100   35009   36800   31999\n",
            "   38900   37200   34006   36100   32999   36400   35800   37400   37499\n",
            "   37999   32100   38100   35010   38400   35003   34100   42500   39999\n",
            "   48500   49500   48100   46000   39990   49000   42900   49990   44500\n",
            "   42223   40200   47500   40600   43500   44200   45800   47800   41777\n",
            "   41500   40500   40100   47600   45500   43151   47300   40006   42999\n",
            "   42600   42700   53000   56000   51000   52500   54000   50500   51500\n",
            "   73000   67000   66000   65500   99998   98000    3500    4000    3999\n",
            "    4500    3900    5000    5500    5750    5600    6000    6500    7000\n",
            "    7500    7600    2500    2200    3000    8900    9300    9123    8800\n",
            "    8200   11048   12383   10250   13750   17800   18600   18700   18200\n",
            "   18300   16999   17499   20200   30001   26900   30450   27800   28583\n",
            "   29983   28003   26200   25400   37001   35333   33900   37800   36099\n",
            "   35999   37004   37900   38950   39400   37600   38001   35789   38888\n",
            "   38800   37005   38700   37002   46500   49999   50002   48150   50100\n",
            "   43100   49200   48900   46800   44300   42400   47700   46200   49988\n",
            "   44900   50004   45200   40800   42300   49111   47999   42100   44450\n",
            "   45913   50001   43900   42200   44600   48222   44800   45700   43300\n",
            "   46600   41997   45060   48600   45100   41600   49400   48005   48800\n",
            "   50025   46400   43250   59500   61000   59000   51999   57999   59400\n",
            "   55500   53500   55005   55111   50667   56833   57800   56500   62500\n",
            "   53800   54600   63003   61500   57500   52999   53999   54900   59999\n",
            "   53400   56999   58500   60500   60001   55444   60100   62999   52800\n",
            "   56200   51900   57600   54100   64000   77500   69000   70300   78700\n",
            "   63333   64500   75500   72500   64200   65200   74002   65100   64999\n",
            "   68500   73500   71500   64100   72001   75200   69500   63700   72002\n",
            "   67500   65700   74500   65400   97000   84000   96000   85800   94000\n",
            "   82500   79500   99999   79900   85600   90600   80357   85500   90001\n",
            "   95001   99888   83500   86000   79800   96500   80111   81666   83333\n",
            "  109000  101000  114000  105400  100005  120002  100500  119000  104000\n",
            "  105555  130001  684000    3250    4800    4999    4400    4700   13333\n",
            "   48001   47333   40669   47002   48200   46502   48002   42004   44002\n",
            "   48003   45600   60200   53100   59700   55555   58100   59001   62916\n",
            "   51200   56600   59005   52003   52100   63001   59791   64800   78005\n",
            "   69300   73333   76500   79002   66500   67999   69999   73501   67501\n",
            "   64005   70400   67200   78500   65003   72999   63500   63558   72700\n",
            "   72750   78800   71750   70900   77100   68800   73350   73100   75100\n",
            "    6200    6100    6250    5100    6300   86200   94500   80500   93800\n",
            "   94999   88500   96582   86500   90542   80100   91500   87500   87400\n",
            "   90002   84500   95500   92500   93500   86100   80200   88900   82600\n",
            "   89500  125084  103000  120700  110009  120100  102857  103500  110800\n",
            "  114999  102500  156000  131999  129500  126000  153000  137000  130100\n",
            "  131000  161000  182000  194000  164000  162000  242000  221000  203000\n",
            "  202000  200100  200500  298000  279000  268000  275100  289000  345000\n",
            "  395000  390000  445000  725000    7700    7200    6600    6800    7100\n",
            "    7800    7250    6900    7560]\n",
            "project [nan 'Veena Dynasty' 'Agarwal Lifestyle' ... 'Mathuresh Krupa' 'Regalia'\n",
            " 'Brooklyn Park']\n",
            "title ['1 BHK Apartment for Rent in Malad West'\n",
            " '1 BHK Apartment for Rent in Veena Dynasty, Vasai'\n",
            " '1 BHK Apartment for Rent in Agarwal Lifestyle, Virar' ...\n",
            " '1 BHK Apartment for Rent in Y K Nagar'\n",
            " '1 BHK Apartment for Rent in Cosmos Solitaire, Virar West'\n",
            " ' 2 BHK Multistorey Apartment for Rent in Bandra West 1100 sqft']\n",
            "trans ['Rent' nan]\n",
            "type ['Apartment' 'Builder Floor Apartment' 'Service Apartment'\n",
            " 'Multistorey Apartment' 'Residential House' 'Penthouse']\n",
            "url ['/propertyDetails/1-BHK-350-Sq-ft-Multistorey-Apartment-FOR-Rent-Malad-West-in-Mumbai&id=4d423435333439383537'\n",
            " '/propertyDetails/1-BHK-652-Sq-ft-Multistorey-Apartment-FOR-Rent-Vasai-in-Mumbai&id=4d423435393630393733'\n",
            " '/propertyDetails/1-BHK-635-Sq-ft-Multistorey-Apartment-FOR-Rent-Virar-in-Mumbai&id=4d423436363838383439'\n",
            " ...\n",
            " '/propertyDetails/1-BHK-700-Sq-ft-Multistorey-Apartment-FOR-Rent-Virar-in-Mumbai&id=4d423436363030393831'\n",
            " '/propertyDetails/1-BHK-750-Sq-ft-Multistorey-Apartment-FOR-Rent-Virar-in-Mumbai&id=4d423436363030393433'\n",
            " '/propertyDetails/2-BHK-1100-Sq-ft-Multistorey-Apartment-FOR-Rent-Bandra-West-in-Mumbai-r1&id=4d423138363630353837']\n",
            "user_type ['Agent' 'Owner' 'Builder']\n"
          ],
          "name": "stdout"
        }
      ]
    },
    {
      "cell_type": "code",
      "metadata": {
        "id": "N5sziselwMya"
      },
      "source": [
        "df.dropna(axis=0,how='any',inplace=True)  # After going through this case study multiple times I realized it's better to just drop all the nan values. "
      ],
      "execution_count": 34,
      "outputs": []
    },
    {
      "cell_type": "code",
      "metadata": {
        "id": "1_zEHQyLwO94"
      },
      "source": [
        "df['price_per_sqft'] = df['price']/df['area']"
      ],
      "execution_count": 35,
      "outputs": []
    },
    {
      "cell_type": "code",
      "metadata": {
        "id": "yGaH7Ho-wQW9"
      },
      "source": [
        "df_cat = df.select_dtypes('object')\r\n",
        "df_num = df.select_dtypes(['int64','float64'])"
      ],
      "execution_count": 36,
      "outputs": []
    },
    {
      "cell_type": "code",
      "metadata": {
        "colab": {
          "base_uri": "https://localhost:8080/",
          "height": 278
        },
        "id": "Z-s302r_wRdO",
        "outputId": "e01b4708-b535-432a-d2bd-e6b843774ae3"
      },
      "source": [
        "df_cat.head()"
      ],
      "execution_count": 37,
      "outputs": [
        {
          "output_type": "execute_result",
          "data": {
            "text/html": [
              "<div>\n",
              "<style scoped>\n",
              "    .dataframe tbody tr th:only-of-type {\n",
              "        vertical-align: middle;\n",
              "    }\n",
              "\n",
              "    .dataframe tbody tr th {\n",
              "        vertical-align: top;\n",
              "    }\n",
              "\n",
              "    .dataframe thead th {\n",
              "        text-align: right;\n",
              "    }\n",
              "</style>\n",
              "<table border=\"1\" class=\"dataframe\">\n",
              "  <thead>\n",
              "    <tr style=\"text-align: right;\">\n",
              "      <th></th>\n",
              "      <th>city</th>\n",
              "      <th>desc</th>\n",
              "      <th>dev_name</th>\n",
              "      <th>furnishing</th>\n",
              "      <th>locality</th>\n",
              "      <th>post_date</th>\n",
              "      <th>poster_name</th>\n",
              "      <th>project</th>\n",
              "      <th>title</th>\n",
              "      <th>trans</th>\n",
              "      <th>type</th>\n",
              "      <th>url</th>\n",
              "      <th>user_type</th>\n",
              "    </tr>\n",
              "  </thead>\n",
              "  <tbody>\n",
              "    <tr>\n",
              "      <th>1</th>\n",
              "      <td>Mumbai</td>\n",
              "      <td>2 Bath,Semi-Furnished,East facing A 1BHK apart...</td>\n",
              "      <td>Veena Group</td>\n",
              "      <td>Semi-Furnished</td>\n",
              "      <td>Vasai</td>\n",
              "      <td>2020-01-11</td>\n",
              "      <td>Gorakh  Chavan</td>\n",
              "      <td>Veena Dynasty</td>\n",
              "      <td>1 BHK Apartment for Rent in Veena Dynasty, Vasai</td>\n",
              "      <td>Rent</td>\n",
              "      <td>Apartment</td>\n",
              "      <td>/propertyDetails/1-BHK-652-Sq-ft-Multistorey-A...</td>\n",
              "      <td>Agent</td>\n",
              "    </tr>\n",
              "    <tr>\n",
              "      <th>2</th>\n",
              "      <td>Mumbai</td>\n",
              "      <td>2 Bath,Semi-Furnished,4 floor,West facing A be...</td>\n",
              "      <td>Agarwal Group</td>\n",
              "      <td>Semi-Furnished</td>\n",
              "      <td>Virar</td>\n",
              "      <td>2019-12-13</td>\n",
              "      <td>Lokesh Joshi</td>\n",
              "      <td>Agarwal Lifestyle</td>\n",
              "      <td>1 BHK Apartment for Rent in Agarwal Lifestyle,...</td>\n",
              "      <td>Rent</td>\n",
              "      <td>Apartment</td>\n",
              "      <td>/propertyDetails/1-BHK-635-Sq-ft-Multistorey-A...</td>\n",
              "      <td>Agent</td>\n",
              "    </tr>\n",
              "    <tr>\n",
              "      <th>4</th>\n",
              "      <td>Mumbai</td>\n",
              "      <td>1 Bath,Furnished,2 floor,North facing 24 hours...</td>\n",
              "      <td>Millennium Group</td>\n",
              "      <td>Furnished</td>\n",
              "      <td>Naigaon East</td>\n",
              "      <td>2019-12-17</td>\n",
              "      <td>Charmaine  Gomez</td>\n",
              "      <td>Mittal Enclave</td>\n",
              "      <td>1 BHK Apartment for Rent in Mittal Enclave, Na...</td>\n",
              "      <td>Rent</td>\n",
              "      <td>Apartment</td>\n",
              "      <td>/propertyDetails/1-BHK-625-Sq-ft-Multistorey-A...</td>\n",
              "      <td>Owner</td>\n",
              "    </tr>\n",
              "    <tr>\n",
              "      <th>5</th>\n",
              "      <td>Mumbai</td>\n",
              "      <td>2 Bath,Unfurnished,9 floor,North - East facing...</td>\n",
              "      <td>Poonam Developers</td>\n",
              "      <td>Unfurnished</td>\n",
              "      <td>Virar West</td>\n",
              "      <td>2020-01-13</td>\n",
              "      <td>Sen Sales Team</td>\n",
              "      <td>Poonam Park View</td>\n",
              "      <td>1 BHK Apartment for Rent in Poonam Park View, ...</td>\n",
              "      <td>Rent</td>\n",
              "      <td>Apartment</td>\n",
              "      <td>/propertyDetails/1-BHK-630-Sq-ft-Multistorey-A...</td>\n",
              "      <td>Agent</td>\n",
              "    </tr>\n",
              "    <tr>\n",
              "      <th>6</th>\n",
              "      <td>Mumbai</td>\n",
              "      <td>2 Bath,Furnished,4 floor,East facing This is a...</td>\n",
              "      <td>Evershine Builders</td>\n",
              "      <td>Furnished</td>\n",
              "      <td>Virar</td>\n",
              "      <td>2020-01-13</td>\n",
              "      <td>Harmesh  Damania</td>\n",
              "      <td>Evershine Homes</td>\n",
              "      <td>1 BHK Apartment for Rent in Evershine Homes, V...</td>\n",
              "      <td>Rent</td>\n",
              "      <td>Apartment</td>\n",
              "      <td>/propertyDetails/1-BHK-690-Sq-ft-Multistorey-A...</td>\n",
              "      <td>Agent</td>\n",
              "    </tr>\n",
              "  </tbody>\n",
              "</table>\n",
              "</div>"
            ],
            "text/plain": [
              "     city  ... user_type\n",
              "1  Mumbai  ...     Agent\n",
              "2  Mumbai  ...     Agent\n",
              "4  Mumbai  ...     Owner\n",
              "5  Mumbai  ...     Agent\n",
              "6  Mumbai  ...     Agent\n",
              "\n",
              "[5 rows x 13 columns]"
            ]
          },
          "metadata": {
            "tags": []
          },
          "execution_count": 37
        }
      ]
    },
    {
      "cell_type": "code",
      "metadata": {
        "colab": {
          "base_uri": "https://localhost:8080/",
          "height": 194
        },
        "id": "ttdbmKSOwSpQ",
        "outputId": "ce17619d-9482-47b5-eb98-e5534111dba5"
      },
      "source": [
        "df_num.head()"
      ],
      "execution_count": 38,
      "outputs": [
        {
          "output_type": "execute_result",
          "data": {
            "text/html": [
              "<div>\n",
              "<style scoped>\n",
              "    .dataframe tbody tr th:only-of-type {\n",
              "        vertical-align: middle;\n",
              "    }\n",
              "\n",
              "    .dataframe tbody tr th {\n",
              "        vertical-align: top;\n",
              "    }\n",
              "\n",
              "    .dataframe thead th {\n",
              "        text-align: right;\n",
              "    }\n",
              "</style>\n",
              "<table border=\"1\" class=\"dataframe\">\n",
              "  <thead>\n",
              "    <tr style=\"text-align: right;\">\n",
              "      <th></th>\n",
              "      <th>area</th>\n",
              "      <th>bathroom_num</th>\n",
              "      <th>bedroom_num</th>\n",
              "      <th>price</th>\n",
              "      <th>price_per_sqft</th>\n",
              "    </tr>\n",
              "  </thead>\n",
              "  <tbody>\n",
              "    <tr>\n",
              "      <th>1</th>\n",
              "      <td>652.0</td>\n",
              "      <td>2.0</td>\n",
              "      <td>1</td>\n",
              "      <td>8060</td>\n",
              "      <td>12.361963</td>\n",
              "    </tr>\n",
              "    <tr>\n",
              "      <th>2</th>\n",
              "      <td>635.0</td>\n",
              "      <td>2.0</td>\n",
              "      <td>1</td>\n",
              "      <td>8000</td>\n",
              "      <td>12.598425</td>\n",
              "    </tr>\n",
              "    <tr>\n",
              "      <th>4</th>\n",
              "      <td>625.0</td>\n",
              "      <td>1.0</td>\n",
              "      <td>1</td>\n",
              "      <td>9000</td>\n",
              "      <td>14.400000</td>\n",
              "    </tr>\n",
              "    <tr>\n",
              "      <th>5</th>\n",
              "      <td>630.0</td>\n",
              "      <td>2.0</td>\n",
              "      <td>1</td>\n",
              "      <td>8000</td>\n",
              "      <td>12.698413</td>\n",
              "    </tr>\n",
              "    <tr>\n",
              "      <th>6</th>\n",
              "      <td>690.0</td>\n",
              "      <td>2.0</td>\n",
              "      <td>1</td>\n",
              "      <td>8500</td>\n",
              "      <td>12.318841</td>\n",
              "    </tr>\n",
              "  </tbody>\n",
              "</table>\n",
              "</div>"
            ],
            "text/plain": [
              "    area  bathroom_num  bedroom_num  price  price_per_sqft\n",
              "1  652.0           2.0            1   8060       12.361963\n",
              "2  635.0           2.0            1   8000       12.598425\n",
              "4  625.0           1.0            1   9000       14.400000\n",
              "5  630.0           2.0            1   8000       12.698413\n",
              "6  690.0           2.0            1   8500       12.318841"
            ]
          },
          "metadata": {
            "tags": []
          },
          "execution_count": 38
        }
      ]
    },
    {
      "cell_type": "code",
      "metadata": {
        "colab": {
          "base_uri": "https://localhost:8080/"
        },
        "id": "XhUnL26awT5y",
        "outputId": "061c31cf-96bd-4583-f78b-871e9b5d71a7"
      },
      "source": [
        "df_cat.drop(['desc','dev_name','project','url','title','trans','poster_name','post_date','city','type'],axis=1,inplace=True)"
      ],
      "execution_count": 39,
      "outputs": [
        {
          "output_type": "stream",
          "text": [
            "/usr/local/lib/python3.6/dist-packages/pandas/core/frame.py:4174: SettingWithCopyWarning: \n",
            "A value is trying to be set on a copy of a slice from a DataFrame\n",
            "\n",
            "See the caveats in the documentation: https://pandas.pydata.org/pandas-docs/stable/user_guide/indexing.html#returning-a-view-versus-a-copy\n",
            "  errors=errors,\n"
          ],
          "name": "stderr"
        }
      ]
    },
    {
      "cell_type": "code",
      "metadata": {
        "colab": {
          "base_uri": "https://localhost:8080/"
        },
        "id": "Lzs4ZFm5wVLE",
        "outputId": "a7e09af2-53ba-4ea4-c62b-67376a9a6b6e"
      },
      "source": [
        "print(df_num.isnull().sum())\r\n",
        "print(\"\\n\")\r\n",
        "print(df_cat.isnull().sum())"
      ],
      "execution_count": 40,
      "outputs": [
        {
          "output_type": "stream",
          "text": [
            "area              0\n",
            "bathroom_num      0\n",
            "bedroom_num       0\n",
            "price             0\n",
            "price_per_sqft    0\n",
            "dtype: int64\n",
            "\n",
            "\n",
            "furnishing    0\n",
            "locality      0\n",
            "user_type     0\n",
            "dtype: int64\n"
          ],
          "name": "stdout"
        }
      ]
    },
    {
      "cell_type": "code",
      "metadata": {
        "colab": {
          "base_uri": "https://localhost:8080/"
        },
        "id": "iuX-0ifCwW-u",
        "outputId": "5bbf1cdd-8e7d-4df1-eab5-6b99198deaa4"
      },
      "source": [
        "from sklearn.preprocessing import LabelEncoder\r\n",
        "le = LabelEncoder()\r\n",
        "for col in df_cat:\r\n",
        "  df_cat[col]=le.fit_transform(df_cat[col])"
      ],
      "execution_count": 41,
      "outputs": [
        {
          "output_type": "stream",
          "text": [
            "/usr/local/lib/python3.6/dist-packages/ipykernel_launcher.py:4: SettingWithCopyWarning: \n",
            "A value is trying to be set on a copy of a slice from a DataFrame.\n",
            "Try using .loc[row_indexer,col_indexer] = value instead\n",
            "\n",
            "See the caveats in the documentation: https://pandas.pydata.org/pandas-docs/stable/user_guide/indexing.html#returning-a-view-versus-a-copy\n",
            "  after removing the cwd from sys.path.\n"
          ],
          "name": "stderr"
        }
      ]
    },
    {
      "cell_type": "code",
      "metadata": {
        "colab": {
          "base_uri": "https://localhost:8080/"
        },
        "id": "4f3rB2mZwY3c",
        "outputId": "33f760aa-a705-4436-ee2a-13fd15adfbad"
      },
      "source": [
        "from scipy.stats import skew\r\n",
        "\r\n",
        "print(\"Checking the distribution of data in every column\")\r\n",
        "for col in df_num:\r\n",
        "  print(col)\r\n",
        "  print(\"Skew: \",skew(df_num[col]))\r\n",
        "  #sns.histplot(df_num[col])\r\n",
        "  print(\"----\"*5)"
      ],
      "execution_count": 42,
      "outputs": [
        {
          "output_type": "stream",
          "text": [
            "Checking the distribution of data in every column\n",
            "area\n",
            "Skew:  2.1258738259859515\n",
            "--------------------\n",
            "bathroom_num\n",
            "Skew:  1.2358425741569214\n",
            "--------------------\n",
            "bedroom_num\n",
            "Skew:  0.24227171201752012\n",
            "--------------------\n",
            "price\n",
            "Skew:  4.294647535024238\n",
            "--------------------\n",
            "price_per_sqft\n",
            "Skew:  85.22750428743701\n",
            "--------------------\n"
          ],
          "name": "stdout"
        }
      ]
    },
    {
      "cell_type": "markdown",
      "metadata": {
        "id": "upYtBPT5wdxV"
      },
      "source": [
        "AS we can notice that our skew is pretty high for area, bathroom_num, floor_count, floor_num so we are going to try to work on this. \r\n",
        "\r\n",
        "Skewness should always be in the range of -0.5 to +0.5 "
      ]
    },
    {
      "cell_type": "code",
      "metadata": {
        "id": "3HQJ7V4awbsR"
      },
      "source": [
        "df2 = df_num.copy()"
      ],
      "execution_count": 43,
      "outputs": []
    },
    {
      "cell_type": "code",
      "metadata": {
        "colab": {
          "base_uri": "https://localhost:8080/"
        },
        "id": "a__HDxN5wgf0",
        "outputId": "aa6b43f6-ae22-48ac-8a88-cd2c4009ed63"
      },
      "source": [
        "df_num['area'] = np.log(df_num['area'])\r\n",
        "skew(df_num['area'])"
      ],
      "execution_count": 44,
      "outputs": [
        {
          "output_type": "stream",
          "text": [
            "/usr/local/lib/python3.6/dist-packages/ipykernel_launcher.py:1: SettingWithCopyWarning: \n",
            "A value is trying to be set on a copy of a slice from a DataFrame.\n",
            "Try using .loc[row_indexer,col_indexer] = value instead\n",
            "\n",
            "See the caveats in the documentation: https://pandas.pydata.org/pandas-docs/stable/user_guide/indexing.html#returning-a-view-versus-a-copy\n",
            "  \"\"\"Entry point for launching an IPython kernel.\n"
          ],
          "name": "stderr"
        },
        {
          "output_type": "execute_result",
          "data": {
            "text/plain": [
              "-0.0012150139261569617"
            ]
          },
          "metadata": {
            "tags": []
          },
          "execution_count": 44
        }
      ]
    },
    {
      "cell_type": "code",
      "metadata": {
        "colab": {
          "base_uri": "https://localhost:8080/"
        },
        "id": "LhQxJltQwibm",
        "outputId": "77fd59cf-86b2-43a7-9d3d-1f9ee9be8aae"
      },
      "source": [
        "df_num['bathroom_num'] = np.sqrt(df_num['bathroom_num'])\r\n",
        "skew(df_num['bathroom_num'])"
      ],
      "execution_count": 45,
      "outputs": [
        {
          "output_type": "stream",
          "text": [
            "/usr/local/lib/python3.6/dist-packages/ipykernel_launcher.py:1: SettingWithCopyWarning: \n",
            "A value is trying to be set on a copy of a slice from a DataFrame.\n",
            "Try using .loc[row_indexer,col_indexer] = value instead\n",
            "\n",
            "See the caveats in the documentation: https://pandas.pydata.org/pandas-docs/stable/user_guide/indexing.html#returning-a-view-versus-a-copy\n",
            "  \"\"\"Entry point for launching an IPython kernel.\n"
          ],
          "name": "stderr"
        },
        {
          "output_type": "execute_result",
          "data": {
            "text/plain": [
              "0.5398819482200872"
            ]
          },
          "metadata": {
            "tags": []
          },
          "execution_count": 45
        }
      ]
    },
    {
      "cell_type": "code",
      "metadata": {
        "colab": {
          "base_uri": "https://localhost:8080/"
        },
        "id": "qm4DsdPswlh1",
        "outputId": "aed65681-e29b-469b-8e27-3c1cd43b8ac9"
      },
      "source": [
        "df_num['bedroom_num'].value_counts()"
      ],
      "execution_count": 46,
      "outputs": [
        {
          "output_type": "execute_result",
          "data": {
            "text/plain": [
              "2    7033\n",
              "3    5486\n",
              "1    3305\n",
              "4    1190\n",
              "5      91\n",
              "Name: bedroom_num, dtype: int64"
            ]
          },
          "metadata": {
            "tags": []
          },
          "execution_count": 46
        }
      ]
    },
    {
      "cell_type": "code",
      "metadata": {
        "colab": {
          "base_uri": "https://localhost:8080/",
          "height": 279
        },
        "id": "zWYLgAO-wsQo",
        "outputId": "3f503383-ad28-4c02-80cb-db96d479c53d"
      },
      "source": [
        "plt.hist(df_num['bedroom_num'])\r\n",
        "plt.xlabel('Number of bedrooms')\r\n",
        "plt.ylabel('count')\r\n",
        "plt.show()"
      ],
      "execution_count": 47,
      "outputs": [
        {
          "output_type": "display_data",
          "data": {
            "image/png": "[encoded data removed]",
            "text/plain": [
              "<Figure size 432x288 with 1 Axes>"
            ]
          },
          "metadata": {
            "tags": [],
            "needs_background": "light"
          }
        }
      ]
    },
    {
      "cell_type": "code",
      "metadata": {
        "colab": {
          "base_uri": "https://localhost:8080/",
          "height": 279
        },
        "id": "50PeIVCDwvDi",
        "outputId": "cca46486-2765-46c0-8a3b-1aacd8adfc81"
      },
      "source": [
        "plt.hist(df_num['bathroom_num'], density=False, histtype='stepfilled')\r\n",
        "plt.xlabel('Number of bathrooms')\r\n",
        "plt.ylabel('count')\r\n",
        "plt.show()"
      ],
      "execution_count": 48,
      "outputs": [
        {
          "output_type": "display_data",
          "data": {
            "image/png": "[encoded data removed]",
            "text/plain": [
              "<Figure size 432x288 with 1 Axes>"
            ]
          },
          "metadata": {
            "tags": [],
            "needs_background": "light"
          }
        }
      ]
    },
    {
      "cell_type": "code",
      "metadata": {
        "colab": {
          "base_uri": "https://localhost:8080/",
          "height": 194
        },
        "id": "ymhR6vEiwwTe",
        "outputId": "39315a51-244f-4044-bf5b-94ea61103a9f"
      },
      "source": [
        "df_num.corr()"
      ],
      "execution_count": 49,
      "outputs": [
        {
          "output_type": "execute_result",
          "data": {
            "text/html": [
              "<div>\n",
              "<style scoped>\n",
              "    .dataframe tbody tr th:only-of-type {\n",
              "        vertical-align: middle;\n",
              "    }\n",
              "\n",
              "    .dataframe tbody tr th {\n",
              "        vertical-align: top;\n",
              "    }\n",
              "\n",
              "    .dataframe thead th {\n",
              "        text-align: right;\n",
              "    }\n",
              "</style>\n",
              "<table border=\"1\" class=\"dataframe\">\n",
              "  <thead>\n",
              "    <tr style=\"text-align: right;\">\n",
              "      <th></th>\n",
              "      <th>area</th>\n",
              "      <th>bathroom_num</th>\n",
              "      <th>bedroom_num</th>\n",
              "      <th>price</th>\n",
              "      <th>price_per_sqft</th>\n",
              "    </tr>\n",
              "  </thead>\n",
              "  <tbody>\n",
              "    <tr>\n",
              "      <th>area</th>\n",
              "      <td>1.000000</td>\n",
              "      <td>0.801590</td>\n",
              "      <td>0.885137</td>\n",
              "      <td>0.667237</td>\n",
              "      <td>-0.055581</td>\n",
              "    </tr>\n",
              "    <tr>\n",
              "      <th>bathroom_num</th>\n",
              "      <td>0.801590</td>\n",
              "      <td>1.000000</td>\n",
              "      <td>0.824630</td>\n",
              "      <td>0.591168</td>\n",
              "      <td>0.054983</td>\n",
              "    </tr>\n",
              "    <tr>\n",
              "      <th>bedroom_num</th>\n",
              "      <td>0.885137</td>\n",
              "      <td>0.824630</td>\n",
              "      <td>1.000000</td>\n",
              "      <td>0.582484</td>\n",
              "      <td>0.054796</td>\n",
              "    </tr>\n",
              "    <tr>\n",
              "      <th>price</th>\n",
              "      <td>0.667237</td>\n",
              "      <td>0.591168</td>\n",
              "      <td>0.582484</td>\n",
              "      <td>1.000000</td>\n",
              "      <td>0.185488</td>\n",
              "    </tr>\n",
              "    <tr>\n",
              "      <th>price_per_sqft</th>\n",
              "      <td>-0.055581</td>\n",
              "      <td>0.054983</td>\n",
              "      <td>0.054796</td>\n",
              "      <td>0.185488</td>\n",
              "      <td>1.000000</td>\n",
              "    </tr>\n",
              "  </tbody>\n",
              "</table>\n",
              "</div>"
            ],
            "text/plain": [
              "                    area  bathroom_num  bedroom_num     price  price_per_sqft\n",
              "area            1.000000      0.801590     0.885137  0.667237       -0.055581\n",
              "bathroom_num    0.801590      1.000000     0.824630  0.591168        0.054983\n",
              "bedroom_num     0.885137      0.824630     1.000000  0.582484        0.054796\n",
              "price           0.667237      0.591168     0.582484  1.000000        0.185488\n",
              "price_per_sqft -0.055581      0.054983     0.054796  0.185488        1.000000"
            ]
          },
          "metadata": {
            "tags": []
          },
          "execution_count": 49
        }
      ]
    },
    {
      "cell_type": "code",
      "metadata": {
        "id": "IPUmaOPCwzZm"
      },
      "source": [
        "df_new = pd.concat([df_num,df_cat],axis=1)"
      ],
      "execution_count": 50,
      "outputs": []
    },
    {
      "cell_type": "code",
      "metadata": {
        "colab": {
          "base_uri": "https://localhost:8080/",
          "height": 194
        },
        "id": "VczI7Bp3wzXz",
        "outputId": "15460033-e28a-444a-a38d-7359b89cbed1"
      },
      "source": [
        "df_new.head()"
      ],
      "execution_count": 51,
      "outputs": [
        {
          "output_type": "execute_result",
          "data": {
            "text/html": [
              "<div>\n",
              "<style scoped>\n",
              "    .dataframe tbody tr th:only-of-type {\n",
              "        vertical-align: middle;\n",
              "    }\n",
              "\n",
              "    .dataframe tbody tr th {\n",
              "        vertical-align: top;\n",
              "    }\n",
              "\n",
              "    .dataframe thead th {\n",
              "        text-align: right;\n",
              "    }\n",
              "</style>\n",
              "<table border=\"1\" class=\"dataframe\">\n",
              "  <thead>\n",
              "    <tr style=\"text-align: right;\">\n",
              "      <th></th>\n",
              "      <th>area</th>\n",
              "      <th>bathroom_num</th>\n",
              "      <th>bedroom_num</th>\n",
              "      <th>price</th>\n",
              "      <th>price_per_sqft</th>\n",
              "      <th>furnishing</th>\n",
              "      <th>locality</th>\n",
              "      <th>user_type</th>\n",
              "    </tr>\n",
              "  </thead>\n",
              "  <tbody>\n",
              "    <tr>\n",
              "      <th>1</th>\n",
              "      <td>6.480045</td>\n",
              "      <td>1.414214</td>\n",
              "      <td>1</td>\n",
              "      <td>8060</td>\n",
              "      <td>12.361963</td>\n",
              "      <td>1</td>\n",
              "      <td>410</td>\n",
              "      <td>0</td>\n",
              "    </tr>\n",
              "    <tr>\n",
              "      <th>2</th>\n",
              "      <td>6.453625</td>\n",
              "      <td>1.414214</td>\n",
              "      <td>1</td>\n",
              "      <td>8000</td>\n",
              "      <td>12.598425</td>\n",
              "      <td>1</td>\n",
              "      <td>426</td>\n",
              "      <td>0</td>\n",
              "    </tr>\n",
              "    <tr>\n",
              "      <th>4</th>\n",
              "      <td>6.437752</td>\n",
              "      <td>1.000000</td>\n",
              "      <td>1</td>\n",
              "      <td>9000</td>\n",
              "      <td>14.400000</td>\n",
              "      <td>0</td>\n",
              "      <td>282</td>\n",
              "      <td>2</td>\n",
              "    </tr>\n",
              "    <tr>\n",
              "      <th>5</th>\n",
              "      <td>6.445720</td>\n",
              "      <td>1.414214</td>\n",
              "      <td>1</td>\n",
              "      <td>8000</td>\n",
              "      <td>12.698413</td>\n",
              "      <td>2</td>\n",
              "      <td>428</td>\n",
              "      <td>0</td>\n",
              "    </tr>\n",
              "    <tr>\n",
              "      <th>6</th>\n",
              "      <td>6.536692</td>\n",
              "      <td>1.414214</td>\n",
              "      <td>1</td>\n",
              "      <td>8500</td>\n",
              "      <td>12.318841</td>\n",
              "      <td>0</td>\n",
              "      <td>426</td>\n",
              "      <td>0</td>\n",
              "    </tr>\n",
              "  </tbody>\n",
              "</table>\n",
              "</div>"
            ],
            "text/plain": [
              "       area  bathroom_num  bedroom_num  ...  furnishing  locality  user_type\n",
              "1  6.480045      1.414214            1  ...           1       410          0\n",
              "2  6.453625      1.414214            1  ...           1       426          0\n",
              "4  6.437752      1.000000            1  ...           0       282          2\n",
              "5  6.445720      1.414214            1  ...           2       428          0\n",
              "6  6.536692      1.414214            1  ...           0       426          0\n",
              "\n",
              "[5 rows x 8 columns]"
            ]
          },
          "metadata": {
            "tags": []
          },
          "execution_count": 51
        }
      ]
    },
    {
      "cell_type": "code",
      "metadata": {
        "colab": {
          "base_uri": "https://localhost:8080/",
          "height": 552
        },
        "id": "2bRsNlTEwzV4",
        "outputId": "c5201f90-77a1-43ad-917a-9f8ff6b9821c"
      },
      "source": [
        "plt.figure(figsize=(8,8))\r\n",
        "sns.heatmap(df_new.corr(),annot=True)\r\n",
        "plt.show()"
      ],
      "execution_count": 52,
      "outputs": [
        {
          "output_type": "display_data",
          "data": {
            "image/png": "[encoded data removed]",
            "text/plain": [
              "<Figure size 576x576 with 2 Axes>"
            ]
          },
          "metadata": {
            "tags": [],
            "needs_background": "light"
          }
        }
      ]
    },
    {
      "cell_type": "code",
      "metadata": {
        "colab": {
          "base_uri": "https://localhost:8080/",
          "height": 563
        },
        "id": "GAWRQ--XwzT9",
        "outputId": "8fd47bd8-4e21-469a-c7bd-56084bbd59b3"
      },
      "source": [
        "plt.figure(figsize=(9,9))\r\n",
        "sns.boxplot(data=df_new, x='bedroom_num',y='price',orient=\"v\")\r\n",
        "plt.show()"
      ],
      "execution_count": 53,
      "outputs": [
        {
          "output_type": "display_data",
          "data": {
            "image/png": "[encoded data removed]",
            "text/plain": [
              "<Figure size 648x648 with 1 Axes>"
            ]
          },
          "metadata": {
            "tags": [],
            "needs_background": "light"
          }
        }
      ]
    },
    {
      "cell_type": "code",
      "metadata": {
        "colab": {
          "base_uri": "https://localhost:8080/",
          "height": 563
        },
        "id": "aD9JsWKFwzSW",
        "outputId": "bc7b722f-f77b-4f5a-d0c0-28fd4172bf43"
      },
      "source": [
        "plt.figure(figsize=(9,9))\r\n",
        "sns.boxplot(data=df_new, x='bathroom_num',y='price',orient=\"v\")\r\n",
        "plt.show()"
      ],
      "execution_count": 54,
      "outputs": [
        {
          "output_type": "display_data",
          "data": {
            "image/png": "[encoded data removed]",
            "text/plain": [
              "<Figure size 648x648 with 1 Axes>"
            ]
          },
          "metadata": {
            "tags": [],
            "needs_background": "light"
          }
        }
      ]
    },
    {
      "cell_type": "code",
      "metadata": {
        "colab": {
          "base_uri": "https://localhost:8080/",
          "height": 551
        },
        "id": "_6NGoLdmwzQh",
        "outputId": "c99a7e61-2572-4095-80e4-8961524a17af"
      },
      "source": [
        "plt.figure(figsize=(9,9))\r\n",
        "sns.boxplot(data=df_new, x='price', linewidth=1.5)\r\n",
        "plt.show()"
      ],
      "execution_count": 55,
      "outputs": [
        {
          "output_type": "display_data",
          "data": {
            "image/png": "[encoded data removed]",
            "text/plain": [
              "<Figure size 648x648 with 1 Axes>"
            ]
          },
          "metadata": {
            "tags": [],
            "needs_background": "light"
          }
        }
      ]
    },
    {
      "cell_type": "code",
      "metadata": {
        "colab": {
          "base_uri": "https://localhost:8080/"
        },
        "id": "s6rULtuswzOv",
        "outputId": "f4e59d70-5c4a-466d-c778-1979f8a6f279"
      },
      "source": [
        "# To find outliers\r\n",
        "\r\n",
        "q1 = df_new['price'].quantile(0.25)\r\n",
        "q3 = df_new['price'].quantile(0.75)\r\n",
        "IQR = q3-q1\r\n",
        "Upper_range = q3 + IQR*1.5\r\n",
        "print(q1, q3)\r\n",
        "print(Upper_range)\r\n",
        "print(len(df_new))"
      ],
      "execution_count": 56,
      "outputs": [
        {
          "output_type": "stream",
          "text": [
            "36000.0 85000.0\n",
            "158500.0\n",
            "17105\n"
          ],
          "name": "stdout"
        }
      ]
    },
    {
      "cell_type": "code",
      "metadata": {
        "colab": {
          "base_uri": "https://localhost:8080/",
          "height": 399
        },
        "id": "0iqsLG1jwzMx",
        "outputId": "63101b4d-051f-42bc-a45d-94bab03b8528"
      },
      "source": [
        "df_new[df_new['price'] > Upper_range]"
      ],
      "execution_count": 57,
      "outputs": [
        {
          "output_type": "execute_result",
          "data": {
            "text/html": [
              "<div>\n",
              "<style scoped>\n",
              "    .dataframe tbody tr th:only-of-type {\n",
              "        vertical-align: middle;\n",
              "    }\n",
              "\n",
              "    .dataframe tbody tr th {\n",
              "        vertical-align: top;\n",
              "    }\n",
              "\n",
              "    .dataframe thead th {\n",
              "        text-align: right;\n",
              "    }\n",
              "</style>\n",
              "<table border=\"1\" class=\"dataframe\">\n",
              "  <thead>\n",
              "    <tr style=\"text-align: right;\">\n",
              "      <th></th>\n",
              "      <th>area</th>\n",
              "      <th>bathroom_num</th>\n",
              "      <th>bedroom_num</th>\n",
              "      <th>price</th>\n",
              "      <th>price_per_sqft</th>\n",
              "      <th>furnishing</th>\n",
              "      <th>locality</th>\n",
              "      <th>user_type</th>\n",
              "    </tr>\n",
              "  </thead>\n",
              "  <tbody>\n",
              "    <tr>\n",
              "      <th>1222</th>\n",
              "      <td>8.160518</td>\n",
              "      <td>2.000000</td>\n",
              "      <td>4</td>\n",
              "      <td>170000</td>\n",
              "      <td>48.571429</td>\n",
              "      <td>1</td>\n",
              "      <td>305</td>\n",
              "      <td>0</td>\n",
              "    </tr>\n",
              "    <tr>\n",
              "      <th>1223</th>\n",
              "      <td>7.824046</td>\n",
              "      <td>2.000000</td>\n",
              "      <td>4</td>\n",
              "      <td>165000</td>\n",
              "      <td>66.000000</td>\n",
              "      <td>1</td>\n",
              "      <td>21</td>\n",
              "      <td>0</td>\n",
              "    </tr>\n",
              "    <tr>\n",
              "      <th>1224</th>\n",
              "      <td>7.600902</td>\n",
              "      <td>2.236068</td>\n",
              "      <td>4</td>\n",
              "      <td>170000</td>\n",
              "      <td>85.000000</td>\n",
              "      <td>1</td>\n",
              "      <td>440</td>\n",
              "      <td>0</td>\n",
              "    </tr>\n",
              "    <tr>\n",
              "      <th>1225</th>\n",
              "      <td>7.761745</td>\n",
              "      <td>2.236068</td>\n",
              "      <td>4</td>\n",
              "      <td>190000</td>\n",
              "      <td>80.885483</td>\n",
              "      <td>1</td>\n",
              "      <td>440</td>\n",
              "      <td>0</td>\n",
              "    </tr>\n",
              "    <tr>\n",
              "      <th>1226</th>\n",
              "      <td>8.003697</td>\n",
              "      <td>2.236068</td>\n",
              "      <td>4</td>\n",
              "      <td>170000</td>\n",
              "      <td>56.818182</td>\n",
              "      <td>1</td>\n",
              "      <td>224</td>\n",
              "      <td>0</td>\n",
              "    </tr>\n",
              "    <tr>\n",
              "      <th>...</th>\n",
              "      <td>...</td>\n",
              "      <td>...</td>\n",
              "      <td>...</td>\n",
              "      <td>...</td>\n",
              "      <td>...</td>\n",
              "      <td>...</td>\n",
              "      <td>...</td>\n",
              "      <td>...</td>\n",
              "    </tr>\n",
              "    <tr>\n",
              "      <th>34076</th>\n",
              "      <td>7.843849</td>\n",
              "      <td>1.732051</td>\n",
              "      <td>3</td>\n",
              "      <td>400000</td>\n",
              "      <td>156.862745</td>\n",
              "      <td>2</td>\n",
              "      <td>129</td>\n",
              "      <td>0</td>\n",
              "    </tr>\n",
              "    <tr>\n",
              "      <th>34077</th>\n",
              "      <td>7.955074</td>\n",
              "      <td>1.732051</td>\n",
              "      <td>3</td>\n",
              "      <td>450000</td>\n",
              "      <td>157.894737</td>\n",
              "      <td>1</td>\n",
              "      <td>324</td>\n",
              "      <td>0</td>\n",
              "    </tr>\n",
              "    <tr>\n",
              "      <th>34087</th>\n",
              "      <td>8.160518</td>\n",
              "      <td>2.000000</td>\n",
              "      <td>3</td>\n",
              "      <td>425000</td>\n",
              "      <td>121.428571</td>\n",
              "      <td>1</td>\n",
              "      <td>237</td>\n",
              "      <td>0</td>\n",
              "    </tr>\n",
              "    <tr>\n",
              "      <th>34088</th>\n",
              "      <td>7.803843</td>\n",
              "      <td>1.732051</td>\n",
              "      <td>3</td>\n",
              "      <td>425000</td>\n",
              "      <td>173.469388</td>\n",
              "      <td>0</td>\n",
              "      <td>324</td>\n",
              "      <td>0</td>\n",
              "    </tr>\n",
              "    <tr>\n",
              "      <th>34089</th>\n",
              "      <td>7.843849</td>\n",
              "      <td>1.732051</td>\n",
              "      <td>3</td>\n",
              "      <td>450000</td>\n",
              "      <td>176.470588</td>\n",
              "      <td>1</td>\n",
              "      <td>389</td>\n",
              "      <td>0</td>\n",
              "    </tr>\n",
              "  </tbody>\n",
              "</table>\n",
              "<p>1413 rows × 8 columns</p>\n",
              "</div>"
            ],
            "text/plain": [
              "           area  bathroom_num  bedroom_num  ...  furnishing  locality  user_type\n",
              "1222   8.160518      2.000000            4  ...           1       305          0\n",
              "1223   7.824046      2.000000            4  ...           1        21          0\n",
              "1224   7.600902      2.236068            4  ...           1       440          0\n",
              "1225   7.761745      2.236068            4  ...           1       440          0\n",
              "1226   8.003697      2.236068            4  ...           1       224          0\n",
              "...         ...           ...          ...  ...         ...       ...        ...\n",
              "34076  7.843849      1.732051            3  ...           2       129          0\n",
              "34077  7.955074      1.732051            3  ...           1       324          0\n",
              "34087  8.160518      2.000000            3  ...           1       237          0\n",
              "34088  7.803843      1.732051            3  ...           0       324          0\n",
              "34089  7.843849      1.732051            3  ...           1       389          0\n",
              "\n",
              "[1413 rows x 8 columns]"
            ]
          },
          "metadata": {
            "tags": []
          },
          "execution_count": 57
        }
      ]
    },
    {
      "cell_type": "code",
      "metadata": {
        "colab": {
          "base_uri": "https://localhost:8080/"
        },
        "id": "COaogxwpwzLH",
        "outputId": "3db92627-25c5-4540-ed07-413ed5fa6288"
      },
      "source": [
        "from sklearn.linear_model import LinearRegression\r\n",
        "from sklearn.model_selection import train_test_split\r\n",
        "from sklearn.metrics import r2_score, mean_squared_error\r\n",
        "\r\n",
        "lr = LinearRegression()\r\n",
        "\r\n",
        "x = df_new.drop(['furnishing','locality','user_type','price_per_sqft','price'], axis=1)\r\n",
        "y = df_new['price']\r\n",
        "x_train, x_test, y_train, y_test = train_test_split(x,y,test_size=0.25)\r\n",
        "\r\n",
        "lr.fit(x_train,y_train)\r\n",
        "y_predict = lr.predict(x_test)\r\n",
        "\r\n",
        "print(\"MSE = \", mean_squared_error(y_test, y_predict))\r\n",
        "print(\"R2_score: \",r2_score(y_test, y_predict))\r\n",
        "#print(x_test)\r\n",
        "#print(lr.predict(x_test))"
      ],
      "execution_count": 58,
      "outputs": [
        {
          "output_type": "stream",
          "text": [
            "MSE =  2631193962.3400574\n",
            "R2_score:  0.4676357694371054\n"
          ],
          "name": "stdout"
        }
      ]
    },
    {
      "cell_type": "code",
      "metadata": {
        "colab": {
          "base_uri": "https://localhost:8080/",
          "height": 552
        },
        "id": "OvB1j0XfwzJA",
        "outputId": "15955abc-749a-4ed5-d32d-c3bda634ed90"
      },
      "source": [
        "# Correlation between independent variables test #Fail since dependent variables are correlated with each other. \r\n",
        "plt.figure(figsize=(8,8)) \r\n",
        "sns.heatmap(df_new.corr(), annot=True)\r\n",
        "plt.show()"
      ],
      "execution_count": 59,
      "outputs": [
        {
          "output_type": "display_data",
          "data": {
            "image/png": "[encoded data removed]",
            "text/plain": [
              "<Figure size 576x576 with 2 Axes>"
            ]
          },
          "metadata": {
            "tags": [],
            "needs_background": "light"
          }
        }
      ]
    },
    {
      "cell_type": "code",
      "metadata": {
        "colab": {
          "base_uri": "https://localhost:8080/"
        },
        "id": "wYozJLZXwzGZ",
        "outputId": "2d656ddd-ac7e-4883-a206-1ff3cf2c65ae"
      },
      "source": [
        "y_predict = lr.predict(x_test)\r\n",
        "y_predict_train = lr.predict(x_train)\r\n",
        "print(\"Bias = \", r2_score(y_train, y_predict_train))\r\n",
        "print(\"Variance = \", r2_score(y_test, y_predict))\r\n",
        "# Variance should be less than bias if its not then there is need for regularization. "
      ],
      "execution_count": 60,
      "outputs": [
        {
          "output_type": "stream",
          "text": [
            "Bias =  0.4548546899720134\n",
            "Variance =  0.4676357694371054\n"
          ],
          "name": "stdout"
        }
      ]
    },
    {
      "cell_type": "code",
      "metadata": {
        "colab": {
          "base_uri": "https://localhost:8080/",
          "height": 265
        },
        "id": "U6eU2PVDwzET",
        "outputId": "64d9c1df-3b03-4d64-e2f9-fd863e855735"
      },
      "source": [
        "# The residuals are homoskedastial\r\n",
        "residuals = y_predict - y_test\r\n",
        "plt.scatter(y_test, residuals )\r\n",
        "plt.show()"
      ],
      "execution_count": 61,
      "outputs": [
        {
          "output_type": "display_data",
          "data": {
            "image/png": "[encoded data removed]",
            "text/plain": [
              "<Figure size 432x288 with 1 Axes>"
            ]
          },
          "metadata": {
            "tags": [],
            "needs_background": "light"
          }
        }
      ]
    },
    {
      "cell_type": "code",
      "metadata": {
        "colab": {
          "base_uri": "https://localhost:8080/",
          "height": 387
        },
        "id": "AN_3U6GswzCh",
        "outputId": "96aff177-be41-456c-ba1f-6115bc54f5df"
      },
      "source": [
        "# Checking if residuals are normally distributed\r\n",
        "print(\"Skew of residuals = \",skew(residuals))\r\n",
        "sns.displot(residuals)\r\n",
        "plt.show()\r\n",
        "\r\n",
        "#Since residuals are not normally distributed this test also fails. "
      ],
      "execution_count": 62,
      "outputs": [
        {
          "output_type": "stream",
          "text": [
            "Skew of residuals =  -4.072248843021644\n"
          ],
          "name": "stdout"
        },
        {
          "output_type": "display_data",
          "data": {
            "image/png": "[encoded data removed]",
            "text/plain": [
              "<Figure size 360x360 with 1 Axes>"
            ]
          },
          "metadata": {
            "tags": [],
            "needs_background": "light"
          }
        }
      ]
    },
    {
      "cell_type": "code",
      "metadata": {
        "colab": {
          "base_uri": "https://localhost:8080/"
        },
        "id": "HDb1r0Rmwy_V",
        "outputId": "074f1d25-22ed-46cf-fc37-74e185378e79"
      },
      "source": [
        "from sklearn.preprocessing import PolynomialFeatures\r\n",
        "\r\n",
        "pf = PolynomialFeatures(degree=2)\r\n",
        "x1 = df_new.drop(['furnishing','locality','user_type','price_per_sqft','price'], axis=1)\r\n",
        "y1 = df_new['price']\r\n",
        "\r\n",
        "x_trn, x_tst, y_trn, y_tst = train_test_split(x1,y1, test_size=0.25)\r\n",
        "\r\n",
        "x_poly_trn2 = pf.fit_transform(x_trn)\r\n",
        "x_poly_tst2 = pf.fit_transform(x_tst)\r\n",
        "\r\n",
        "lr_poly2 = LinearRegression()\r\n",
        "lr_poly2.fit(x_poly_trn2, y_trn)\r\n",
        "\r\n",
        "y_pred_trn = lr_poly2.predict(x_poly_trn2)\r\n",
        "y_pred_tst = lr_poly2.predict(x_poly_tst2)\r\n",
        "\r\n",
        "print(\"Slope : {}\\n Intercept : {}\".format(lr_poly2.coef_,lr_poly2.intercept_))\r\n",
        "print(\"r2_score : {}\".format(lr_poly2.score(x_poly_tst2,y_tst)))"
      ],
      "execution_count": 63,
      "outputs": [
        {
          "output_type": "stream",
          "text": [
            "Slope : [ 0.00000000e+00 -6.12694457e+05 -4.36320864e+05 -5.13846903e+04\n",
            "  4.11081179e+04  8.12794698e+04  7.14938982e+03 -3.84208166e+04\n",
            " -4.70021866e+03 -3.63583775e+02]\n",
            " Intercept : 2234011.548036698\n",
            "r2_score : 0.6103585409626063\n"
          ],
          "name": "stdout"
        }
      ]
    },
    {
      "cell_type": "code",
      "metadata": {
        "colab": {
          "base_uri": "https://localhost:8080/"
        },
        "id": "rVuT7wFQwy79",
        "outputId": "a3df11a6-f802-424c-81e5-09518b0268e4"
      },
      "source": [
        "residuals_poly = y_pred_tst - y_tst\r\n",
        "bias = r2_score(y_trn, y_pred_trn)\r\n",
        "variance = r2_score(y_tst, y_pred_tst)\r\n",
        "print(\"Bias = {}\\n Variance = {}\".format(bias, variance))"
      ],
      "execution_count": 64,
      "outputs": [
        {
          "output_type": "stream",
          "text": [
            "Bias = 0.5789611772330473\n",
            " Variance = 0.6103585409626063\n"
          ],
          "name": "stdout"
        }
      ]
    },
    {
      "cell_type": "code",
      "metadata": {
        "colab": {
          "base_uri": "https://localhost:8080/",
          "height": 850
        },
        "id": "q2KAe4fbwy5g",
        "outputId": "921ac29f-daac-4ddf-a94c-9b4f9ad491b5"
      },
      "source": [
        "#Multi-correlation test failed\r\n",
        "#Normal distribution test failed\r\n",
        "#Homoskedatial pass\r\n",
        "fig, axes = plt.subplots(2,2, figsize=(12,12))\r\n",
        "print(\"Skew :\",skew(residuals))\r\n",
        "sns.heatmap(df_new.corr(), annot=True, linewidth=2, linecolor='black', ax=axes[1][0])\r\n",
        "sns.histplot(residuals_poly, ax=axes[0][1])\r\n",
        "sns.scatterplot(residuals_poly, y_tst, ax=axes[0][0])\r\n",
        "plt.show()"
      ],
      "execution_count": 65,
      "outputs": [
        {
          "output_type": "stream",
          "text": [
            "Skew : -4.072248843021644\n"
          ],
          "name": "stdout"
        },
        {
          "output_type": "stream",
          "text": [
            "/usr/local/lib/python3.6/dist-packages/seaborn/_decorators.py:43: FutureWarning: Pass the following variables as keyword args: x, y. From version 0.12, the only valid positional argument will be `data`, and passing other arguments without an explicit keyword will result in an error or misinterpretation.\n",
            "  FutureWarning\n"
          ],
          "name": "stderr"
        },
        {
          "output_type": "display_data",
          "data": {
            "image/png": "[encoded data removed]",
            "text/plain": [
              "<Figure size 864x864 with 5 Axes>"
            ]
          },
          "metadata": {
            "tags": [],
            "needs_background": "light"
          }
        }
      ]
    },
    {
      "cell_type": "code",
      "metadata": {
        "id": "vHyUkSDPwyv-"
      },
      "source": [
        "from sklearn.neighbors import KNeighborsRegressor\r\n",
        "from sklearn.tree import DecisionTreeRegressor\r\n",
        "from sklearn import tree\r\n",
        "from sklearn.svm import LinearSVR, SVR"
      ],
      "execution_count": 66,
      "outputs": []
    },
    {
      "cell_type": "markdown",
      "metadata": {
        "id": "VC4pn2Y-xTZ8"
      },
      "source": [
        "**Decision Tree Regressor test**"
      ]
    },
    {
      "cell_type": "code",
      "metadata": {
        "colab": {
          "base_uri": "https://localhost:8080/",
          "height": 426
        },
        "id": "3eSLJ31axRxe",
        "outputId": "ab3283c8-fcd8-4e62-a996-b1f5395a91f4"
      },
      "source": [
        "x_train1, x_test1, y_train1, y_test1 = train_test_split(x1,y1, test_size=0.25)\r\n",
        "\r\n",
        "for i in range(1,10):\r\n",
        "  dtr = DecisionTreeRegressor(max_depth=i)\r\n",
        "  dtr.fit(x_train1, y_train1)\r\n",
        "  print(dtr.score(x_test1, y_test1))\r\n",
        "\r\n",
        "  tree.plot_tree(dtr.fit(x_train1, y_train1), feature_names=list(df), fontsize=10)\r\n",
        "# with max_depth as 6 we are getting the best results."
      ],
      "execution_count": 67,
      "outputs": [
        {
          "output_type": "stream",
          "text": [
            "0.3714749519794328\n",
            "0.540775779285376\n",
            "0.610167737603935\n",
            "0.6181910543163902\n",
            "0.6038970008801845\n",
            "0.5985755307597298\n",
            "0.5732516993304089\n",
            "0.5860943956190423\n",
            "0.5755608807446385\n"
          ],
          "name": "stdout"
        },
        {
          "output_type": "display_data",
          "data": {
            "image/png": "[encoded data removed]",
            "text/plain": [
              "<Figure size 432x288 with 1 Axes>"
            ]
          },
          "metadata": {
            "tags": [],
            "needs_background": "light"
          }
        }
      ]
    },
    {
      "cell_type": "code",
      "metadata": {
        "colab": {
          "base_uri": "https://localhost:8080/",
          "height": 1000
        },
        "id": "84TIHUtZxRvW",
        "outputId": "d0a4a9e5-6f46-4f11-cdcd-a6b44e1fcf4b"
      },
      "source": [
        "dt = DecisionTreeRegressor(splitter='best', max_depth=6, min_samples_split=2, min_samples_leaf=1)\r\n",
        "dt.fit(x_train1, y_train1)\r\n",
        "dt.score(x_test1, y_test1)\r\n",
        "y_pred = dt.predict(x_test1)\r\n",
        "tree.plot_tree(dtr.fit(x_train1, y_train1), feature_names=list(df), fontsize=10)"
      ],
      "execution_count": 68,
      "outputs": [
        {
          "output_type": "execute_result",
          "data": {
            "text/plain": [
              "[Text(186.11221529284165, 206.56799999999998, 'area <= 7.599\\nmse = 5310402630.741\\nsamples = 12828\\nvalue = 74472.609'),\n",
              " Text(90.47452548806942, 184.824, 'area <= 7.022\\nmse = 1592048735.231\\nsamples = 11272\\nvalue = 57929.765'),\n",
              " Text(47.59189262472885, 163.07999999999998, 'area <= 6.792\\nmse = 474388403.126\\nsamples = 5985\\nvalue = 38682.68'),\n",
              " Text(20.153362255965295, 141.336, 'area <= 6.55\\nmse = 232530919.401\\nsamples = 3195\\nvalue = 30839.375'),\n",
              " Text(7.171691973969631, 119.592, 'area <= 3.375\\nmse = 177806561.393\\nsamples = 2084\\nvalue = 27860.238'),\n",
              " Text(3.6312364425162693, 97.848, 'bathroom_num <= 1.573\\nmse = 6250000.0\\nsamples = 2\\nvalue = 122500.0'),\n",
              " Text(2.9049891540130153, 76.10399999999998, 'mse = 0.0\\nsamples = 1\\nvalue = 125000.0'),\n",
              " Text(4.3574837310195225, 76.10399999999998, 'mse = 0.0\\nsamples = 1\\nvalue = 120000.0'),\n",
              " Text(10.712147505422994, 97.848, 'bedroom_num <= 1.5\\nmse = 169359172.34\\nsamples = 2082\\nvalue = 27769.325'),\n",
              " Text(5.8099783080260305, 76.10399999999998, 'area <= 6.476\\nmse = 156878386.62\\nsamples = 2001\\nvalue = 27310.321'),\n",
              " Text(2.9049891540130153, 54.360000000000014, 'area <= 6.443\\nmse = 152592784.5\\nsamples = 1319\\nvalue = 26043.669'),\n",
              " Text(1.4524945770065076, 32.615999999999985, 'area <= 6.392\\nmse = 145320603.948\\nsamples = 1202\\nvalue = 26809.759'),\n",
              " Text(0.7262472885032538, 10.872000000000014, 'mse = 150475881.592\\nsamples = 755\\nvalue = 25331.048'),\n",
              " Text(2.1787418655097612, 10.872000000000014, 'mse = 126681914.597\\nsamples = 447\\nvalue = 29307.358'),\n",
              " Text(4.3574837310195225, 32.615999999999985, 'bathroom_num <= 1.207\\nmse = 159330580.904\\nsamples = 117\\nvalue = 18173.248'),\n",
              " Text(3.6312364425162693, 10.872000000000014, 'mse = 168303432.105\\nsamples = 29\\nvalue = 22157.586'),\n",
              " Text(5.0837310195227765, 10.872000000000014, 'mse = 149418077.221\\nsamples = 88\\nvalue = 16860.227'),\n",
              " Text(8.714967462039045, 54.360000000000014, 'area <= 6.536\\nmse = 156062709.699\\nsamples = 682\\nvalue = 29760.047'),\n",
              " Text(7.262472885032539, 32.615999999999985, 'bathroom_num <= 1.207\\nmse = 153943387.508\\nsamples = 632\\nvalue = 30295.335'),\n",
              " Text(6.536225596529285, 10.872000000000014, 'mse = 246754050.01\\nsamples = 156\\nvalue = 33225.596'),\n",
              " Text(7.988720173535792, 10.872000000000014, 'mse = 119790160.124\\nsamples = 476\\nvalue = 29334.998'),\n",
              " Text(10.167462039045553, 32.615999999999985, 'bathroom_num <= 1.573\\nmse = 133449764.0\\nsamples = 50\\nvalue = 22994.0'),\n",
              " Text(9.441214750542299, 10.872000000000014, 'mse = 130507838.401\\nsamples = 49\\nvalue = 23330.612'),\n",
              " Text(10.893709327548807, 10.872000000000014, 'mse = 0.0\\nsamples = 1\\nvalue = 6500.0'),\n",
              " Text(15.614316702819957, 76.10399999999998, 'bathroom_num <= 1.207\\nmse = 343900759.628\\nsamples = 81\\nvalue = 39108.432'),\n",
              " Text(13.798698481561823, 54.360000000000014, 'area <= 6.5\\nmse = 122740000.0\\nsamples = 7\\nvalue = 24200.0'),\n",
              " Text(13.07245119305857, 32.615999999999985, 'area <= 6.485\\nmse = 82279166.667\\nsamples = 6\\nvalue = 27150.0'),\n",
              " Text(12.346203904555315, 10.872000000000014, 'mse = 110501875.0\\nsamples = 4\\nvalue = 29225.0'),\n",
              " Text(13.798698481561823, 10.872000000000014, 'mse = 0.0\\nsamples = 2\\nvalue = 23000.0'),\n",
              " Text(14.524945770065077, 32.615999999999985, 'mse = 0.0\\nsamples = 1\\nvalue = 6500.0'),\n",
              " Text(17.42993492407809, 54.360000000000014, 'area <= 6.509\\nmse = 341807824.89\\nsamples = 74\\nvalue = 40518.689'),\n",
              " Text(15.977440347071584, 32.615999999999985, 'area <= 4.653\\nmse = 283384883.107\\nsamples = 64\\nvalue = 39295.047'),\n",
              " Text(15.25119305856833, 10.872000000000014, 'mse = 369600000.0\\nsamples = 5\\nvalue = 52000.0'),\n",
              " Text(16.703687635574838, 10.872000000000014, 'mse = 261239945.924\\nsamples = 59\\nvalue = 38218.356'),\n",
              " Text(18.882429501084598, 32.615999999999985, 'area <= 6.515\\nmse = 644802500.0\\nsamples = 10\\nvalue = 48350.0'),\n",
              " Text(18.156182212581346, 10.872000000000014, 'mse = 1056250000.0\\nsamples = 2\\nvalue = 77500.0'),\n",
              " Text(19.608676789587854, 10.872000000000014, 'mse = 276402343.75\\nsamples = 8\\nvalue = 41062.5'),\n",
              " Text(33.13503253796095, 119.592, 'area <= 6.577\\nmse = 287305794.898\\nsamples = 1111\\nvalue = 36427.603'),\n",
              " Text(25.418655097613883, 97.848, 'bathroom_num <= 1.207\\nmse = 205389171.198\\nsamples = 210\\nvalue = 32524.619'),\n",
              " Text(22.51366594360087, 76.10399999999998, 'area <= 6.558\\nmse = 210366203.048\\nsamples = 40\\nvalue = 36092.45'),\n",
              " Text(21.061171366594362, 54.360000000000014, 'bedroom_num <= 1.5\\nmse = 186341830.917\\nsamples = 36\\nvalue = 35047.167'),\n",
              " Text(20.334924078091106, 32.615999999999985, 'mse = 190917262.748\\nsamples = 35\\nvalue = 35191.371'),\n",
              " Text(21.787418655097614, 32.615999999999985, 'mse = 0.0\\nsamples = 1\\nvalue = 30000.0'),\n",
              " Text(23.966160520607374, 54.360000000000014, 'bedroom_num <= 1.5\\nmse = 328250000.0\\nsamples = 4\\nvalue = 45500.0'),\n",
              " Text(23.239913232104122, 32.615999999999985, 'area <= 6.567\\nmse = 268666666.667\\nsamples = 3\\nvalue = 52000.0'),\n",
              " Text(22.51366594360087, 10.872000000000014, 'mse = 342250000.0\\nsamples = 2\\nvalue = 56500.0'),\n",
              " Text(23.966160520607374, 10.872000000000014, 'mse = 0.0\\nsamples = 1\\nvalue = 43000.0'),\n",
              " Text(24.69240780911063, 32.615999999999985, 'mse = 0.0\\nsamples = 1\\nvalue = 26000.0'),\n",
              " Text(28.3236442516269, 76.10399999999998, 'bedroom_num <= 1.5\\nmse = 200518204.924\\nsamples = 170\\nvalue = 31685.129'),\n",
              " Text(26.87114967462039, 54.360000000000014, 'bathroom_num <= 1.573\\nmse = 173376662.725\\nsamples = 140\\nvalue = 30717.657'),\n",
              " Text(26.14490238611714, 32.615999999999985, 'area <= 6.574\\nmse = 173159257.191\\nsamples = 139\\nvalue = 30819.942'),\n",
              " Text(25.418655097613883, 10.872000000000014, 'mse = 173967696.543\\nsamples = 138\\nvalue = 30876.609'),\n",
              " Text(26.87114967462039, 10.872000000000014, 'mse = 0.0\\nsamples = 1\\nvalue = 23000.0'),\n",
              " Text(27.597396963123646, 32.615999999999985, 'mse = 0.0\\nsamples = 1\\nvalue = 16500.0'),\n",
              " Text(29.776138828633407, 54.360000000000014, 'area <= 6.569\\nmse = 302426666.667\\nsamples = 30\\nvalue = 36200.0'),\n",
              " Text(29.049891540130155, 32.615999999999985, 'area <= 6.558\\nmse = 310801020.408\\nsamples = 28\\nvalue = 36642.857'),\n",
              " Text(28.3236442516269, 10.872000000000014, 'mse = 300558593.75\\nsamples = 24\\nvalue = 36687.5'),\n",
              " Text(29.776138828633407, 10.872000000000014, 'mse = 372171875.0\\nsamples = 4\\nvalue = 36375.0'),\n",
              " Text(30.50238611713666, 32.615999999999985, 'mse = 144000000.0\\nsamples = 2\\nvalue = 30000.0'),\n",
              " Text(40.85140997830803, 97.848, 'bathroom_num <= 1.207\\nmse = 302020443.972\\nsamples = 901\\nvalue = 37337.289'),\n",
              " Text(35.22299349240781, 76.10399999999998, 'area <= 6.592\\nmse = 213163867.436\\nsamples = 112\\nvalue = 42477.67'),\n",
              " Text(32.68112798264642, 54.360000000000014, 'area <= 6.583\\nmse = 182250000.0\\nsamples = 12\\nvalue = 34500.0'),\n",
              " Text(31.954880694143167, 32.615999999999985, 'mse = 290555555.556\\nsamples = 6\\nvalue = 38333.333'),\n",
              " Text(33.407375271149675, 32.615999999999985, 'area <= 6.588\\nmse = 44555555.556\\nsamples = 6\\nvalue = 30666.667'),\n",
              " Text(32.68112798264642, 10.872000000000014, 'mse = 2666666.667\\nsamples = 3\\nvalue = 27000.0'),\n",
              " Text(34.13362255965293, 10.872000000000014, 'mse = 59555555.556\\nsamples = 3\\nvalue = 34333.333'),\n",
              " Text(37.764859002169196, 54.360000000000014, 'area <= 6.704\\nmse = 208319883.71\\nsamples = 100\\nvalue = 43434.99'),\n",
              " Text(36.31236442516269, 32.615999999999985, 'bedroom_num <= 1.5\\nmse = 210110572.357\\nsamples = 90\\nvalue = 44311.1'),\n",
              " Text(35.58611713665944, 10.872000000000014, 'mse = 210154159.876\\nsamples = 84\\nvalue = 44857.131'),\n",
              " Text(37.038611713665944, 10.872000000000014, 'mse = 146888888.889\\nsamples = 6\\nvalue = 36666.667'),\n",
              " Text(39.21735357917571, 32.615999999999985, 'area <= 6.739\\nmse = 123122500.0\\nsamples = 10\\nvalue = 35550.0'),\n",
              " Text(38.491106290672455, 10.872000000000014, 'mse = 3034722.222\\nsamples = 6\\nvalue = 38083.333'),\n",
              " Text(39.94360086767896, 10.872000000000014, 'mse = 279187500.0\\nsamples = 4\\nvalue = 31750.0'),\n",
              " Text(46.479826464208244, 76.10399999999998, 'bedroom_num <= 1.5\\nmse = 310350488.98\\nsamples = 789\\nvalue = 36607.602'),\n",
              " Text(43.57483731019523, 54.360000000000014, 'area <= 6.638\\nmse = 175449241.156\\nsamples = 161\\nvalue = 31691.304'),\n",
              " Text(42.122342733188724, 32.615999999999985, 'area <= 6.605\\nmse = 143004006.033\\nsamples = 103\\nvalue = 30029.126'),\n",
              " Text(41.396095444685464, 10.872000000000014, 'mse = 91026167.82\\nsamples = 34\\nvalue = 33897.059'),\n",
              " Text(42.848590021691976, 10.872000000000014, 'mse = 157611636.211\\nsamples = 69\\nvalue = 28123.188'),\n",
              " Text(45.02733188720174, 32.615999999999985, 'area <= 6.643\\nmse = 219447969.679\\nsamples = 58\\nvalue = 34643.103'),\n",
              " Text(44.30108459869848, 10.872000000000014, 'mse = 0.0\\nsamples = 1\\nvalue = 57000.0'),\n",
              " Text(45.75357917570499, 10.872000000000014, 'mse = 214375130.809\\nsamples = 57\\nvalue = 34250.877'),\n",
              " Text(49.38481561822126, 54.360000000000014, 'area <= 6.582\\nmse = 337150020.933\\nsamples = 628\\nvalue = 37867.99'),\n",
              " Text(47.93232104121475, 32.615999999999985, 'bathroom_num <= 1.573\\nmse = 409918367.347\\nsamples = 7\\nvalue = 60285.714'),\n",
              " Text(47.2060737527115, 10.872000000000014, 'mse = 353916666.667\\nsamples = 6\\nvalue = 64500.0'),\n",
              " Text(48.65856832971801, 10.872000000000014, 'mse = 0.0\\nsamples = 1\\nvalue = 35000.0'),\n",
              " Text(50.837310195227765, 32.615999999999985, 'area <= 6.755\\nmse = 330601046.913\\nsamples = 621\\nvalue = 37615.295'),\n",
              " Text(50.11106290672451, 10.872000000000014, 'mse = 357767014.55\\nsamples = 449\\nvalue = 38688.414'),\n",
              " Text(51.563557483731024, 10.872000000000014, 'mse = 248831549.486\\nsamples = 172\\nvalue = 34813.953'),\n",
              " Text(75.03042299349241, 141.336, 'bathroom_num <= 1.573\\nmse = 600233229.577\\nsamples = 2790\\nvalue = 47664.529'),\n",
              " Text(67.63177874186552, 119.592, 'area <= 6.904\\nmse = 537201180.941\\nsamples = 2674\\nvalue = 46770.895'),\n",
              " Text(60.09696312364425, 97.848, 'bedroom_num <= 2.5\\nmse = 360533082.54\\nsamples = 992\\nvalue = 41814.129'),\n",
              " Text(57.01041214750543, 76.10399999999998, 'area <= 6.897\\nmse = 349894275.394\\nsamples = 982\\nvalue = 41545.434'),\n",
              " Text(55.19479392624729, 54.360000000000014, 'area <= 6.893\\nmse = 353010945.34\\nsamples = 939\\nvalue = 41945.278'),\n",
              " Text(53.74229934924078, 32.615999999999985, 'area <= 6.889\\nmse = 336428103.724\\nsamples = 935\\nvalue = 41757.878'),\n",
              " Text(53.01605206073753, 10.872000000000014, 'mse = 337306612.999\\nsamples = 895\\nvalue = 41353.202'),\n",
              " Text(54.46854663774403, 10.872000000000014, 'mse = 231121093.75\\nsamples = 40\\nvalue = 50812.5'),\n",
              " Text(56.6472885032538, 32.615999999999985, 'area <= 6.895\\nmse = 2302187500.0\\nsamples = 4\\nvalue = 85750.0'),\n",
              " Text(55.921041214750545, 10.872000000000014, 'mse = 2179555555.556\\nsamples = 3\\nvalue = 100666.667'),\n",
              " Text(57.37353579175705, 10.872000000000014, 'mse = 0.0\\nsamples = 1\\nvalue = 41000.0'),\n",
              " Text(58.82603036876356, 54.360000000000014, 'bathroom_num <= 1.207\\nmse = 202104921.579\\nsamples = 43\\nvalue = 32813.953'),\n",
              " Text(58.09978308026031, 32.615999999999985, 'mse = 0.0\\nsamples = 1\\nvalue = 48000.0'),\n",
              " Text(59.55227765726681, 32.615999999999985, 'area <= 6.899\\nmse = 201295351.474\\nsamples = 42\\nvalue = 32452.381'),\n",
              " Text(58.82603036876356, 10.872000000000014, 'mse = 151984877.127\\nsamples = 23\\nvalue = 31434.783'),\n",
              " Text(60.278524945770066, 10.872000000000014, 'mse = 258216066.482\\nsamples = 19\\nvalue = 33684.211'),\n",
              " Text(63.18351409978308, 76.10399999999998, 'area <= 6.864\\nmse = 701960000.0\\nsamples = 10\\nvalue = 68200.0'),\n",
              " Text(61.73101952277658, 54.360000000000014, 'bathroom_num <= 1.207\\nmse = 389888888.889\\nsamples = 6\\nvalue = 55666.667'),\n",
              " Text(61.00477223427332, 32.615999999999985, 'mse = 0.0\\nsamples = 1\\nvalue = 40000.0'),\n",
              " Text(62.45726681127983, 32.615999999999985, 'area <= 6.829\\nmse = 408960000.0\\nsamples = 5\\nvalue = 58800.0'),\n",
              " Text(61.73101952277658, 10.872000000000014, 'mse = 174222222.222\\nsamples = 3\\nvalue = 57666.667'),\n",
              " Text(63.18351409978308, 10.872000000000014, 'mse = 756250000.0\\nsamples = 2\\nvalue = 60500.0'),\n",
              " Text(64.63600867678959, 54.360000000000014, 'area <= 6.88\\nmse = 581000000.0\\nsamples = 4\\nvalue = 87000.0'),\n",
              " Text(63.909761388286334, 32.615999999999985, 'mse = 0.0\\nsamples = 1\\nvalue = 120000.0'),\n",
              " Text(65.36225596529285, 32.615999999999985, 'area <= 6.894\\nmse = 290666666.667\\nsamples = 3\\nvalue = 76000.0'),\n",
              " Text(64.63600867678959, 10.872000000000014, 'mse = 289000000.0\\nsamples = 2\\nvalue = 69000.0'),\n",
              " Text(66.08850325379609, 10.872000000000014, 'mse = 0.0\\nsamples = 1\\nvalue = 90000.0'),\n",
              " Text(75.16659436008678, 97.848, 'bedroom_num <= 3.5\\nmse = 618358874.583\\nsamples = 1682\\nvalue = 49694.266'),\n",
              " Text(72.62472885032538, 76.10399999999998, 'area <= 6.955\\nmse = 587460757.565\\nsamples = 1680\\nvalue = 49562.355'),\n",
              " Text(69.71973969631236, 54.360000000000014, 'area <= 6.911\\nmse = 370239948.643\\nsamples = 686\\nvalue = 47206.58'),\n",
              " Text(68.26724511930585, 32.615999999999985, 'bedroom_num <= 1.5\\nmse = 412370396.154\\nsamples = 458\\nvalue = 49054.384'),\n",
              " Text(67.54099783080261, 10.872000000000014, 'mse = 254368055.556\\nsamples = 6\\nvalue = 34416.667'),\n",
              " Text(68.99349240780911, 10.872000000000014, 'mse = 411585821.386\\nsamples = 452\\nvalue = 49248.69'),\n",
              " Text(71.17223427331888, 32.615999999999985, 'area <= 6.916\\nmse = 264973192.005\\nsamples = 228\\nvalue = 43494.763'),\n",
              " Text(70.44598698481562, 10.872000000000014, 'mse = 118775510.204\\nsamples = 14\\nvalue = 33714.286'),\n",
              " Text(71.89848156182212, 10.872000000000014, 'mse = 267870142.65\\nsamples = 214\\nvalue = 44134.607'),\n",
              " Text(75.52971800433839, 54.360000000000014, 'area <= 6.96\\nmse = 730900375.037\\nsamples = 994\\nvalue = 51188.171'),\n",
              " Text(74.07722342733189, 32.615999999999985, 'area <= 6.959\\nmse = 1352506870.721\\nsamples = 410\\nvalue = 53283.056'),\n",
              " Text(73.35097613882864, 10.872000000000014, 'mse = 383563110.705\\nsamples = 406\\nvalue = 51761.214'),\n",
              " Text(74.80347071583515, 10.872000000000014, 'mse = 75605187500.0\\nsamples = 4\\nvalue = 207750.0'),\n",
              " Text(76.98221258134491, 32.615999999999985, 'area <= 7.002\\nmse = 289254527.055\\nsamples = 584\\nvalue = 49717.447'),\n",
              " Text(76.25596529284165, 10.872000000000014, 'mse = 295944035.202\\nsamples = 169\\nvalue = 44421.929'),\n",
              " Text(77.70845986984816, 10.872000000000014, 'mse = 270460204.345\\nsamples = 415\\nvalue = 51873.935'),\n",
              " Text(77.70845986984816, 76.10399999999998, 'area <= 6.932\\nmse = 14280250000.0\\nsamples = 2\\nvalue = 160500.0'),\n",
              " Text(76.98221258134491, 54.360000000000014, 'mse = 0.0\\nsamples = 1\\nvalue = 280000.0'),\n",
              " Text(78.43470715835142, 54.360000000000014, 'mse = 0.0\\nsamples = 1\\nvalue = 41000.0'),\n",
              " Text(82.42906724511931, 119.592, 'area <= 6.808\\nmse = 1610469509.864\\nsamples = 116\\nvalue = 68264.345'),\n",
              " Text(79.88720173535792, 97.848, 'bedroom_num <= 2.5\\nmse = 5329687500.0\\nsamples = 4\\nvalue = 128750.0'),\n",
              " Text(79.16095444685466, 76.10399999999998, 'mse = 6806250000.0\\nsamples = 2\\nvalue = 117500.0'),\n",
              " Text(80.61344902386118, 76.10399999999998, 'mse = 3600000000.0\\nsamples = 2\\nvalue = 140000.0'),\n",
              " Text(84.97093275488069, 97.848, 'area <= 6.944\\nmse = 1342312591.89\\nsamples = 112\\nvalue = 66104.143'),\n",
              " Text(82.06594360086768, 76.10399999999998, 'area <= 6.94\\nmse = 1979633409.144\\nsamples = 46\\nvalue = 75731.826'),\n",
              " Text(81.33969631236442, 54.360000000000014, 'area <= 6.83\\nmse = 2071734787.461\\nsamples = 38\\nvalue = 68778.5'),\n",
              " Text(79.88720173535792, 32.615999999999985, 'area <= 6.819\\nmse = 247722222.222\\nsamples = 3\\nvalue = 29833.333'),\n",
              " Text(79.16095444685466, 10.872000000000014, 'mse = 175562500.0\\nsamples = 2\\nvalue = 21750.0'),\n",
              " Text(80.61344902386118, 10.872000000000014, 'mse = 0.0\\nsamples = 1\\nvalue = 46000.0'),\n",
              " Text(82.79219088937093, 32.615999999999985, 'area <= 6.862\\nmse = 2086930342.225\\nsamples = 35\\nvalue = 72116.657'),\n",
              " Text(82.06594360086768, 10.872000000000014, 'mse = 5507250000.0\\nsamples = 6\\nvalue = 104500.0'),\n",
              " Text(83.51843817787419, 10.872000000000014, 'mse = 1117419511.881\\nsamples = 29\\nvalue = 65416.655'),\n",
              " Text(82.79219088937093, 54.360000000000014, 'mse = 221626800.609\\nsamples = 8\\nvalue = 108760.125'),\n",
              " Text(87.87592190889372, 76.10399999999998, 'bathroom_num <= 1.866\\nmse = 788488751.148\\nsamples = 66\\nvalue = 59393.939'),\n",
              " Text(87.14967462039046, 54.360000000000014, 'area <= 6.967\\nmse = 779928639.053\\nsamples = 65\\nvalue = 59953.846'),\n",
              " Text(85.69718004338395, 32.615999999999985, 'area <= 6.962\\nmse = 732058299.04\\nsamples = 27\\nvalue = 55314.815'),\n",
              " Text(84.97093275488069, 10.872000000000014, 'mse = 713183801.775\\nsamples = 26\\nvalue = 56634.615'),\n",
              " Text(86.42342733188721, 10.872000000000014, 'mse = 0.0\\nsamples = 1\\nvalue = 21000.0'),\n",
              " Text(88.60216919739696, 32.615999999999985, 'area <= 6.981\\nmse = 787786184.211\\nsamples = 38\\nvalue = 63250.0'),\n",
              " Text(87.87592190889372, 10.872000000000014, 'mse = 2256250000.0\\nsamples = 2\\nvalue = 127500.0'),\n",
              " Text(89.32841648590022, 10.872000000000014, 'mse = 464127121.914\\nsamples = 36\\nvalue = 59680.556'),\n",
              " Text(88.60216919739696, 54.360000000000014, 'mse = 0.0\\nsamples = 1\\nvalue = 23000.0'),\n",
              " Text(133.35715835141, 163.07999999999998, 'area <= 7.372\\nmse = 1963184580.93\\nsamples = 5287\\nvalue = 79717.888'),\n",
              " Text(109.52716919739697, 141.336, 'area <= 7.166\\nmse = 1080234054.008\\nsamples = 3715\\nvalue = 70305.977'),\n",
              " Text(101.49305856832972, 119.592, 'area <= 7.161\\nmse = 822480251.99\\nsamples = 1612\\nvalue = 63332.623'),\n",
              " Text(98.40650759219089, 97.848, 'area <= 7.159\\nmse = 840171842.297\\nsamples = 1542\\nvalue = 63800.543'),\n",
              " Text(95.8646420824295, 76.10399999999998, 'area <= 7.148\\nmse = 823263504.752\\nsamples = 1534\\nvalue = 63494.419'),\n",
              " Text(92.95965292841649, 54.360000000000014, 'area <= 7.069\\nmse = 793659392.362\\nsamples = 1485\\nvalue = 62998.275'),\n",
              " Text(91.50715835140998, 32.615999999999985, 'area <= 7.054\\nmse = 755024017.208\\nsamples = 410\\nvalue = 60002.68'),\n",
              " Text(90.78091106290672, 10.872000000000014, 'mse = 822431977.722\\nsamples = 356\\nvalue = 61879.492'),\n",
              " Text(92.23340563991323, 10.872000000000014, 'mse = 134316529.492\\nsamples = 54\\nvalue = 47629.63'),\n",
              " Text(94.412147505423, 32.615999999999985, 'area <= 7.12\\nmse = 803666941.863\\nsamples = 1075\\nvalue = 64140.78'),\n",
              " Text(93.68590021691975, 10.872000000000014, 'mse = 1075779293.642\\nsamples = 563\\nvalue = 66787.528'),\n",
              " Text(95.13839479392625, 10.872000000000014, 'mse = 488276230.539\\nsamples = 512\\nvalue = 61230.393'),\n",
              " Text(98.76963123644252, 54.360000000000014, 'bathroom_num <= 1.573\\nmse = 1486902124.115\\nsamples = 49\\nvalue = 78530.612'),\n",
              " Text(97.31713665943602, 32.615999999999985, 'area <= 7.158\\nmse = 1105142439.737\\nsamples = 37\\nvalue = 70783.784'),\n",
              " Text(96.59088937093276, 10.872000000000014, 'mse = 1180712580.349\\nsamples = 33\\nvalue = 73121.212'),\n",
              " Text(98.04338394793926, 10.872000000000014, 'mse = 64750000.0\\nsamples = 4\\nvalue = 51500.0'),\n",
              " Text(100.22212581344903, 32.615999999999985, 'area <= 7.156\\nmse = 1908409722.222\\nsamples = 12\\nvalue = 102416.667'),\n",
              " Text(99.49587852494577, 10.872000000000014, 'mse = 1754958677.686\\nsamples = 11\\nvalue = 107636.364'),\n",
              " Text(100.94837310195228, 10.872000000000014, 'mse = 0.0\\nsamples = 1\\nvalue = 45000.0'),\n",
              " Text(100.94837310195228, 76.10399999999998, 'bedroom_num <= 2.5\\nmse = 618750000.0\\nsamples = 8\\nvalue = 122500.0'),\n",
              " Text(100.22212581344903, 54.360000000000014, 'mse = 412244897.959\\nsamples = 7\\nvalue = 128571.429'),\n",
              " Text(101.67462039045553, 54.360000000000014, 'mse = 0.0\\nsamples = 1\\nvalue = 80000.0'),\n",
              " Text(104.57960954446855, 97.848, 'bathroom_num <= 1.573\\nmse = 321689553.571\\nsamples = 70\\nvalue = 53025.0'),\n",
              " Text(103.8533622559653, 76.10399999999998, 'area <= 7.162\\nmse = 204194437.87\\nsamples = 65\\nvalue = 50619.231'),\n",
              " Text(103.12711496746205, 54.360000000000014, 'mse = 0.0\\nsamples = 4\\nvalue = 35000.0'),\n",
              " Text(104.57960954446855, 54.360000000000014, 'area <= 7.165\\nmse = 200537825.853\\nsamples = 61\\nvalue = 51643.443'),\n",
              " Text(103.8533622559653, 32.615999999999985, 'area <= 7.163\\nmse = 204227608.495\\nsamples = 57\\nvalue = 52460.526'),\n",
              " Text(103.12711496746205, 10.872000000000014, 'mse = 216782983.543\\nsamples = 52\\nvalue = 51956.731'),\n",
              " Text(104.57960954446855, 10.872000000000014, 'mse = 43560000.0\\nsamples = 5\\nvalue = 57700.0'),\n",
              " Text(105.3058568329718, 32.615999999999985, 'mse = 2875000.0\\nsamples = 4\\nvalue = 40000.0'),\n",
              " Text(105.3058568329718, 76.10399999999998, 'mse = 795760000.0\\nsamples = 5\\nvalue = 84300.0'),\n",
              " Text(117.56127982646422, 119.592, 'bathroom_num <= 1.866\\nmse = 1211962627.698\\nsamples = 2103\\nvalue = 75651.221'),\n",
              " Text(113.11301518438178, 97.848, 'bedroom_num <= 3.5\\nmse = 1134888078.575\\nsamples = 2066\\nvalue = 74730.115'),\n",
              " Text(110.02646420824296, 76.10399999999998, 'area <= 7.31\\nmse = 1098457857.822\\nsamples = 2057\\nvalue = 74445.511'),\n",
              " Text(108.21084598698482, 54.360000000000014, 'bedroom_num <= 2.5\\nmse = 990806831.956\\nsamples = 1548\\nvalue = 72486.295'),\n",
              " Text(106.75835140997832, 32.615999999999985, 'area <= 7.179\\nmse = 1041949472.769\\nsamples = 577\\nvalue = 78352.86'),\n",
              " Text(106.03210412147506, 10.872000000000014, 'mse = 609852291.208\\nsamples = 134\\nvalue = 68465.664'),\n",
              " Text(107.48459869848156, 10.872000000000014, 'mse = 1134137486.417\\nsamples = 443\\nvalue = 81343.569'),\n",
              " Text(109.66334056399133, 32.615999999999985, 'area <= 7.17\\nmse = 927811816.245\\nsamples = 971\\nvalue = 69000.191'),\n",
              " Text(108.93709327548807, 10.872000000000014, 'mse = 684729600.0\\nsamples = 50\\nvalue = 85480.0'),\n",
              " Text(110.38958785249459, 10.872000000000014, 'mse = 925464048.354\\nsamples = 921\\nvalue = 68105.521'),\n",
              " Text(111.84208242950109, 54.360000000000014, 'area <= 7.311\\nmse = 1378674888.912\\nsamples = 509\\nvalue = 80403.992'),\n",
              " Text(111.11583514099783, 32.615999999999985, 'mse = 0.0\\nsamples = 1\\nvalue = 210000.0'),\n",
              " Text(112.56832971800434, 32.615999999999985, 'bathroom_num <= 1.573\\nmse = 1348262464.435\\nsamples = 508\\nvalue = 80148.882'),\n",
              " Text(111.84208242950109, 10.872000000000014, 'mse = 891610759.122\\nsamples = 162\\nvalue = 75210.63'),\n",
              " Text(113.2945770065076, 10.872000000000014, 'mse = 1545306665.121\\nsamples = 346\\nvalue = 82461.012'),\n",
              " Text(116.19956616052062, 76.10399999999998, 'area <= 7.273\\nmse = 5211506172.84\\nsamples = 9\\nvalue = 139777.778'),\n",
              " Text(114.7470715835141, 54.360000000000014, 'area <= 7.189\\nmse = 1933250000.0\\nsamples = 4\\nvalue = 84500.0'),\n",
              " Text(114.02082429501085, 32.615999999999985, 'mse = 3025000000.0\\nsamples = 2\\nvalue = 105000.0'),\n",
              " Text(115.47331887201736, 32.615999999999985, 'area <= 7.221\\nmse = 1000000.0\\nsamples = 2\\nvalue = 64000.0'),\n",
              " Text(114.7470715835141, 10.872000000000014, 'mse = 0.0\\nsamples = 1\\nvalue = 65000.0'),\n",
              " Text(116.19956616052062, 10.872000000000014, 'mse = 0.0\\nsamples = 1\\nvalue = 63000.0'),\n",
              " Text(117.65206073752712, 54.360000000000014, 'area <= 7.33\\nmse = 3434000000.0\\nsamples = 5\\nvalue = 184000.0'),\n",
              " Text(116.92581344902386, 32.615999999999985, 'mse = 3479687500.0\\nsamples = 4\\nvalue = 171250.0'),\n",
              " Text(118.37830802603037, 32.615999999999985, 'mse = 0.0\\nsamples = 1\\nvalue = 235000.0'),\n",
              " Text(122.00954446854664, 97.848, 'bathroom_num <= 2.118\\nmse = 2822955412.71\\nsamples = 37\\nvalue = 127083.784'),\n",
              " Text(120.55704989154013, 76.10399999999998, 'area <= 7.177\\nmse = 2504499542.857\\nsamples = 35\\nvalue = 122060.0'),\n",
              " Text(119.83080260303689, 54.360000000000014, 'mse = 0.0\\nsamples = 1\\nvalue = 20100.0'),\n",
              " Text(121.28329718004339, 54.360000000000014, 'area <= 7.338\\nmse = 2263408304.498\\nsamples = 34\\nvalue = 125058.824'),\n",
              " Text(119.83080260303689, 32.615999999999985, 'area <= 7.282\\nmse = 2449689600.0\\nsamples = 25\\nvalue = 136480.0'),\n",
              " Text(119.10455531453363, 10.872000000000014, 'mse = 2018991735.537\\nsamples = 11\\nvalue = 117909.091'),\n",
              " Text(120.55704989154013, 10.872000000000014, 'mse = 2304209183.673\\nsamples = 14\\nvalue = 151071.429'),\n",
              " Text(122.7357917570499, 32.615999999999985, 'area <= 7.346\\nmse = 377111111.111\\nsamples = 9\\nvalue = 93333.333'),\n",
              " Text(122.00954446854664, 10.872000000000014, 'mse = 0.0\\nsamples = 1\\nvalue = 52000.0'),\n",
              " Text(123.46203904555315, 10.872000000000014, 'mse = 184000000.0\\nsamples = 8\\nvalue = 98500.0'),\n",
              " Text(123.46203904555315, 76.10399999999998, 'bedroom_num <= 3.5\\nmse = 225000000.0\\nsamples = 2\\nvalue = 215000.0'),\n",
              " Text(122.7357917570499, 54.360000000000014, 'mse = 0.0\\nsamples = 1\\nvalue = 200000.0'),\n",
              " Text(124.1882863340564, 54.360000000000014, 'mse = 0.0\\nsamples = 1\\nvalue = 230000.0'),\n",
              " Text(157.18714750542298, 141.336, 'bathroom_num <= 1.866\\nmse = 3345726524.38\\nsamples = 1572\\nvalue = 101960.413'),\n",
              " Text(139.71182212581346, 119.592, 'area <= 7.474\\nmse = 3111051251.076\\nsamples = 1399\\nvalue = 98509.77'),\n",
              " Text(129.99826464208243, 97.848, 'bathroom_num <= 1.207\\nmse = 1859353318.775\\nsamples = 781\\nvalue = 90309.181'),\n",
              " Text(126.36702819956616, 76.10399999999998, 'area <= 7.396\\nmse = 2344000000.0\\nsamples = 5\\nvalue = 161000.0'),\n",
              " Text(125.6407809110629, 54.360000000000014, 'mse = 66666666.667\\nsamples = 3\\nvalue = 200000.0'),\n",
              " Text(127.09327548806942, 54.360000000000014, 'area <= 7.438\\nmse = 56250000.0\\nsamples = 2\\nvalue = 102500.0'),\n",
              " Text(126.36702819956616, 32.615999999999985, 'mse = 0.0\\nsamples = 1\\nvalue = 110000.0'),\n",
              " Text(127.81952277657267, 32.615999999999985, 'mse = 0.0\\nsamples = 1\\nvalue = 95000.0'),\n",
              " Text(133.6295010845987, 76.10399999999998, 'bathroom_num <= 1.573\\nmse = 1823824729.605\\nsamples = 776\\nvalue = 89853.698'),\n",
              " Text(130.7245119305857, 54.360000000000014, 'bedroom_num <= 2.5\\nmse = 572424005.714\\nsamples = 99\\nvalue = 73576.768'),\n",
              " Text(129.27201735357917, 32.615999999999985, 'area <= 7.395\\nmse = 629950617.284\\nsamples = 18\\nvalue = 85222.222'),\n",
              " Text(128.5457700650759, 10.872000000000014, 'mse = 431222222.222\\nsamples = 6\\nvalue = 77333.333'),\n",
              " Text(129.99826464208243, 10.872000000000014, 'mse = 682638888.889\\nsamples = 12\\nvalue = 89166.667'),\n",
              " Text(132.17700650759218, 32.615999999999985, 'area <= 7.41\\nmse = 522806172.84\\nsamples = 81\\nvalue = 70988.889'),\n",
              " Text(131.45075921908895, 10.872000000000014, 'mse = 594592994.586\\nsamples = 49\\nvalue = 68491.837'),\n",
              " Text(132.90325379609544, 10.872000000000014, 'mse = 388714843.75\\nsamples = 32\\nvalue = 74812.5'),\n",
              " Text(136.5344902386117, 54.360000000000014, 'bedroom_num <= 2.5\\nmse = 1962412943.038\\nsamples = 677\\nvalue = 92233.929'),\n",
              " Text(135.08199566160522, 32.615999999999985, 'area <= 7.393\\nmse = 2739053254.438\\nsamples = 13\\nvalue = 126153.846'),\n",
              " Text(134.35574837310196, 10.872000000000014, 'mse = 3906250000.0\\nsamples = 2\\nvalue = 212500.0'),\n",
              " Text(135.80824295010845, 10.872000000000014, 'mse = 924793388.43\\nsamples = 11\\nvalue = 110454.545'),\n",
              " Text(137.98698481561823, 32.615999999999985, 'area <= 7.427\\nmse = 1924240574.653\\nsamples = 664\\nvalue = 91569.834'),\n",
              " Text(137.26073752711497, 10.872000000000014, 'mse = 2334888132.017\\nsamples = 373\\nvalue = 89337.45'),\n",
              " Text(138.7132321041215, 10.872000000000014, 'mse = 1383302221.883\\nsamples = 291\\nvalue = 94431.275'),\n",
              " Text(149.42537960954448, 97.848, 'area <= 7.528\\nmse = 4500499830.034\\nsamples = 618\\nvalue = 108873.298'),\n",
              " Text(145.24945770065077, 76.10399999999998, 'area <= 7.51\\nmse = 2270829370.685\\nsamples = 394\\nvalue = 104552.282'),\n",
              " Text(142.34446854663776, 54.360000000000014, 'area <= 7.499\\nmse = 2076965205.209\\nsamples = 283\\nvalue = 108504.947'),\n",
              " Text(140.89197396963124, 32.615999999999985, 'area <= 7.48\\nmse = 2206304062.82\\nsamples = 205\\nvalue = 104723.902'),\n",
              " Text(140.16572668112798, 10.872000000000014, 'mse = 2563839335.18\\nsamples = 19\\nvalue = 126052.632'),\n",
              " Text(141.6182212581345, 10.872000000000014, 'mse = 2118564949.705\\nsamples = 186\\nvalue = 102545.161'),\n",
              " Text(143.79696312364425, 32.615999999999985, 'area <= 7.506\\nmse = 1600711415.187\\nsamples = 78\\nvalue = 118442.308'),\n",
              " Text(143.07071583514102, 10.872000000000014, 'mse = 2780262975.779\\nsamples = 17\\nvalue = 153176.471'),\n",
              " Text(144.5232104121475, 10.872000000000014, 'mse = 842054152.11\\nsamples = 61\\nvalue = 108762.295'),\n",
              " Text(148.15444685466377, 54.360000000000014, 'area <= 7.513\\nmse = 2623706291.17\\nsamples = 111\\nvalue = 94474.766'),\n",
              " Text(146.70195227765728, 32.615999999999985, 'bathroom_num <= 1.573\\nmse = 258684310.019\\nsamples = 23\\nvalue = 57478.261'),\n",
              " Text(145.97570498915402, 10.872000000000014, 'mse = 0.0\\nsamples = 1\\nvalue = 50000.0'),\n",
              " Text(147.42819956616052, 10.872000000000014, 'mse = 267785123.967\\nsamples = 22\\nvalue = 57818.182'),\n",
              " Text(149.6069414316703, 32.615999999999985, 'area <= 7.525\\nmse = 2790597789.19\\nsamples = 88\\nvalue = 104144.307'),\n",
              " Text(148.88069414316703, 10.872000000000014, 'mse = 3052830467.37\\nsamples = 78\\nvalue = 107137.167'),\n",
              " Text(150.33318872017355, 10.872000000000014, 'mse = 130360000.0\\nsamples = 10\\nvalue = 80800.0'),\n",
              " Text(153.6013015184382, 76.10399999999998, 'area <= 7.529\\nmse = 8331724185.476\\nsamples = 224\\nvalue = 116473.656'),\n",
              " Text(151.78568329718004, 54.360000000000014, 'bathroom_num <= 1.573\\nmse = 112587654320.988\\nsamples = 9\\nvalue = 201111.111'),\n",
              " Text(151.05943600867678, 32.615999999999985, 'mse = 0.0\\nsamples = 1\\nvalue = 85000.0'),\n",
              " Text(152.5119305856833, 32.615999999999985, 'mse = 124765234375.0\\nsamples = 8\\nvalue = 215625.0'),\n",
              " Text(155.4169197396963, 54.360000000000014, 'area <= 7.56\\nmse = 3655102480.269\\nsamples = 215\\nvalue = 112930.693'),\n",
              " Text(153.96442516268982, 32.615999999999985, 'area <= 7.557\\nmse = 5116530768.306\\nsamples = 104\\nvalue = 126825.962'),\n",
              " Text(153.23817787418656, 10.872000000000014, 'mse = 4508739774.684\\nsamples = 97\\nvalue = 121256.701'),\n",
              " Text(154.69067245119305, 10.872000000000014, 'mse = 7153142857.143\\nsamples = 7\\nvalue = 204000.0'),\n",
              " Text(156.86941431670283, 32.615999999999985, 'area <= 7.577\\nmse = 1935439861.254\\nsamples = 111\\nvalue = 99911.703'),\n",
              " Text(156.14316702819957, 10.872000000000014, 'mse = 1418563403.926\\nsamples = 44\\nvalue = 86897.727'),\n",
              " Text(157.5956616052061, 10.872000000000014, 'mse = 2090614774.664\\nsamples = 67\\nvalue = 108458.194'),\n",
              " Text(174.66247288503254, 119.592, 'bathroom_num <= 2.118\\nmse = 4368536274.326\\nsamples = 173\\nvalue = 129864.751'),\n",
              " Text(168.85249457700652, 97.848, 'area <= 7.59\\nmse = 4061454042.431\\nsamples = 160\\nvalue = 125241.262'),\n",
              " Text(164.13188720173537, 76.10399999999998, 'area <= 7.495\\nmse = 4299192033.086\\nsamples = 143\\nvalue = 129573.441'),\n",
              " Text(161.22689804772236, 54.360000000000014, 'area <= 7.45\\nmse = 2034019234.334\\nsamples = 71\\nvalue = 114577.493'),\n",
              " Text(159.77440347071584, 32.615999999999985, 'bedroom_num <= 3.5\\nmse = 2269737545.678\\nsamples = 50\\nvalue = 125680.04'),\n",
              " Text(159.04815618221258, 10.872000000000014, 'mse = 1299788085.938\\nsamples = 32\\nvalue = 113343.75'),\n",
              " Text(160.5006507592191, 10.872000000000014, 'mse = 3242565963.173\\nsamples = 18\\nvalue = 147611.222'),\n",
              " Text(162.67939262472885, 32.615999999999985, 'area <= 7.489\\nmse = 480503401.361\\nsamples = 21\\nvalue = 88142.857'),\n",
              " Text(161.9531453362256, 10.872000000000014, 'mse = 350210526.316\\nsamples = 19\\nvalue = 84000.0'),\n",
              " Text(163.4056399132321, 10.872000000000014, 'mse = 6250000.0\\nsamples = 2\\nvalue = 127500.0'),\n",
              " Text(167.03687635574838, 54.360000000000014, 'bedroom_num <= 3.5\\nmse = 6092473765.432\\nsamples = 72\\nvalue = 144361.111'),\n",
              " Text(165.58438177874186, 32.615999999999985, 'area <= 7.57\\nmse = 8048302930.057\\nsamples = 46\\nvalue = 154847.826'),\n",
              " Text(164.85813449023863, 10.872000000000014, 'mse = 8269566074.951\\nsamples = 39\\nvalue = 165153.846'),\n",
              " Text(166.31062906724512, 10.872000000000014, 'mse = 2926816326.531\\nsamples = 7\\nvalue = 97428.571'),\n",
              " Text(168.4893709327549, 32.615999999999985, 'area <= 7.571\\nmse = 2093366863.905\\nsamples = 26\\nvalue = 125807.692'),\n",
              " Text(167.76312364425164, 10.872000000000014, 'mse = 1965450113.379\\nsamples = 21\\nvalue = 118380.952'),\n",
              " Text(169.21561822125813, 10.872000000000014, 'mse = 1426000000.0\\nsamples = 5\\nvalue = 157000.0'),\n",
              " Text(173.57310195227765, 76.10399999999998, 'area <= 7.595\\nmse = 575822352.941\\nsamples = 17\\nvalue = 88800.0'),\n",
              " Text(172.12060737527116, 54.360000000000014, 'area <= 7.593\\nmse = 206930000.0\\nsamples = 8\\nvalue = 79950.0'),\n",
              " Text(171.3943600867679, 32.615999999999985, 'bedroom_num <= 3.5\\nmse = 150499183.673\\nsamples = 7\\nvalue = 83228.571'),\n",
              " Text(170.66811279826464, 10.872000000000014, 'mse = 70666666.667\\nsamples = 6\\nvalue = 87100.0'),\n",
              " Text(172.12060737527116, 10.872000000000014, 'mse = 0.0\\nsamples = 1\\nvalue = 60000.0'),\n",
              " Text(172.84685466377442, 32.615999999999985, 'mse = 0.0\\nsamples = 1\\nvalue = 57000.0'),\n",
              " Text(175.02559652928417, 54.360000000000014, 'area <= 7.596\\nmse = 772222222.222\\nsamples = 9\\nvalue = 96666.667'),\n",
              " Text(174.2993492407809, 32.615999999999985, 'mse = 0.0\\nsamples = 1\\nvalue = 165000.0'),\n",
              " Text(175.75184381778743, 32.615999999999985, 'area <= 7.597\\nmse = 212109375.0\\nsamples = 8\\nvalue = 88125.0'),\n",
              " Text(175.02559652928417, 10.872000000000014, 'mse = 117187500.0\\nsamples = 4\\nvalue = 81250.0'),\n",
              " Text(176.4780911062907, 10.872000000000014, 'mse = 212500000.0\\nsamples = 4\\nvalue = 95000.0'),\n",
              " Text(180.47245119305856, 97.848, 'bedroom_num <= 4.5\\nmse = 4646792899.408\\nsamples = 13\\nvalue = 186769.231'),\n",
              " Text(179.74620390455533, 76.10399999999998, 'bedroom_num <= 3.5\\nmse = 4273743055.556\\nsamples = 12\\nvalue = 194416.667'),\n",
              " Text(177.93058568329718, 54.360000000000014, 'area <= 7.418\\nmse = 3721000000.0\\nsamples = 2\\nvalue = 139000.0'),\n",
              " Text(177.20433839479392, 32.615999999999985, 'mse = 0.0\\nsamples = 1\\nvalue = 78000.0'),\n",
              " Text(178.65683297180044, 32.615999999999985, 'mse = 0.0\\nsamples = 1\\nvalue = 200000.0'),\n",
              " Text(181.56182212581345, 54.360000000000014, 'area <= 7.475\\nmse = 3647250000.0\\nsamples = 10\\nvalue = 205500.0'),\n",
              " Text(180.10932754880696, 32.615999999999985, 'area <= 7.431\\nmse = 2904687500.0\\nsamples = 4\\nvalue = 238750.0'),\n",
              " Text(179.3830802603037, 10.872000000000014, 'mse = 938888888.889\\nsamples = 3\\nvalue = 211666.667'),\n",
              " Text(180.8355748373102, 10.872000000000014, 'mse = 0.0\\nsamples = 1\\nvalue = 320000.0'),\n",
              " Text(183.01431670281997, 32.615999999999985, 'area <= 7.523\\nmse = 2913888888.889\\nsamples = 6\\nvalue = 183333.333'),\n",
              " Text(182.2880694143167, 10.872000000000014, 'mse = 506250000.0\\nsamples = 2\\nvalue = 202500.0'),\n",
              " Text(183.74056399132323, 10.872000000000014, 'mse = 3842187500.0\\nsamples = 4\\nvalue = 173750.0'),\n",
              " Text(181.19869848156182, 76.10399999999998, 'mse = 0.0\\nsamples = 1\\nvalue = 95000.0'),\n",
              " Text(281.7499050976139, 184.824, 'area <= 8.208\\nmse = 15902858402.51\\nsamples = 1556\\nvalue = 194312.542'),\n",
              " Text(243.13397505422995, 163.07999999999998, 'area <= 7.975\\nmse = 7692188971.726\\nsamples = 1417\\nvalue = 172675.593'),\n",
              " Text(217.60184381778743, 141.336, 'area <= 7.695\\nmse = 5821093813.052\\nsamples = 1132\\nvalue = 159575.453'),\n",
              " Text(202.3506507592191, 119.592, 'area <= 7.684\\nmse = 4172365781.229\\nsamples = 412\\nvalue = 139742.745'),\n",
              " Text(194.45271149674622, 97.848, 'area <= 7.661\\nmse = 4431302825.796\\nsamples = 356\\nvalue = 143280.93'),\n",
              " Text(189.91366594360088, 76.10399999999998, 'area <= 7.659\\nmse = 4185772179.145\\nsamples = 293\\nvalue = 136923.928'),\n",
              " Text(187.3718004338395, 54.360000000000014, 'area <= 7.652\\nmse = 4302706383.063\\nsamples = 271\\nvalue = 140537.31'),\n",
              " Text(185.91930585683298, 32.615999999999985, 'bathroom_num <= 1.573\\nmse = 3821544314.289\\nsamples = 260\\nvalue = 137952.35'),\n",
              " Text(185.19305856832972, 10.872000000000014, 'mse = 1656000000.0\\nsamples = 10\\nvalue = 93000.0'),\n",
              " Text(186.64555314533624, 10.872000000000014, 'mse = 3824104394.007\\nsamples = 250\\nvalue = 139750.444'),\n",
              " Text(188.824295010846, 32.615999999999985, 'area <= 7.653\\nmse = 11784595041.322\\nsamples = 11\\nvalue = 201636.364'),\n",
              " Text(188.09804772234273, 10.872000000000014, 'mse = 900000000.0\\nsamples = 2\\nvalue = 395000.0'),\n",
              " Text(189.55054229934925, 10.872000000000014, 'mse = 4048222222.222\\nsamples = 9\\nvalue = 158666.667'),\n",
              " Text(192.45553145336225, 54.360000000000014, 'bedroom_num <= 4.5\\nmse = 603356632.231\\nsamples = 22\\nvalue = 92413.636'),\n",
              " Text(191.729284164859, 32.615999999999985, 'area <= 7.66\\nmse = 578789115.646\\nsamples = 21\\nvalue = 90857.143'),\n",
              " Text(191.00303687635576, 10.872000000000014, 'mse = 860551020.408\\nsamples = 14\\nvalue = 91857.143'),\n",
              " Text(192.45553145336225, 10.872000000000014, 'mse = 9265306.122\\nsamples = 7\\nvalue = 88857.143'),\n",
              " Text(193.18177874186551, 32.615999999999985, 'mse = 0.0\\nsamples = 1\\nvalue = 125100.0'),\n",
              " Text(198.99175704989153, 76.10399999999998, 'area <= 7.673\\nmse = 4511174547.745\\nsamples = 63\\nvalue = 172846.032'),\n",
              " Text(196.08676789587852, 54.360000000000014, 'bathroom_num <= 1.866\\nmse = 6711982248.521\\nsamples = 26\\nvalue = 194307.692'),\n",
              " Text(194.63427331887203, 32.615999999999985, 'area <= 7.663\\nmse = 6057246913.58\\nsamples = 18\\nvalue = 218444.444'),\n",
              " Text(193.90802603036877, 10.872000000000014, 'mse = 5132000000.0\\nsamples = 8\\nvalue = 184000.0'),\n",
              " Text(195.36052060737526, 10.872000000000014, 'mse = 5089000000.0\\nsamples = 10\\nvalue = 246000.0'),\n",
              " Text(197.53926247288504, 32.615999999999985, 'bathroom_num <= 2.118\\nmse = 3925000000.0\\nsamples = 8\\nvalue = 140000.0'),\n",
              " Text(196.81301518438178, 10.872000000000014, 'mse = 2156250000.0\\nsamples = 6\\nvalue = 112500.0'),\n",
              " Text(198.2655097613883, 10.872000000000014, 'mse = 156250000.0\\nsamples = 2\\nvalue = 222500.0'),\n",
              " Text(201.89674620390457, 54.360000000000014, 'area <= 7.675\\nmse = 2413552549.306\\nsamples = 37\\nvalue = 157764.865'),\n",
              " Text(200.44425162689805, 32.615999999999985, 'bathroom_num <= 1.573\\nmse = 1596947368.421\\nsamples = 19\\nvalue = 149000.0'),\n",
              " Text(199.7180043383948, 10.872000000000014, 'mse = 56250000.0\\nsamples = 2\\nvalue = 192500.0'),\n",
              " Text(201.1704989154013, 10.872000000000014, 'mse = 1529397923.875\\nsamples = 17\\nvalue = 143882.353'),\n",
              " Text(203.34924078091106, 32.615999999999985, 'bathroom_num <= 1.866\\nmse = 3108838055.556\\nsamples = 18\\nvalue = 167016.667'),\n",
              " Text(202.62299349240783, 10.872000000000014, 'mse = 2944006920.415\\nsamples = 17\\nvalue = 171411.765'),\n",
              " Text(204.07548806941432, 10.872000000000014, 'mse = 0.0\\nsamples = 1\\nvalue = 92300.0'),\n",
              " Text(210.24859002169197, 97.848, 'area <= 7.689\\nmse = 1940758928.571\\nsamples = 56\\nvalue = 117250.0'),\n",
              " Text(208.43297180043385, 76.10399999999998, 'bathroom_num <= 1.866\\nmse = 686140589.569\\nsamples = 21\\nvalue = 104952.381'),\n",
              " Text(206.98047722342733, 54.360000000000014, 'area <= 7.686\\nmse = 1171890000.0\\nsamples = 10\\nvalue = 110100.0'),\n",
              " Text(206.2542299349241, 32.615999999999985, 'bathroom_num <= 1.573\\nmse = 1267984375.0\\nsamples = 8\\nvalue = 116375.0'),\n",
              " Text(205.52798264642084, 10.872000000000014, 'mse = 0.0\\nsamples = 1\\nvalue = 120000.0'),\n",
              " Text(206.98047722342733, 10.872000000000014, 'mse = 1446979591.837\\nsamples = 7\\nvalue = 115857.143'),\n",
              " Text(207.7067245119306, 32.615999999999985, 'mse = 0.0\\nsamples = 2\\nvalue = 85000.0'),\n",
              " Text(209.88546637744037, 54.360000000000014, 'area <= 7.685\\nmse = 198561983.471\\nsamples = 11\\nvalue = 100272.727'),\n",
              " Text(209.1592190889371, 32.615999999999985, 'mse = 45333333.333\\nsamples = 9\\nvalue = 94666.667'),\n",
              " Text(210.6117136659436, 32.615999999999985, 'bedroom_num <= 3.5\\nmse = 110250000.0\\nsamples = 2\\nvalue = 125500.0'),\n",
              " Text(209.88546637744037, 10.872000000000014, 'mse = 0.0\\nsamples = 1\\nvalue = 136000.0'),\n",
              " Text(211.33796095444686, 10.872000000000014, 'mse = 0.0\\nsamples = 1\\nvalue = 115000.0'),\n",
              " Text(212.06420824295012, 76.10399999999998, 'area <= 7.69\\nmse = 2548347755.102\\nsamples = 35\\nvalue = 124628.571'),\n",
              " Text(211.33796095444686, 54.360000000000014, 'mse = 0.0\\nsamples = 1\\nvalue = 275000.0'),\n",
              " Text(212.79045553145338, 54.360000000000014, 'area <= 7.691\\nmse = 1938692906.574\\nsamples = 34\\nvalue = 120205.882'),\n",
              " Text(212.06420824295012, 32.615999999999985, 'mse = 524000000.0\\nsamples = 5\\nvalue = 154000.0'),\n",
              " Text(213.51670281995663, 32.615999999999985, 'area <= 7.693\\nmse = 1951752675.386\\nsamples = 29\\nvalue = 114379.31'),\n",
              " Text(212.79045553145338, 10.872000000000014, 'mse = 487222222.222\\nsamples = 6\\nvalue = 91333.333'),\n",
              " Text(214.24295010845987, 10.872000000000014, 'mse = 2159107750.473\\nsamples = 23\\nvalue = 120391.304'),\n",
              " Text(232.85303687635576, 119.592, 'bedroom_num <= 3.5\\nmse = 6410663494.18\\nsamples = 720\\nvalue = 170924.169'),\n",
              " Text(222.7763557483731, 97.848, 'area <= 7.761\\nmse = 8127241563.233\\nsamples = 301\\nvalue = 183649.512'),\n",
              " Text(217.51106290672453, 76.10399999999998, 'area <= 7.696\\nmse = 6576172292.288\\nsamples = 142\\nvalue = 158250.021'),\n",
              " Text(215.69544468546638, 54.360000000000014, 'bathroom_num <= 1.866\\nmse = 494000000.0\\nsamples = 5\\nvalue = 241000.0'),\n",
              " Text(214.96919739696312, 32.615999999999985, 'mse = 56250000.0\\nsamples = 2\\nvalue = 267500.0'),\n",
              " Text(216.42169197396964, 32.615999999999985, 'mse = 5555555.556\\nsamples = 3\\nvalue = 223333.333'),\n",
              " Text(219.32668112798265, 54.360000000000014, 'area <= 7.744\\nmse = 6539117634.486\\nsamples = 137\\nvalue = 155229.949'),\n",
              " Text(217.87418655097613, 32.615999999999985, 'area <= 7.733\\nmse = 6796488545.558\\nsamples = 129\\nvalue = 157976.767'),\n",
              " Text(217.1479392624729, 10.872000000000014, 'mse = 7124598043.411\\nsamples = 112\\nvalue = 152714.312'),\n",
              " Text(218.6004338394794, 10.872000000000014, 'mse = 3250346020.761\\nsamples = 17\\nvalue = 192647.059'),\n",
              " Text(220.77917570498917, 32.615999999999985, 'area <= 7.759\\nmse = 305527343.75\\nsamples = 8\\nvalue = 110937.5'),\n",
              " Text(220.0529284164859, 10.872000000000014, 'mse = 211275510.204\\nsamples = 7\\nvalue = 106785.714'),\n",
              " Text(221.5054229934924, 10.872000000000014, 'mse = 0.0\\nsamples = 1\\nvalue = 140000.0'),\n",
              " Text(228.0416485900217, 76.10399999999998, 'area <= 7.782\\nmse = 8421759958.071\\nsamples = 159\\nvalue = 206333.333'),\n",
              " Text(225.13665943600867, 54.360000000000014, 'area <= 7.766\\nmse = 7474238227.147\\nsamples = 19\\nvalue = 241842.105'),\n",
              " Text(223.68416485900218, 32.615999999999985, 'area <= 7.764\\nmse = 6985243055.556\\nsamples = 12\\nvalue = 227083.333'),\n",
              " Text(222.95791757049892, 10.872000000000014, 'mse = 5474793388.43\\nsamples = 11\\nvalue = 240454.545'),\n",
              " Text(224.41041214750544, 10.872000000000014, 'mse = 0.0\\nsamples = 1\\nvalue = 80000.0'),\n",
              " Text(226.5891540130152, 32.615999999999985, 'area <= 7.774\\nmse = 7298979591.837\\nsamples = 7\\nvalue = 267142.857'),\n",
              " Text(225.86290672451193, 10.872000000000014, 'mse = 15000000000.0\\nsamples = 3\\nvalue = 300000.0'),\n",
              " Text(227.31540130151845, 10.872000000000014, 'mse = 106250000.0\\nsamples = 4\\nvalue = 242500.0'),\n",
              " Text(230.94663774403472, 54.360000000000014, 'area <= 7.894\\nmse = 8356010510.204\\nsamples = 140\\nvalue = 201514.286'),\n",
              " Text(229.4941431670282, 32.615999999999985, 'area <= 7.846\\nmse = 8567014413.989\\nsamples = 92\\nvalue = 189543.478'),\n",
              " Text(228.76789587852494, 10.872000000000014, 'mse = 11920300154.321\\nsamples = 54\\nvalue = 210861.111'),\n",
              " Text(230.22039045553146, 10.872000000000014, 'mse = 2238338815.789\\nsamples = 38\\nvalue = 159250.0'),\n",
              " Text(232.39913232104124, 32.615999999999985, 'area <= 7.907\\nmse = 7150498263.889\\nsamples = 48\\nvalue = 224458.333'),\n",
              " Text(231.67288503253798, 10.872000000000014, 'mse = 5999121093.75\\nsamples = 16\\nvalue = 278437.5'),\n",
              " Text(233.12537960954447, 10.872000000000014, 'mse = 5540874023.438\\nsamples = 32\\nvalue = 197468.75'),\n",
              " Text(242.9297180043384, 97.848, 'bathroom_num <= 2.118\\nmse = 4977614478.24\\nsamples = 419\\nvalue = 161782.575'),\n",
              " Text(237.84598698481562, 76.10399999999998, 'area <= 7.765\\nmse = 4900558783.484\\nsamples = 319\\nvalue = 157250.467'),\n",
              " Text(236.0303687635575, 54.360000000000014, 'area <= 7.763\\nmse = 4924695351.454\\nsamples = 76\\nvalue = 176406.579'),\n",
              " Text(235.30412147505425, 32.615999999999985, 'area <= 7.722\\nmse = 4583205002.667\\nsamples = 75\\nvalue = 174092.0'),\n",
              " Text(234.57787418655099, 10.872000000000014, 'mse = 2814812326.87\\nsamples = 38\\nvalue = 164236.842'),\n",
              " Text(236.0303687635575, 10.872000000000014, 'mse = 6197197925.493\\nsamples = 37\\nvalue = 184213.514'),\n",
              " Text(236.75661605206074, 32.615999999999985, 'mse = 0.0\\nsamples = 1\\nvalue = 350000.0'),\n",
              " Text(239.66160520607377, 54.360000000000014, 'area <= 7.878\\nmse = 4742346951.383\\nsamples = 243\\nvalue = 151259.255'),\n",
              " Text(238.20911062906725, 32.615999999999985, 'area <= 7.789\\nmse = 3217894382.434\\nsamples = 130\\nvalue = 136973.069'),\n",
              " Text(237.482863340564, 10.872000000000014, 'mse = 1357090782.933\\nsamples = 52\\nvalue = 125451.904'),\n",
              " Text(238.9353579175705, 10.872000000000014, 'mse = 4310944280.079\\nsamples = 78\\nvalue = 144653.846'),\n",
              " Text(241.11409978308026, 32.615999999999985, 'area <= 7.948\\nmse = 5991218732.869\\nsamples = 113\\nvalue = 167694.69'),\n",
              " Text(240.387852494577, 10.872000000000014, 'mse = 4365023152.852\\nsamples = 83\\nvalue = 159873.494'),\n",
              " Text(241.84034707158352, 10.872000000000014, 'mse = 9852888888.889\\nsamples = 30\\nvalue = 189333.333'),\n",
              " Text(248.01344902386117, 76.10399999999998, 'bedroom_num <= 4.5\\nmse = 4948882400.0\\nsamples = 100\\nvalue = 176240.0'),\n",
              " Text(245.4715835140998, 54.360000000000014, 'area <= 7.901\\nmse = 5305619253.651\\nsamples = 86\\nvalue = 183906.977'),\n",
              " Text(244.01908893709327, 32.615999999999985, 'area <= 7.745\\nmse = 4950126390.533\\nsamples = 65\\nvalue = 195476.923'),\n",
              " Text(243.29284164859004, 10.872000000000014, 'mse = 11573472222.222\\nsamples = 6\\nvalue = 242833.333'),\n",
              " Text(244.74533622559653, 10.872000000000014, 'mse = 4025308819.305\\nsamples = 59\\nvalue = 190661.017'),\n",
              " Text(246.9240780911063, 32.615999999999985, 'area <= 7.94\\nmse = 4709133786.848\\nsamples = 21\\nvalue = 148095.238'),\n",
              " Text(246.19783080260305, 10.872000000000014, 'mse = 1083866666.667\\nsamples = 15\\nvalue = 132000.0'),\n",
              " Text(247.65032537960954, 10.872000000000014, 'mse = 11505555555.556\\nsamples = 6\\nvalue = 188333.333'),\n",
              " Text(250.55531453362258, 54.360000000000014, 'area <= 7.95\\nmse = 178265306.122\\nsamples = 14\\nvalue = 129142.857'),\n",
              " Text(249.82906724511932, 32.615999999999985, 'area <= 7.702\\nmse = 113100591.716\\nsamples = 13\\nvalue = 126769.231'),\n",
              " Text(249.10281995661606, 10.872000000000014, 'mse = 169000000.0\\nsamples = 2\\nvalue = 137000.0'),\n",
              " Text(250.55531453362258, 10.872000000000014, 'mse = 80446280.992\\nsamples = 11\\nvalue = 124909.091'),\n",
              " Text(251.2815618221258, 32.615999999999985, 'mse = 0.0\\nsamples = 1\\nvalue = 160000.0'),\n",
              " Text(268.6661062906725, 141.336, 'bedroom_num <= 3.5\\nmse = 11734994284.062\\nsamples = 285\\nvalue = 224708.428'),\n",
              " Text(261.7213665943601, 119.592, 'area <= 8.033\\nmse = 7000346522.282\\nsamples = 49\\nvalue = 274020.408'),\n",
              " Text(256.7284164859002, 97.848, 'bathroom_num <= 1.866\\nmse = 7731818181.818\\nsamples = 11\\nvalue = 310000.0'),\n",
              " Text(254.91279826464208, 76.10399999999998, 'area <= 8.013\\nmse = 4458333333.333\\nsamples = 6\\nvalue = 345000.0'),\n",
              " Text(253.4603036876356, 54.360000000000014, 'area <= 7.992\\nmse = 5700000000.0\\nsamples = 4\\nvalue = 330000.0'),\n",
              " Text(252.73405639913233, 32.615999999999985, 'mse = 0.0\\nsamples = 1\\nvalue = 300000.0'),\n",
              " Text(254.18655097613885, 32.615999999999985, 'mse = 7200000000.0\\nsamples = 3\\nvalue = 340000.0'),\n",
              " Text(256.3652928416486, 54.360000000000014, 'area <= 8.023\\nmse = 625000000.0\\nsamples = 2\\nvalue = 375000.0'),\n",
              " Text(255.63904555314534, 32.615999999999985, 'mse = 0.0\\nsamples = 1\\nvalue = 400000.0'),\n",
              " Text(257.0915401301518, 32.615999999999985, 'mse = 0.0\\nsamples = 1\\nvalue = 350000.0'),\n",
              " Text(258.54403470715835, 76.10399999999998, 'bathroom_num <= 2.118\\nmse = 8426000000.0\\nsamples = 5\\nvalue = 268000.0'),\n",
              " Text(257.8177874186551, 54.360000000000014, 'mse = 9954687500.0\\nsamples = 4\\nvalue = 278750.0'),\n",
              " Text(259.2702819956616, 54.360000000000014, 'mse = 0.0\\nsamples = 1\\nvalue = 225000.0'),\n",
              " Text(266.71431670282, 97.848, 'area <= 8.097\\nmse = 6305396814.404\\nsamples = 38\\nvalue = 263605.263'),\n",
              " Text(262.5383947939263, 76.10399999999998, 'area <= 8.045\\nmse = 8397694444.444\\nsamples = 18\\nvalue = 236500.0'),\n",
              " Text(260.7227765726681, 54.360000000000014, 'bathroom_num <= 1.866\\nmse = 10488888888.889\\nsamples = 6\\nvalue = 273333.333'),\n",
              " Text(259.99652928416486, 32.615999999999985, 'mse = 12675000000.0\\nsamples = 4\\nvalue = 305000.0'),\n",
              " Text(261.4490238611714, 32.615999999999985, 'mse = 100000000.0\\nsamples = 2\\nvalue = 210000.0'),\n",
              " Text(264.35401301518436, 54.360000000000014, 'bathroom_num <= 1.866\\nmse = 6334576388.889\\nsamples = 12\\nvalue = 218083.333'),\n",
              " Text(262.9015184381779, 32.615999999999985, 'area <= 8.075\\nmse = 5222222222.222\\nsamples = 6\\nvalue = 171666.667'),\n",
              " Text(262.17527114967464, 10.872000000000014, 'mse = 4838888888.889\\nsamples = 3\\nvalue = 218333.333'),\n",
              " Text(263.62776572668116, 10.872000000000014, 'mse = 1250000000.0\\nsamples = 3\\nvalue = 125000.0'),\n",
              " Text(265.8065075921909, 32.615999999999985, 'area <= 8.08\\nmse = 3137916666.667\\nsamples = 6\\nvalue = 264500.0'),\n",
              " Text(265.0802603036876, 10.872000000000014, 'mse = 1805555555.556\\nsamples = 3\\nvalue = 241666.667'),\n",
              " Text(266.53275488069414, 10.872000000000014, 'mse = 3427555555.556\\nsamples = 3\\nvalue = 287333.333'),\n",
              " Text(270.8902386117137, 76.10399999999998, 'area <= 8.172\\nmse = 3166000000.0\\nsamples = 20\\nvalue = 288000.0'),\n",
              " Text(270.16399132321044, 54.360000000000014, 'area <= 8.102\\nmse = 3230193905.817\\nsamples = 19\\nvalue = 290263.158'),\n",
              " Text(268.7114967462039, 32.615999999999985, 'bathroom_num <= 1.866\\nmse = 2122222222.222\\nsamples = 9\\nvalue = 298333.333'),\n",
              " Text(267.98524945770066, 10.872000000000014, 'mse = 3417187500.0\\nsamples = 4\\nvalue = 308750.0'),\n",
              " Text(269.4377440347072, 10.872000000000014, 'mse = 930000000.0\\nsamples = 5\\nvalue = 290000.0'),\n",
              " Text(271.6164859002169, 32.615999999999985, 'area <= 8.107\\nmse = 4116000000.0\\nsamples = 10\\nvalue = 283000.0'),\n",
              " Text(270.8902386117137, 10.872000000000014, 'mse = 0.0\\nsamples = 1\\nvalue = 250000.0'),\n",
              " Text(272.34273318872016, 10.872000000000014, 'mse = 4438888888.889\\nsamples = 9\\nvalue = 286666.667'),\n",
              " Text(271.6164859002169, 54.360000000000014, 'mse = 0.0\\nsamples = 1\\nvalue = 245000.0'),\n",
              " Text(275.6108459869848, 119.592, 'area <= 7.988\\nmse = 12108327663.223\\nsamples = 236\\nvalue = 214469.924'),\n",
              " Text(273.0689804772234, 97.848, 'area <= 7.983\\nmse = 41472000000.0\\nsamples = 3\\nvalue = 406000.0'),\n",
              " Text(272.34273318872016, 76.10399999999998, 'mse = 0.0\\nsamples = 1\\nvalue = 118000.0'),\n",
              " Text(273.7952277657267, 76.10399999999998, 'mse = 0.0\\nsamples = 2\\nvalue = 550000.0'),\n",
              " Text(278.15271149674624, 97.848, 'area <= 8.135\\nmse = 11251849993.606\\nsamples = 233\\nvalue = 212003.871'),\n",
              " Text(275.2477223427332, 76.10399999999998, 'bathroom_num <= 1.366\\nmse = 8968562361.955\\nsamples = 181\\nvalue = 200955.249'),\n",
              " Text(274.52147505422994, 54.360000000000014, 'mse = 0.0\\nsamples = 1\\nvalue = 500000.0'),\n",
              " Text(275.97396963123646, 54.360000000000014, 'bedroom_num <= 4.5\\nmse = 8518806684.877\\nsamples = 180\\nvalue = 199293.889'),\n",
              " Text(274.52147505422994, 32.615999999999985, 'area <= 8.042\\nmse = 8829262670.775\\nsamples = 169\\nvalue = 202886.982'),\n",
              " Text(273.7952277657267, 10.872000000000014, 'mse = 16526531855.956\\nsamples = 38\\nvalue = 233315.789'),\n",
              " Text(275.2477223427332, 10.872000000000014, 'mse = 6249971554.105\\nsamples = 131\\nvalue = 194060.305'),\n",
              " Text(277.426464208243, 32.615999999999985, 'area <= 8.086\\nmse = 503355371.901\\nsamples = 11\\nvalue = 144090.909'),\n",
              " Text(276.7002169197397, 10.872000000000014, 'mse = 369600000.0\\nsamples = 10\\nvalue = 140000.0'),\n",
              " Text(278.15271149674624, 10.872000000000014, 'mse = 0.0\\nsamples = 1\\nvalue = 185000.0'),\n",
              " Text(281.0577006507592, 76.10399999999998, 'area <= 8.148\\nmse = 17295547523.706\\nsamples = 52\\nvalue = 250461.577'),\n",
              " Text(280.33145336225596, 54.360000000000014, 'mse = 0.0\\nsamples = 1\\nvalue = 750000.0'),\n",
              " Text(281.7839479392625, 54.360000000000014, 'bathroom_num <= 2.343\\nmse = 12645821973.894\\nsamples = 51\\nvalue = 240666.706'),\n",
              " Text(280.33145336225596, 32.615999999999985, 'area <= 8.194\\nmse = 12989934330.802\\nsamples = 41\\nvalue = 261829.317'),\n",
              " Text(279.6052060737527, 10.872000000000014, 'mse = 12869656635.802\\nsamples = 36\\nvalue = 276805.556'),\n",
              " Text(281.0577006507592, 10.872000000000014, 'mse = 613986800.24\\nsamples = 5\\nvalue = 154000.4'),\n",
              " Text(283.236442516269, 32.615999999999985, 'area <= 8.175\\nmse = 1870290000.0\\nsamples = 10\\nvalue = 153900.0'),\n",
              " Text(282.51019522776573, 10.872000000000014, 'mse = 267580246.914\\nsamples = 9\\nvalue = 140444.444'),\n",
              " Text(283.96268980477225, 10.872000000000014, 'mse = 0.0\\nsamples = 1\\nvalue = 275000.0'),\n",
              " Text(320.36583514099783, 163.07999999999998, 'area <= 8.487\\nmse = 46179756534.341\\nsamples = 139\\nvalue = 414884.892'),\n",
              " Text(310.8338394793926, 141.336, 'area <= 8.405\\nmse = 25011617540.611\\nsamples = 109\\nvalue = 349247.706'),\n",
              " Text(299.758568329718, 119.592, 'bathroom_num <= 2.118\\nmse = 22729744475.305\\nsamples = 91\\nvalue = 327505.495'),\n",
              " Text(291.4067245119306, 97.848, 'area <= 8.248\\nmse = 7682435491.172\\nsamples = 47\\nvalue = 275893.617'),\n",
              " Text(287.23080260303686, 76.10399999999998, 'area <= 8.23\\nmse = 4532198347.107\\nsamples = 11\\nvalue = 324272.727'),\n",
              " Text(285.4151843817788, 54.360000000000014, 'area <= 8.223\\nmse = 2070250000.0\\nsamples = 2\\nvalue = 254500.0'),\n",
              " Text(284.6889370932755, 32.615999999999985, 'mse = 0.0\\nsamples = 1\\nvalue = 300000.0'),\n",
              " Text(286.14143167028203, 32.615999999999985, 'mse = 0.0\\nsamples = 1\\nvalue = 209000.0'),\n",
              " Text(289.046420824295, 54.360000000000014, 'area <= 8.239\\nmse = 3757061728.395\\nsamples = 9\\nvalue = 339777.778'),\n",
              " Text(287.5939262472885, 32.615999999999985, 'area <= 8.232\\nmse = 267187500.0\\nsamples = 4\\nvalue = 386250.0'),\n",
              " Text(286.86767895878523, 10.872000000000014, 'mse = 0.0\\nsamples = 1\\nvalue = 360000.0'),\n",
              " Text(288.32017353579175, 10.872000000000014, 'mse = 50000000.0\\nsamples = 3\\nvalue = 395000.0'),\n",
              " Text(290.49891540130153, 32.615999999999985, 'area <= 8.242\\nmse = 3439040000.0\\nsamples = 5\\nvalue = 302600.0'),\n",
              " Text(289.77266811279827, 10.872000000000014, 'mse = 0.0\\nsamples = 1\\nvalue = 223000.0'),\n",
              " Text(291.2251626898048, 10.872000000000014, 'mse = 2318750000.0\\nsamples = 4\\nvalue = 322500.0'),\n",
              " Text(295.5826464208243, 76.10399999999998, 'area <= 8.29\\nmse = 7711320987.654\\nsamples = 36\\nvalue = 261111.111'),\n",
              " Text(294.13015184381777, 54.360000000000014, 'area <= 8.281\\nmse = 865234375.0\\nsamples = 16\\nvalue = 220625.0'),\n",
              " Text(293.40390455531457, 32.615999999999985, 'bathroom_num <= 1.866\\nmse = 983984375.0\\nsamples = 8\\nvalue = 235625.0'),\n",
              " Text(292.6776572668113, 10.872000000000014, 'mse = 116666666.667\\nsamples = 3\\nvalue = 215000.0'),\n",
              " Text(294.13015184381777, 10.872000000000014, 'mse = 1096000000.0\\nsamples = 5\\nvalue = 248000.0'),\n",
              " Text(294.85639913232103, 32.615999999999985, 'mse = 296484375.0\\nsamples = 8\\nvalue = 205625.0'),\n",
              " Text(297.0351409978308, 54.360000000000014, 'area <= 8.306\\nmse = 10827850000.0\\nsamples = 20\\nvalue = 293500.0'),\n",
              " Text(296.30889370932755, 32.615999999999985, 'mse = 5000000000.0\\nsamples = 3\\nvalue = 400000.0'),\n",
              " Text(297.76138828633407, 32.615999999999985, 'area <= 8.326\\nmse = 9501501730.104\\nsamples = 17\\nvalue = 274705.882'),\n",
              " Text(297.0351409978308, 10.872000000000014, 'mse = 144666666.667\\nsamples = 3\\nvalue = 208000.0'),\n",
              " Text(298.4876355748373, 10.872000000000014, 'mse = 10348714285.714\\nsamples = 14\\nvalue = 289000.0'),\n",
              " Text(308.11041214750543, 97.848, 'area <= 8.322\\nmse = 32918185950.413\\nsamples = 44\\nvalue = 382636.364'),\n",
              " Text(304.660737527115, 76.10399999999998, 'area <= 8.29\\nmse = 40006482830.385\\nsamples = 31\\nvalue = 420032.258'),\n",
              " Text(302.11887201735357, 54.360000000000014, 'area <= 8.246\\nmse = 38624013605.442\\nsamples = 21\\nvalue = 376714.286'),\n",
              " Text(300.6663774403471, 32.615999999999985, 'area <= 8.242\\nmse = 43274390532.544\\nsamples = 13\\nvalue = 452384.615'),\n",
              " Text(299.94013015184385, 10.872000000000014, 'mse = 2660937500.0\\nsamples = 8\\nvalue = 373750.0'),\n",
              " Text(301.3926247288503, 10.872000000000014, 'mse = 82532960000.0\\nsamples = 5\\nvalue = 578200.0'),\n",
              " Text(303.5713665943601, 32.615999999999985, 'area <= 8.251\\nmse = 6642187500.0\\nsamples = 8\\nvalue = 253750.0'),\n",
              " Text(302.8451193058568, 10.872000000000014, 'mse = 0.0\\nsamples = 1\\nvalue = 125000.0'),\n",
              " Text(304.29761388286335, 10.872000000000014, 'mse = 4884693877.551\\nsamples = 7\\nvalue = 272142.857'),\n",
              " Text(307.2026030368764, 54.360000000000014, 'bedroom_num <= 4.5\\nmse = 30694000000.0\\nsamples = 10\\nvalue = 511000.0'),\n",
              " Text(306.4763557483731, 32.615999999999985, 'area <= 8.304\\nmse = 23793209876.543\\nsamples = 9\\nvalue = 478888.889'),\n",
              " Text(305.75010845986986, 10.872000000000014, 'mse = 23967187500.0\\nsamples = 8\\nvalue = 461250.0'),\n",
              " Text(307.2026030368764, 10.872000000000014, 'mse = 0.0\\nsamples = 1\\nvalue = 620000.0'),\n",
              " Text(307.92885032537964, 32.615999999999985, 'mse = 0.0\\nsamples = 1\\nvalue = 800000.0'),\n",
              " Text(311.5600867678959, 76.10399999999998, 'area <= 8.347\\nmse = 4728402366.864\\nsamples = 13\\nvalue = 293461.538'),\n",
              " Text(310.10759219088936, 54.360000000000014, 'bathroom_num <= 2.343\\nmse = 410937500.0\\nsamples = 8\\nvalue = 271250.0'),\n",
              " Text(309.3813449023861, 32.615999999999985, 'mse = 120408163.265\\nsamples = 7\\nvalue = 277857.143'),\n",
              " Text(310.8338394793926, 32.615999999999985, 'mse = 0.0\\nsamples = 1\\nvalue = 225000.0'),\n",
              " Text(313.0125813449024, 54.360000000000014, 'area <= 8.351\\nmse = 9584000000.0\\nsamples = 5\\nvalue = 329000.0'),\n",
              " Text(312.28633405639914, 32.615999999999985, 'mse = 0.0\\nsamples = 1\\nvalue = 500000.0'),\n",
              " Text(313.73882863340566, 32.615999999999985, 'area <= 8.378\\nmse = 2842187500.0\\nsamples = 4\\nvalue = 286250.0'),\n",
              " Text(313.0125813449024, 10.872000000000014, 'mse = 288888888.889\\nsamples = 3\\nvalue = 256666.667'),\n",
              " Text(314.4650759219089, 10.872000000000014, 'mse = 0.0\\nsamples = 1\\nvalue = 375000.0'),\n",
              " Text(321.90911062906724, 119.592, 'area <= 8.45\\nmse = 22075694444.444\\nsamples = 18\\nvalue = 459166.667'),\n",
              " Text(319.18568329718005, 97.848, 'bedroom_num <= 4.5\\nmse = 19509722222.222\\nsamples = 12\\nvalue = 523333.333'),\n",
              " Text(317.3700650759219, 76.10399999999998, 'area <= 8.423\\nmse = 18952250000.0\\nsamples = 10\\nvalue = 550500.0'),\n",
              " Text(315.91757049891544, 54.360000000000014, 'area <= 8.411\\nmse = 11080859375.0\\nsamples = 8\\nvalue = 513125.0'),\n",
              " Text(315.1913232104122, 32.615999999999985, 'mse = 0.0\\nsamples = 1\\nvalue = 650000.0'),\n",
              " Text(316.64381778741864, 32.615999999999985, 'area <= 8.417\\nmse = 9605102040.816\\nsamples = 7\\nvalue = 493571.429'),\n",
              " Text(315.91757049891544, 10.872000000000014, 'mse = 8600000000.0\\nsamples = 5\\nvalue = 495000.0'),\n",
              " Text(317.3700650759219, 10.872000000000014, 'mse = 12100000000.0\\nsamples = 2\\nvalue = 490000.0'),\n",
              " Text(318.8225596529284, 54.360000000000014, 'area <= 8.434\\nmse = 22500000000.0\\nsamples = 2\\nvalue = 700000.0'),\n",
              " Text(318.09631236442516, 32.615999999999985, 'mse = 0.0\\nsamples = 1\\nvalue = 850000.0'),\n",
              " Text(319.5488069414317, 32.615999999999985, 'mse = 0.0\\nsamples = 1\\nvalue = 550000.0'),\n",
              " Text(321.0013015184382, 76.10399999999998, 'bathroom_num <= 2.225\\nmse = 156250000.0\\nsamples = 2\\nvalue = 387500.0'),\n",
              " Text(320.27505422993494, 54.360000000000014, 'mse = 0.0\\nsamples = 1\\nvalue = 375000.0'),\n",
              " Text(321.72754880694146, 54.360000000000014, 'mse = 0.0\\nsamples = 1\\nvalue = 400000.0'),\n",
              " Text(324.63253796095444, 97.848, 'bedroom_num <= 4.5\\nmse = 2503472222.222\\nsamples = 6\\nvalue = 330833.333'),\n",
              " Text(323.9062906724512, 76.10399999999998, 'bathroom_num <= 2.118\\nmse = 167187500.0\\nsamples = 4\\nvalue = 296250.0'),\n",
              " Text(323.180043383948, 54.360000000000014, 'mse = 0.0\\nsamples = 1\\nvalue = 275000.0'),\n",
              " Text(324.63253796095444, 54.360000000000014, 'mse = 22222222.222\\nsamples = 3\\nvalue = 303333.333'),\n",
              " Text(325.3587852494577, 76.10399999999998, 'mse = 0.0\\nsamples = 2\\nvalue = 400000.0'),\n",
              " Text(329.89783080260304, 141.336, 'bathroom_num <= 1.573\\nmse = 50563832222.222\\nsamples = 30\\nvalue = 653366.667'),\n",
              " Text(329.1715835140998, 119.592, 'mse = 0.0\\nsamples = 1\\nvalue = 175000.0'),\n",
              " Text(330.6240780911063, 119.592, 'bathroom_num <= 2.548\\nmse = 44144463733.65\\nsamples = 29\\nvalue = 669862.069'),\n",
              " Text(328.62689804772236, 97.848, 'bathroom_num <= 2.343\\nmse = 39860182400.0\\nsamples = 25\\nvalue = 702240.0'),\n",
              " Text(326.8112798264642, 76.10399999999998, 'area <= 9.06\\nmse = 37096060941.828\\nsamples = 19\\nvalue = 656789.474'),\n",
              " Text(326.08503253796096, 54.360000000000014, 'area <= 8.752\\nmse = 33218987654.321\\nsamples = 18\\nvalue = 639111.111'),\n",
              " Text(324.63253796095444, 32.615999999999985, 'bedroom_num <= 4.5\\nmse = 26815662222.222\\nsamples = 15\\nvalue = 671933.333'),\n",
              " Text(323.9062906724512, 10.872000000000014, 'mse = 27547472222.222\\nsamples = 12\\nvalue = 706166.667'),\n",
              " Text(325.3587852494577, 10.872000000000014, 'mse = 450000000.0\\nsamples = 3\\nvalue = 535000.0'),\n",
              " Text(327.5375271149675, 32.615999999999985, 'bedroom_num <= 4.5\\nmse = 32916666666.667\\nsamples = 3\\nvalue = 475000.0'),\n",
              " Text(326.8112798264642, 10.872000000000014, 'mse = 26406250000.0\\nsamples = 2\\nvalue = 387500.0'),\n",
              " Text(328.26377440347073, 10.872000000000014, 'mse = 0.0\\nsamples = 1\\nvalue = 650000.0'),\n",
              " Text(327.5375271149675, 54.360000000000014, 'mse = 0.0\\nsamples = 1\\nvalue = 975000.0'),\n",
              " Text(330.4425162689805, 76.10399999999998, 'area <= 8.625\\nmse = 21356805555.556\\nsamples = 6\\nvalue = 846166.667'),\n",
              " Text(329.71626898047725, 54.360000000000014, 'mse = 0.0\\nsamples = 1\\nvalue = 650000.0'),\n",
              " Text(331.1687635574837, 54.360000000000014, 'area <= 8.87\\nmse = 16392640000.0\\nsamples = 5\\nvalue = 885400.0'),\n",
              " Text(330.4425162689805, 32.615999999999985, 'area <= 8.724\\nmse = 3174187500.0\\nsamples = 4\\nvalue = 944250.0'),\n",
              " Text(329.71626898047725, 10.872000000000014, 'mse = 0.0\\nsamples = 1\\nvalue = 1000000.0'),\n",
              " Text(331.1687635574837, 10.872000000000014, 'mse = 2850888888.889\\nsamples = 3\\nvalue = 925666.667'),\n",
              " Text(331.895010845987, 32.615999999999985, 'mse = 0.0\\nsamples = 1\\nvalue = 650000.0'),\n",
              " Text(332.62125813449023, 97.848, 'area <= 8.565\\nmse = 23418750000.0\\nsamples = 4\\nvalue = 467500.0'),\n",
              " Text(331.895010845987, 76.10399999999998, 'mse = 0.0\\nsamples = 1\\nvalue = 700000.0'),\n",
              " Text(333.3475054229935, 76.10399999999998, 'area <= 8.642\\nmse = 7200000000.0\\nsamples = 3\\nvalue = 390000.0'),\n",
              " Text(332.62125813449023, 54.360000000000014, 'mse = 0.0\\nsamples = 1\\nvalue = 270000.0'),\n",
              " Text(334.07375271149675, 54.360000000000014, 'mse = 0.0\\nsamples = 2\\nvalue = 450000.0')]"
            ]
          },
          "metadata": {
            "tags": []
          },
          "execution_count": 68
        },
        {
          "output_type": "display_data",
          "data": {
            "image/png": "[encoded data removed]",
            "text/plain": [
              "<Figure size 432x288 with 1 Axes>"
            ]
          },
          "metadata": {
            "tags": [],
            "needs_background": "light"
          }
        }
      ]
    },
    {
      "cell_type": "code",
      "metadata": {
        "colab": {
          "base_uri": "https://localhost:8080/",
          "height": 340
        },
        "id": "NdFuUbbkxRtu",
        "outputId": "cb1d1620-0d01-41ed-d845-85837a2c4da4"
      },
      "source": [
        "df_dt = pd.DataFrame({'Target original':y_test1,\r\n",
        "                      'Target predicted':y_pred})\r\n",
        "df_dt.head(10)"
      ],
      "execution_count": 69,
      "outputs": [
        {
          "output_type": "execute_result",
          "data": {
            "text/html": [
              "<div>\n",
              "<style scoped>\n",
              "    .dataframe tbody tr th:only-of-type {\n",
              "        vertical-align: middle;\n",
              "    }\n",
              "\n",
              "    .dataframe tbody tr th {\n",
              "        vertical-align: top;\n",
              "    }\n",
              "\n",
              "    .dataframe thead th {\n",
              "        text-align: right;\n",
              "    }\n",
              "</style>\n",
              "<table border=\"1\" class=\"dataframe\">\n",
              "  <thead>\n",
              "    <tr style=\"text-align: right;\">\n",
              "      <th></th>\n",
              "      <th>Target original</th>\n",
              "      <th>Target predicted</th>\n",
              "    </tr>\n",
              "  </thead>\n",
              "  <tbody>\n",
              "    <tr>\n",
              "      <th>16242</th>\n",
              "      <td>50000</td>\n",
              "      <td>49562.354762</td>\n",
              "    </tr>\n",
              "    <tr>\n",
              "      <th>20808</th>\n",
              "      <td>55000</td>\n",
              "      <td>74445.511424</td>\n",
              "    </tr>\n",
              "    <tr>\n",
              "      <th>5593</th>\n",
              "      <td>24500</td>\n",
              "      <td>31685.129412</td>\n",
              "    </tr>\n",
              "    <tr>\n",
              "      <th>16391</th>\n",
              "      <td>40000</td>\n",
              "      <td>74445.511424</td>\n",
              "    </tr>\n",
              "    <tr>\n",
              "      <th>8974</th>\n",
              "      <td>32000</td>\n",
              "      <td>27310.320840</td>\n",
              "    </tr>\n",
              "    <tr>\n",
              "      <th>21002</th>\n",
              "      <td>60000</td>\n",
              "      <td>49562.354762</td>\n",
              "    </tr>\n",
              "    <tr>\n",
              "      <th>19177</th>\n",
              "      <td>46000</td>\n",
              "      <td>63494.418514</td>\n",
              "    </tr>\n",
              "    <tr>\n",
              "      <th>15061</th>\n",
              "      <td>35000</td>\n",
              "      <td>63494.418514</td>\n",
              "    </tr>\n",
              "    <tr>\n",
              "      <th>22892</th>\n",
              "      <td>75000</td>\n",
              "      <td>49562.354762</td>\n",
              "    </tr>\n",
              "    <tr>\n",
              "      <th>33020</th>\n",
              "      <td>175000</td>\n",
              "      <td>136923.928328</td>\n",
              "    </tr>\n",
              "  </tbody>\n",
              "</table>\n",
              "</div>"
            ],
            "text/plain": [
              "       Target original  Target predicted\n",
              "16242            50000      49562.354762\n",
              "20808            55000      74445.511424\n",
              "5593             24500      31685.129412\n",
              "16391            40000      74445.511424\n",
              "8974             32000      27310.320840\n",
              "21002            60000      49562.354762\n",
              "19177            46000      63494.418514\n",
              "15061            35000      63494.418514\n",
              "22892            75000      49562.354762\n",
              "33020           175000     136923.928328"
            ]
          },
          "metadata": {
            "tags": []
          },
          "execution_count": 69
        }
      ]
    },
    {
      "cell_type": "code",
      "metadata": {
        "colab": {
          "base_uri": "https://localhost:8080/"
        },
        "id": "b8HQTvO8xRry",
        "outputId": "43576455-cc2d-4bf0-efd4-5e62cebc89dc"
      },
      "source": [
        "df_dt_ip = pd.DataFrame({'Area_of_flat':input(\"Enter the area of the flat : \"),\r\n",
        "                         'Bedroom_num' : input(\"Enter the number of bedrooms : \"),\r\n",
        "                         'Bathroom_num' : input(\"Enter the number of bathrooms : \")\r\n",
        "                         }, index=range(1))"
      ],
      "execution_count": 77,
      "outputs": [
        {
          "output_type": "stream",
          "text": [
            "Enter the area of the flat : 3000\n",
            "Enter the number of bedrooms : 4\n",
            "Enter the number of bathrooms : 4\n"
          ],
          "name": "stdout"
        }
      ]
    },
    {
      "cell_type": "code",
      "metadata": {
        "colab": {
          "base_uri": "https://localhost:8080/"
        },
        "id": "ruUkATYXxRqa",
        "outputId": "517e68e8-6181-40b3-a356-42eb48ac044b"
      },
      "source": [
        "dt.predict(df_dt_ip)\r\n"
      ],
      "execution_count": 78,
      "outputs": [
        {
          "output_type": "execute_result",
          "data": {
            "text/plain": [
              "array([390000.])"
            ]
          },
          "metadata": {
            "tags": []
          },
          "execution_count": 78
        }
      ]
    },
    {
      "cell_type": "code",
      "metadata": {
        "id": "fyyB91UpxRoo"
      },
      "source": [
        ""
      ],
      "execution_count": null,
      "outputs": []
    },
    {
      "cell_type": "code",
      "metadata": {
        "id": "DnY2jdGWxRmo"
      },
      "source": [
        ""
      ],
      "execution_count": null,
      "outputs": []
    },
    {
      "cell_type": "code",
      "metadata": {
        "id": "TY6fwgqpxRkv"
      },
      "source": [
        ""
      ],
      "execution_count": null,
      "outputs": []
    },
    {
      "cell_type": "code",
      "metadata": {
        "id": "sZbR4FSvxRi1"
      },
      "source": [
        ""
      ],
      "execution_count": null,
      "outputs": []
    },
    {
      "cell_type": "code",
      "metadata": {
        "id": "p_k0OdjbxRg3"
      },
      "source": [
        ""
      ],
      "execution_count": null,
      "outputs": []
    },
    {
      "cell_type": "code",
      "metadata": {
        "id": "Dt53jLI4xRdZ"
      },
      "source": [
        ""
      ],
      "execution_count": null,
      "outputs": []
    },
    {
      "cell_type": "code",
      "metadata": {
        "id": "wmT9j76sxRbZ"
      },
      "source": [
        ""
      ],
      "execution_count": null,
      "outputs": []
    },
    {
      "cell_type": "code",
      "metadata": {
        "id": "GQk4zKyLxRZM"
      },
      "source": [
        ""
      ],
      "execution_count": null,
      "outputs": []
    },
    {
      "cell_type": "code",
      "metadata": {
        "id": "0rSeCed-xRVX"
      },
      "source": [
        ""
      ],
      "execution_count": null,
      "outputs": []
    },
    {
      "cell_type": "code",
      "metadata": {
        "id": "8pmik-6oxRS4"
      },
      "source": [
        ""
      ],
      "execution_count": null,
      "outputs": []
    }
  ]
}